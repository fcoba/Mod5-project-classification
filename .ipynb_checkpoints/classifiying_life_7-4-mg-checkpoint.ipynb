{
 "cells": [
  {
   "cell_type": "markdown",
   "metadata": {},
   "source": [
    "# Mod 5 Project: Classifying Life Expectancy \n",
    "## (World Health Organization Data)"
   ]
  },
  {
   "cell_type": "markdown",
   "metadata": {},
   "source": [
    "**Group Partners: Filis, Manisha, Pablo**\n",
    "\n",
    "___"
   ]
  },
  {
   "cell_type": "markdown",
   "metadata": {},
   "source": [
    "Ran the following commands in terminal to install Profiling (visualizing data), and Altair (map):\n",
    "\n",
    "```\n",
    "conda install -c conda-forge altair vega_datasets notebook vega\n",
    "```\n",
    "\n",
    "```\n",
    "conda install -c anaconda pandas-profiling\n",
    "```"
   ]
  },
  {
   "cell_type": "markdown",
   "metadata": {},
   "source": [
    "## Import libraries"
   ]
  },
  {
   "cell_type": "code",
   "execution_count": 4,
   "metadata": {},
   "outputs": [],
   "source": [
    "#Data Manipulation\n",
    "import pandas as pd  \n",
    "import numpy as np\n",
    "\n",
    "# #Making Map Visualizations\n",
    "# # import altair as alt\n",
    "# # alt.renderers.enable('notebook')\n",
    "# # from vega_datasets import data\n",
    "\n",
    "# #Making Line Plot Visualizations\n",
    "# import plotly.plotly as py \n",
    "# import cufflinks as cf \n",
    "# from plotly.offline import download_plotlyjs, init_notebook_mode, plot, iplot \n",
    "# init_notebook_mode(connected=True) \n",
    "# cf.go_offline()\n",
    "\n",
    "# #Displaying EDA Profile\n",
    "# import pandas_profiling\n",
    "\n",
    "#Disabling warnings \n",
    "import warnings\n",
    "warnings.filterwarnings('ignore')\n",
    "\n",
    "# Classifiers\n",
    "from sklearn.ensemble import BaggingClassifier, RandomForestClassifier\n",
    "from random import randint\n",
    "from sklearn.model_selection import train_test_split\n",
    "from sklearn.tree import DecisionTreeClassifier \n",
    "from sklearn import tree \n",
    "from sklearn import svm\n",
    "\n",
    "# Measuring models and feature importance\n",
    "from sklearn import metrics\n",
    "from sklearn.metrics import accuracy_score, confusion_matrix, classification_report, roc_curve, auc\n",
    "import matplotlib.pyplot as plt\n",
    "%matplotlib inline\n",
    "\n",
    "# sklearn processing stuff\n",
    "from sklearn.model_selection import GridSearchCV\n",
    "from sklearn.pipeline import make_pipeline\n",
    "from sklearn.model_selection import cross_validate, cross_val_score, cross_val_predict\n",
    "from sklearn import preprocessing"
   ]
  },
  {
   "cell_type": "markdown",
   "metadata": {},
   "source": [
    "## Read in csv and display first five rows"
   ]
  },
  {
   "cell_type": "code",
   "execution_count": 5,
   "metadata": {
    "scrolled": true
   },
   "outputs": [
    {
     "data": {
      "text/html": [
       "<div>\n",
       "<style scoped>\n",
       "    .dataframe tbody tr th:only-of-type {\n",
       "        vertical-align: middle;\n",
       "    }\n",
       "\n",
       "    .dataframe tbody tr th {\n",
       "        vertical-align: top;\n",
       "    }\n",
       "\n",
       "    .dataframe thead th {\n",
       "        text-align: right;\n",
       "    }\n",
       "</style>\n",
       "<table border=\"1\" class=\"dataframe\">\n",
       "  <thead>\n",
       "    <tr style=\"text-align: right;\">\n",
       "      <th></th>\n",
       "      <th>Country</th>\n",
       "      <th>Year</th>\n",
       "      <th>Status</th>\n",
       "      <th>Life expectancy</th>\n",
       "      <th>Adult Mortality</th>\n",
       "      <th>infant deaths</th>\n",
       "      <th>Alcohol</th>\n",
       "      <th>percentage expenditure</th>\n",
       "      <th>Hepatitis B</th>\n",
       "      <th>Measles</th>\n",
       "      <th>...</th>\n",
       "      <th>Polio</th>\n",
       "      <th>Total expenditure</th>\n",
       "      <th>Diphtheria</th>\n",
       "      <th>HIV/AIDS</th>\n",
       "      <th>GDP</th>\n",
       "      <th>Population</th>\n",
       "      <th>thinness  1-19 years</th>\n",
       "      <th>thinness 5-9 years</th>\n",
       "      <th>Income composition of resources</th>\n",
       "      <th>Schooling</th>\n",
       "    </tr>\n",
       "  </thead>\n",
       "  <tbody>\n",
       "    <tr>\n",
       "      <th>0</th>\n",
       "      <td>Afghanistan</td>\n",
       "      <td>2015</td>\n",
       "      <td>Developing</td>\n",
       "      <td>65.0</td>\n",
       "      <td>263.0</td>\n",
       "      <td>62</td>\n",
       "      <td>0.01</td>\n",
       "      <td>71.279624</td>\n",
       "      <td>65.0</td>\n",
       "      <td>1154</td>\n",
       "      <td>...</td>\n",
       "      <td>6.0</td>\n",
       "      <td>8.16</td>\n",
       "      <td>65.0</td>\n",
       "      <td>0.1</td>\n",
       "      <td>584.259210</td>\n",
       "      <td>33736494.0</td>\n",
       "      <td>17.2</td>\n",
       "      <td>17.3</td>\n",
       "      <td>0.479</td>\n",
       "      <td>10.1</td>\n",
       "    </tr>\n",
       "    <tr>\n",
       "      <th>1</th>\n",
       "      <td>Afghanistan</td>\n",
       "      <td>2014</td>\n",
       "      <td>Developing</td>\n",
       "      <td>59.9</td>\n",
       "      <td>271.0</td>\n",
       "      <td>64</td>\n",
       "      <td>0.01</td>\n",
       "      <td>73.523582</td>\n",
       "      <td>62.0</td>\n",
       "      <td>492</td>\n",
       "      <td>...</td>\n",
       "      <td>58.0</td>\n",
       "      <td>8.18</td>\n",
       "      <td>62.0</td>\n",
       "      <td>0.1</td>\n",
       "      <td>612.696514</td>\n",
       "      <td>327582.0</td>\n",
       "      <td>17.5</td>\n",
       "      <td>17.5</td>\n",
       "      <td>0.476</td>\n",
       "      <td>10.0</td>\n",
       "    </tr>\n",
       "    <tr>\n",
       "      <th>2</th>\n",
       "      <td>Afghanistan</td>\n",
       "      <td>2013</td>\n",
       "      <td>Developing</td>\n",
       "      <td>59.9</td>\n",
       "      <td>268.0</td>\n",
       "      <td>66</td>\n",
       "      <td>0.01</td>\n",
       "      <td>73.219243</td>\n",
       "      <td>64.0</td>\n",
       "      <td>430</td>\n",
       "      <td>...</td>\n",
       "      <td>62.0</td>\n",
       "      <td>8.13</td>\n",
       "      <td>64.0</td>\n",
       "      <td>0.1</td>\n",
       "      <td>631.744976</td>\n",
       "      <td>31731688.0</td>\n",
       "      <td>17.7</td>\n",
       "      <td>17.7</td>\n",
       "      <td>0.470</td>\n",
       "      <td>9.9</td>\n",
       "    </tr>\n",
       "    <tr>\n",
       "      <th>3</th>\n",
       "      <td>Afghanistan</td>\n",
       "      <td>2012</td>\n",
       "      <td>Developing</td>\n",
       "      <td>59.5</td>\n",
       "      <td>272.0</td>\n",
       "      <td>69</td>\n",
       "      <td>0.01</td>\n",
       "      <td>78.184215</td>\n",
       "      <td>67.0</td>\n",
       "      <td>2787</td>\n",
       "      <td>...</td>\n",
       "      <td>67.0</td>\n",
       "      <td>8.52</td>\n",
       "      <td>67.0</td>\n",
       "      <td>0.1</td>\n",
       "      <td>669.959000</td>\n",
       "      <td>3696958.0</td>\n",
       "      <td>17.9</td>\n",
       "      <td>18.0</td>\n",
       "      <td>0.463</td>\n",
       "      <td>9.8</td>\n",
       "    </tr>\n",
       "    <tr>\n",
       "      <th>4</th>\n",
       "      <td>Afghanistan</td>\n",
       "      <td>2011</td>\n",
       "      <td>Developing</td>\n",
       "      <td>59.2</td>\n",
       "      <td>275.0</td>\n",
       "      <td>71</td>\n",
       "      <td>0.01</td>\n",
       "      <td>7.097109</td>\n",
       "      <td>68.0</td>\n",
       "      <td>3013</td>\n",
       "      <td>...</td>\n",
       "      <td>68.0</td>\n",
       "      <td>7.87</td>\n",
       "      <td>68.0</td>\n",
       "      <td>0.1</td>\n",
       "      <td>63.537231</td>\n",
       "      <td>2978599.0</td>\n",
       "      <td>18.2</td>\n",
       "      <td>18.2</td>\n",
       "      <td>0.454</td>\n",
       "      <td>9.5</td>\n",
       "    </tr>\n",
       "  </tbody>\n",
       "</table>\n",
       "<p>5 rows × 22 columns</p>\n",
       "</div>"
      ],
      "text/plain": [
       "       Country  Year      Status  Life expectancy   Adult Mortality  \\\n",
       "0  Afghanistan  2015  Developing              65.0            263.0   \n",
       "1  Afghanistan  2014  Developing              59.9            271.0   \n",
       "2  Afghanistan  2013  Developing              59.9            268.0   \n",
       "3  Afghanistan  2012  Developing              59.5            272.0   \n",
       "4  Afghanistan  2011  Developing              59.2            275.0   \n",
       "\n",
       "   infant deaths  Alcohol  percentage expenditure  Hepatitis B  Measles   ...  \\\n",
       "0             62     0.01               71.279624         65.0      1154  ...   \n",
       "1             64     0.01               73.523582         62.0       492  ...   \n",
       "2             66     0.01               73.219243         64.0       430  ...   \n",
       "3             69     0.01               78.184215         67.0      2787  ...   \n",
       "4             71     0.01                7.097109         68.0      3013  ...   \n",
       "\n",
       "   Polio  Total expenditure  Diphtheria    HIV/AIDS         GDP  Population  \\\n",
       "0    6.0               8.16         65.0        0.1  584.259210  33736494.0   \n",
       "1   58.0               8.18         62.0        0.1  612.696514    327582.0   \n",
       "2   62.0               8.13         64.0        0.1  631.744976  31731688.0   \n",
       "3   67.0               8.52         67.0        0.1  669.959000   3696958.0   \n",
       "4   68.0               7.87         68.0        0.1   63.537231   2978599.0   \n",
       "\n",
       "    thinness  1-19 years   thinness 5-9 years  \\\n",
       "0                   17.2                 17.3   \n",
       "1                   17.5                 17.5   \n",
       "2                   17.7                 17.7   \n",
       "3                   17.9                 18.0   \n",
       "4                   18.2                 18.2   \n",
       "\n",
       "   Income composition of resources  Schooling  \n",
       "0                            0.479       10.1  \n",
       "1                            0.476       10.0  \n",
       "2                            0.470        9.9  \n",
       "3                            0.463        9.8  \n",
       "4                            0.454        9.5  \n",
       "\n",
       "[5 rows x 22 columns]"
      ]
     },
     "execution_count": 5,
     "metadata": {},
     "output_type": "execute_result"
    }
   ],
   "source": [
    "df = pd.read_csv('Life Expectancy Data.csv')\n",
    "df.head()"
   ]
  },
  {
   "cell_type": "markdown",
   "metadata": {},
   "source": [
    "## Dimensions of dataset "
   ]
  },
  {
   "cell_type": "code",
   "execution_count": 6,
   "metadata": {},
   "outputs": [
    {
     "data": {
      "text/plain": [
       "(2938, 22)"
      ]
     },
     "execution_count": 6,
     "metadata": {},
     "output_type": "execute_result"
    }
   ],
   "source": [
    "df.shape"
   ]
  },
  {
   "cell_type": "markdown",
   "metadata": {},
   "source": [
    "## Check for NaN's in out entire dataset"
   ]
  },
  {
   "cell_type": "code",
   "execution_count": 4,
   "metadata": {
    "collapsed": true
   },
   "outputs": [
    {
     "data": {
      "text/plain": [
       "Population                         652\n",
       "Hepatitis B                        553\n",
       "GDP                                448\n",
       "Total expenditure                  226\n",
       "Alcohol                            194\n",
       "Income composition of resources    167\n",
       "Schooling                          163\n",
       " BMI                                34\n",
       " thinness  1-19 years               34\n",
       " thinness 5-9 years                 34\n",
       "Diphtheria                          19\n",
       "Polio                               19\n",
       "Adult Mortality                     10\n",
       "Life expectancy                     10\n",
       "under-five deaths                    0\n",
       " HIV/AIDS                            0\n",
       "Measles                              0\n",
       "percentage expenditure               0\n",
       "infant deaths                        0\n",
       "Status                               0\n",
       "Year                                 0\n",
       "Country                              0\n",
       "dtype: int64"
      ]
     },
     "execution_count": 4,
     "metadata": {},
     "output_type": "execute_result"
    }
   ],
   "source": [
    "df.isna().sum().sort_values(ascending=False)"
   ]
  },
  {
   "cell_type": "markdown",
   "metadata": {},
   "source": [
    "## Visualizing the distribution of our potential target variable, life expectancy"
   ]
  },
  {
   "cell_type": "code",
   "execution_count": 5,
   "metadata": {},
   "outputs": [
    {
     "data": {
      "text/plain": [
       "<matplotlib.axes._subplots.AxesSubplot at 0x1c244480f0>"
      ]
     },
     "execution_count": 5,
     "metadata": {},
     "output_type": "execute_result"
    },
    {
     "data": {
      "image/png": "[encoded data removed]",
      "text/plain": [
       "<Figure size 432x288 with 1 Axes>"
      ]
     },
     "metadata": {
      "needs_background": "light"
     },
     "output_type": "display_data"
    }
   ],
   "source": [
    "df['Life expectancy '].hist()"
   ]
  },
  {
   "cell_type": "markdown",
   "metadata": {},
   "source": [
    "## Seeing any trend of the life expectancies with respect to years"
   ]
  },
  {
   "cell_type": "code",
   "execution_count": 6,
   "metadata": {
    "scrolled": false
   },
   "outputs": [],
   "source": [
    "# #This plot of life expectancies is of one country with respect to years. \n",
    "# df_group.loc['Albania'].iplot(y='Life expectancy ')\n",
    "# print('Albania')\n"
   ]
  },
  {
   "cell_type": "code",
   "execution_count": 9,
   "metadata": {
    "scrolled": false
   },
   "outputs": [
    {
     "data": {
      "image/png": "[encoded data removed]",
      "text/plain": [
       "<Figure size 1008x864 with 1 Axes>"
      ]
     },
     "metadata": {
      "needs_background": "light"
     },
     "output_type": "display_data"
    }
   ],
   "source": [
    "df_group = df.set_index(['Country', 'Year'])\n",
    "plt.rc('xtick',labelsize=20)\n",
    "plt.rc('ytick',labelsize=20)\n",
    "countries = df['Country'].unique()\n",
    "fig = plt.figure(figsize=(14,12))\n",
    "ax = fig.add_subplot(111)\n",
    "plt.ylabel('Life Expectancy', fontsize=20)\n",
    "plt.xlabel('Years', fontsize=20)\n",
    "plt.title('Life Expectancies per Year', fontsize=20)\n",
    "\n",
    "for country in countries[80:100]:\n",
    "    df_group.loc[country].plot(y='Life expectancy ', ax=ax)\n",
    "L = plt.legend(countries[80:100])\n",
    "\n",
    "plt.savefig('Life Expectacies per Year.png')"
   ]
  },
  {
   "cell_type": "markdown",
   "metadata": {},
   "source": [
    "#### Finding: Most countries appear relatively flat, indicating a small correlation with time dependence. We investigate this more below. "
   ]
  },
  {
   "cell_type": "markdown",
   "metadata": {},
   "source": [
    "## Using profiling to speed up exporatory data analysis (EDA)"
   ]
  },
  {
   "cell_type": "code",
   "execution_count": 8,
   "metadata": {},
   "outputs": [],
   "source": [
    "# profile = pandas_profiling.ProfileReport(df)"
   ]
  },
  {
   "cell_type": "code",
   "execution_count": 9,
   "metadata": {
    "scrolled": true
   },
   "outputs": [],
   "source": [
    "# from IPython.core.display import display, HTML\n",
    "# display(HTML(profile.html))\n"
   ]
  },
  {
   "cell_type": "markdown",
   "metadata": {},
   "source": [
    "## Displaying the columns in our dataset"
   ]
  },
  {
   "cell_type": "code",
   "execution_count": 10,
   "metadata": {
    "collapsed": true
   },
   "outputs": [
    {
     "data": {
      "text/plain": [
       "Index(['Country', 'Year', 'Status', 'Life expectancy ', 'Adult Mortality',\n",
       "       'infant deaths', 'Alcohol', 'percentage expenditure', 'Hepatitis B',\n",
       "       'Measles ', ' BMI ', 'under-five deaths ', 'Polio', 'Total expenditure',\n",
       "       'Diphtheria ', ' HIV/AIDS', 'GDP', 'Population',\n",
       "       ' thinness  1-19 years', ' thinness 5-9 years',\n",
       "       'Income composition of resources', 'Schooling'],\n",
       "      dtype='object')"
      ]
     },
     "execution_count": 10,
     "metadata": {},
     "output_type": "execute_result"
    }
   ],
   "source": [
    "df.columns"
   ]
  },
  {
   "cell_type": "markdown",
   "metadata": {},
   "source": [
    "## Column descriptions"
   ]
  },
  {
   "cell_type": "markdown",
   "metadata": {},
   "source": [
    "`Status`\n",
    "Developed or Developing status\n",
    "\n",
    "`Life expectancy` \n",
    "Life Expectancy in age\n",
    "\n",
    "`Adult Mortality`\n",
    "Adult Mortality Rates of both sexes (probability of dying between 15 and 60 years per 1000 population)\n",
    "\n",
    "`infant deaths`\n",
    "Number of Infant Deaths per 1000 population\n",
    "\n",
    "`Alcohol`\n",
    "Alcohol, recorded per capita (15+) consumption (in litres of pure alcohol)\n",
    "\n",
    "`percentage expenditure`\n",
    "Expenditure on health as a percentage of Gross Domestic Product per capita(%)\n",
    "\n",
    "`Hepatitis B`\n",
    "Hepatitis B (HepB) immunization coverage among 1-year-olds (%)\n",
    "\n",
    "`Measles` \n",
    "Measles - number of reported cases per 1000 population\n",
    "\n",
    "`BMI` \n",
    "Average Body Mass Index of entire population\n",
    "\n",
    "`under-five deaths` \n",
    "Number of under-five deaths per 1000 population\n",
    "\n",
    "`Polio`\n",
    "Polio (Pol3) immunization coverage among 1-year-olds (%)\n",
    "\n",
    "`Total expenditure`\n",
    "General government expenditure on health as a percentage of total government expenditure (%)\n",
    "\n",
    "`Diphtheria` \n",
    "Diphtheria tetanus toxoid and pertussis (DTP3) immunization coverage among 1-year-olds (%)\n",
    "\n",
    "`HIV/AIDS`\n",
    "Deaths per 1 000 live births HIV/AIDS (0-4 years)\n",
    "\n",
    "`GDP`\n",
    "Gross Domestic Product per capita (in USD)\n",
    "\n",
    "`Population`\n",
    "Population of the country\n",
    "\n",
    "`thinness 1-19 years`\n",
    "Prevalence of thinness among children and adolescents for Age 10 to 19 (% )\n",
    "\n",
    "`thinness 5-9 years`\n",
    "Prevalence of thinness among children for Age 5 to 9(%)\n",
    "\n",
    "`Income composition of resources`\n",
    "Human Development Index in terms of income composition of resources (index ranging from 0 to 1) url: http://hdr.undp.org/en/content/human-development-index-hdi\n",
    "\n",
    "`Schooling`\n",
    "Number of years of Schooling(years)"
   ]
  },
  {
   "cell_type": "code",
   "execution_count": 10,
   "metadata": {},
   "outputs": [
    {
     "data": {
      "text/html": [
       "<div>\n",
       "<style scoped>\n",
       "    .dataframe tbody tr th:only-of-type {\n",
       "        vertical-align: middle;\n",
       "    }\n",
       "\n",
       "    .dataframe tbody tr th {\n",
       "        vertical-align: top;\n",
       "    }\n",
       "\n",
       "    .dataframe thead th {\n",
       "        text-align: right;\n",
       "    }\n",
       "</style>\n",
       "<table border=\"1\" class=\"dataframe\">\n",
       "  <thead>\n",
       "    <tr style=\"text-align: right;\">\n",
       "      <th></th>\n",
       "      <th>Country</th>\n",
       "      <th>Year</th>\n",
       "      <th>Status</th>\n",
       "      <th>Life expectancy</th>\n",
       "      <th>Adult Mortality</th>\n",
       "      <th>infant deaths</th>\n",
       "      <th>Alcohol</th>\n",
       "      <th>percentage expenditure</th>\n",
       "      <th>Hepatitis B</th>\n",
       "      <th>Measles</th>\n",
       "      <th>...</th>\n",
       "      <th>Polio</th>\n",
       "      <th>Total expenditure</th>\n",
       "      <th>Diphtheria</th>\n",
       "      <th>HIV/AIDS</th>\n",
       "      <th>GDP</th>\n",
       "      <th>Population</th>\n",
       "      <th>thinness  1-19 years</th>\n",
       "      <th>thinness 5-9 years</th>\n",
       "      <th>Income composition of resources</th>\n",
       "      <th>Schooling</th>\n",
       "    </tr>\n",
       "  </thead>\n",
       "  <tbody>\n",
       "    <tr>\n",
       "      <th>0</th>\n",
       "      <td>Afghanistan</td>\n",
       "      <td>2015</td>\n",
       "      <td>Developing</td>\n",
       "      <td>65.0</td>\n",
       "      <td>263.0</td>\n",
       "      <td>62</td>\n",
       "      <td>0.01</td>\n",
       "      <td>71.279624</td>\n",
       "      <td>65.0</td>\n",
       "      <td>1154</td>\n",
       "      <td>...</td>\n",
       "      <td>6.0</td>\n",
       "      <td>8.16</td>\n",
       "      <td>65.0</td>\n",
       "      <td>0.1</td>\n",
       "      <td>584.259210</td>\n",
       "      <td>33736494.0</td>\n",
       "      <td>17.2</td>\n",
       "      <td>17.3</td>\n",
       "      <td>0.479</td>\n",
       "      <td>10.1</td>\n",
       "    </tr>\n",
       "    <tr>\n",
       "      <th>1</th>\n",
       "      <td>Afghanistan</td>\n",
       "      <td>2014</td>\n",
       "      <td>Developing</td>\n",
       "      <td>59.9</td>\n",
       "      <td>271.0</td>\n",
       "      <td>64</td>\n",
       "      <td>0.01</td>\n",
       "      <td>73.523582</td>\n",
       "      <td>62.0</td>\n",
       "      <td>492</td>\n",
       "      <td>...</td>\n",
       "      <td>58.0</td>\n",
       "      <td>8.18</td>\n",
       "      <td>62.0</td>\n",
       "      <td>0.1</td>\n",
       "      <td>612.696514</td>\n",
       "      <td>327582.0</td>\n",
       "      <td>17.5</td>\n",
       "      <td>17.5</td>\n",
       "      <td>0.476</td>\n",
       "      <td>10.0</td>\n",
       "    </tr>\n",
       "    <tr>\n",
       "      <th>2</th>\n",
       "      <td>Afghanistan</td>\n",
       "      <td>2013</td>\n",
       "      <td>Developing</td>\n",
       "      <td>59.9</td>\n",
       "      <td>268.0</td>\n",
       "      <td>66</td>\n",
       "      <td>0.01</td>\n",
       "      <td>73.219243</td>\n",
       "      <td>64.0</td>\n",
       "      <td>430</td>\n",
       "      <td>...</td>\n",
       "      <td>62.0</td>\n",
       "      <td>8.13</td>\n",
       "      <td>64.0</td>\n",
       "      <td>0.1</td>\n",
       "      <td>631.744976</td>\n",
       "      <td>31731688.0</td>\n",
       "      <td>17.7</td>\n",
       "      <td>17.7</td>\n",
       "      <td>0.470</td>\n",
       "      <td>9.9</td>\n",
       "    </tr>\n",
       "    <tr>\n",
       "      <th>3</th>\n",
       "      <td>Afghanistan</td>\n",
       "      <td>2012</td>\n",
       "      <td>Developing</td>\n",
       "      <td>59.5</td>\n",
       "      <td>272.0</td>\n",
       "      <td>69</td>\n",
       "      <td>0.01</td>\n",
       "      <td>78.184215</td>\n",
       "      <td>67.0</td>\n",
       "      <td>2787</td>\n",
       "      <td>...</td>\n",
       "      <td>67.0</td>\n",
       "      <td>8.52</td>\n",
       "      <td>67.0</td>\n",
       "      <td>0.1</td>\n",
       "      <td>669.959000</td>\n",
       "      <td>3696958.0</td>\n",
       "      <td>17.9</td>\n",
       "      <td>18.0</td>\n",
       "      <td>0.463</td>\n",
       "      <td>9.8</td>\n",
       "    </tr>\n",
       "    <tr>\n",
       "      <th>4</th>\n",
       "      <td>Afghanistan</td>\n",
       "      <td>2011</td>\n",
       "      <td>Developing</td>\n",
       "      <td>59.2</td>\n",
       "      <td>275.0</td>\n",
       "      <td>71</td>\n",
       "      <td>0.01</td>\n",
       "      <td>7.097109</td>\n",
       "      <td>68.0</td>\n",
       "      <td>3013</td>\n",
       "      <td>...</td>\n",
       "      <td>68.0</td>\n",
       "      <td>7.87</td>\n",
       "      <td>68.0</td>\n",
       "      <td>0.1</td>\n",
       "      <td>63.537231</td>\n",
       "      <td>2978599.0</td>\n",
       "      <td>18.2</td>\n",
       "      <td>18.2</td>\n",
       "      <td>0.454</td>\n",
       "      <td>9.5</td>\n",
       "    </tr>\n",
       "  </tbody>\n",
       "</table>\n",
       "<p>5 rows × 22 columns</p>\n",
       "</div>"
      ],
      "text/plain": [
       "       Country  Year      Status  Life expectancy   Adult Mortality  \\\n",
       "0  Afghanistan  2015  Developing              65.0            263.0   \n",
       "1  Afghanistan  2014  Developing              59.9            271.0   \n",
       "2  Afghanistan  2013  Developing              59.9            268.0   \n",
       "3  Afghanistan  2012  Developing              59.5            272.0   \n",
       "4  Afghanistan  2011  Developing              59.2            275.0   \n",
       "\n",
       "   infant deaths  Alcohol  percentage expenditure  Hepatitis B  Measles   ...  \\\n",
       "0             62     0.01               71.279624         65.0      1154  ...   \n",
       "1             64     0.01               73.523582         62.0       492  ...   \n",
       "2             66     0.01               73.219243         64.0       430  ...   \n",
       "3             69     0.01               78.184215         67.0      2787  ...   \n",
       "4             71     0.01                7.097109         68.0      3013  ...   \n",
       "\n",
       "   Polio  Total expenditure  Diphtheria    HIV/AIDS         GDP  Population  \\\n",
       "0    6.0               8.16         65.0        0.1  584.259210  33736494.0   \n",
       "1   58.0               8.18         62.0        0.1  612.696514    327582.0   \n",
       "2   62.0               8.13         64.0        0.1  631.744976  31731688.0   \n",
       "3   67.0               8.52         67.0        0.1  669.959000   3696958.0   \n",
       "4   68.0               7.87         68.0        0.1   63.537231   2978599.0   \n",
       "\n",
       "    thinness  1-19 years   thinness 5-9 years  \\\n",
       "0                   17.2                 17.3   \n",
       "1                   17.5                 17.5   \n",
       "2                   17.7                 17.7   \n",
       "3                   17.9                 18.0   \n",
       "4                   18.2                 18.2   \n",
       "\n",
       "   Income composition of resources  Schooling  \n",
       "0                            0.479       10.1  \n",
       "1                            0.476       10.0  \n",
       "2                            0.470        9.9  \n",
       "3                            0.463        9.8  \n",
       "4                            0.454        9.5  \n",
       "\n",
       "[5 rows x 22 columns]"
      ]
     },
     "execution_count": 10,
     "metadata": {},
     "output_type": "execute_result"
    }
   ],
   "source": [
    "df.head()"
   ]
  },
  {
   "cell_type": "code",
   "execution_count": 16,
   "metadata": {},
   "outputs": [
    {
     "data": {
      "text/html": [
       "<div>\n",
       "<style scoped>\n",
       "    .dataframe tbody tr th:only-of-type {\n",
       "        vertical-align: middle;\n",
       "    }\n",
       "\n",
       "    .dataframe tbody tr th {\n",
       "        vertical-align: top;\n",
       "    }\n",
       "\n",
       "    .dataframe thead th {\n",
       "        text-align: right;\n",
       "    }\n",
       "</style>\n",
       "<table border=\"1\" class=\"dataframe\">\n",
       "  <thead>\n",
       "    <tr style=\"text-align: right;\">\n",
       "      <th></th>\n",
       "      <th>Year</th>\n",
       "      <th>Life expectancy</th>\n",
       "      <th>Adult Mortality</th>\n",
       "      <th>infant deaths</th>\n",
       "      <th>Alcohol</th>\n",
       "      <th>percentage expenditure</th>\n",
       "      <th>Hepatitis B</th>\n",
       "      <th>Measles</th>\n",
       "      <th>BMI</th>\n",
       "      <th>under-five deaths</th>\n",
       "      <th>Polio</th>\n",
       "      <th>Total expenditure</th>\n",
       "      <th>Diphtheria</th>\n",
       "      <th>HIV/AIDS</th>\n",
       "      <th>GDP</th>\n",
       "      <th>Population</th>\n",
       "      <th>thinness  1-19 years</th>\n",
       "      <th>thinness 5-9 years</th>\n",
       "      <th>Income composition of resources</th>\n",
       "      <th>Schooling</th>\n",
       "    </tr>\n",
       "  </thead>\n",
       "  <tbody>\n",
       "    <tr>\n",
       "      <th>Life expectancy</th>\n",
       "      <td>0.170033</td>\n",
       "      <td>1.0</td>\n",
       "      <td>-0.696359</td>\n",
       "      <td>-0.196557</td>\n",
       "      <td>0.404877</td>\n",
       "      <td>0.381864</td>\n",
       "      <td>0.256762</td>\n",
       "      <td>-0.157586</td>\n",
       "      <td>0.567694</td>\n",
       "      <td>-0.222529</td>\n",
       "      <td>0.465556</td>\n",
       "      <td>0.218086</td>\n",
       "      <td>0.479495</td>\n",
       "      <td>-0.556556</td>\n",
       "      <td>0.461455</td>\n",
       "      <td>-0.021538</td>\n",
       "      <td>-0.477183</td>\n",
       "      <td>-0.471584</td>\n",
       "      <td>0.724776</td>\n",
       "      <td>0.751975</td>\n",
       "    </tr>\n",
       "  </tbody>\n",
       "</table>\n",
       "</div>"
      ],
      "text/plain": [
       "                      Year  Life expectancy   Adult Mortality  infant deaths  \\\n",
       "Life expectancy   0.170033               1.0        -0.696359      -0.196557   \n",
       "\n",
       "                   Alcohol  percentage expenditure  Hepatitis B  Measles   \\\n",
       "Life expectancy   0.404877                0.381864     0.256762 -0.157586   \n",
       "\n",
       "                      BMI   under-five deaths      Polio  Total expenditure  \\\n",
       "Life expectancy   0.567694           -0.222529  0.465556           0.218086   \n",
       "\n",
       "                  Diphtheria    HIV/AIDS       GDP  Population  \\\n",
       "Life expectancy      0.479495  -0.556556  0.461455   -0.021538   \n",
       "\n",
       "                   thinness  1-19 years   thinness 5-9 years  \\\n",
       "Life expectancy               -0.477183            -0.471584   \n",
       "\n",
       "                  Income composition of resources  Schooling  \n",
       "Life expectancy                          0.724776   0.751975  "
      ]
     },
     "execution_count": 16,
     "metadata": {},
     "output_type": "execute_result"
    }
   ],
   "source": [
    "df.corr()[1:2]"
   ]
  },
  {
   "cell_type": "markdown",
   "metadata": {},
   "source": [
    "## Visualizing the global life expectancy for 2015 using Altair mapping"
   ]
  },
  {
   "cell_type": "code",
   "execution_count": 11,
   "metadata": {},
   "outputs": [
    {
     "name": "stdout",
     "output_type": "stream",
     "text": [
      "Maximum year is 2015\n",
      "Minimum year is 2000\n"
     ]
    }
   ],
   "source": [
    "print('Maximum year is', df['Year'].max())\n",
    "print('Minimum year is', df['Year'].min())\n"
   ]
  },
  {
   "cell_type": "markdown",
   "metadata": {},
   "source": [
    "Let's filter by 2015 to make a map of life expectency per country. "
   ]
  },
  {
   "cell_type": "code",
   "execution_count": 12,
   "metadata": {},
   "outputs": [],
   "source": [
    "df_2015 = df[df['Year']==2015]"
   ]
  },
  {
   "cell_type": "markdown",
   "metadata": {},
   "source": [
    "Reading in the country codes tsv to make the map (file generated from UN stats webpage: \n",
    "https://unstats.un.org/unsd/methodology/m49/  "
   ]
  },
  {
   "cell_type": "code",
   "execution_count": 13,
   "metadata": {
    "scrolled": true
   },
   "outputs": [
    {
     "data": {
      "text/html": [
       "<div>\n",
       "<style scoped>\n",
       "    .dataframe tbody tr th:only-of-type {\n",
       "        vertical-align: middle;\n",
       "    }\n",
       "\n",
       "    .dataframe tbody tr th {\n",
       "        vertical-align: top;\n",
       "    }\n",
       "\n",
       "    .dataframe thead th {\n",
       "        text-align: right;\n",
       "    }\n",
       "</style>\n",
       "<table border=\"1\" class=\"dataframe\">\n",
       "  <thead>\n",
       "    <tr style=\"text-align: right;\">\n",
       "      <th></th>\n",
       "      <th>Country or Area</th>\n",
       "      <th>M49 code</th>\n",
       "      <th>ISO-alpha3 code</th>\n",
       "    </tr>\n",
       "  </thead>\n",
       "  <tbody>\n",
       "    <tr>\n",
       "      <th>0</th>\n",
       "      <td>Afghanistan</td>\n",
       "      <td>4</td>\n",
       "      <td>AFG</td>\n",
       "    </tr>\n",
       "    <tr>\n",
       "      <th>1</th>\n",
       "      <td>Aland Islands</td>\n",
       "      <td>248</td>\n",
       "      <td>ALA</td>\n",
       "    </tr>\n",
       "    <tr>\n",
       "      <th>2</th>\n",
       "      <td>Albania</td>\n",
       "      <td>8</td>\n",
       "      <td>ALB</td>\n",
       "    </tr>\n",
       "    <tr>\n",
       "      <th>3</th>\n",
       "      <td>Algeria</td>\n",
       "      <td>12</td>\n",
       "      <td>DZA</td>\n",
       "    </tr>\n",
       "    <tr>\n",
       "      <th>4</th>\n",
       "      <td>American Samoa</td>\n",
       "      <td>16</td>\n",
       "      <td>ASM</td>\n",
       "    </tr>\n",
       "  </tbody>\n",
       "</table>\n",
       "</div>"
      ],
      "text/plain": [
       "  Country or Area  M49 code ISO-alpha3 code\n",
       "0     Afghanistan         4             AFG\n",
       "1   Aland Islands       248             ALA\n",
       "2         Albania         8             ALB\n",
       "3         Algeria        12             DZA\n",
       "4  American Samoa        16             ASM"
      ]
     },
     "execution_count": 13,
     "metadata": {},
     "output_type": "execute_result"
    }
   ],
   "source": [
    "country_codes = pd.read_csv('country_code_2.tsv',sep='\\t')\n",
    "country_codes.head()"
   ]
  },
  {
   "cell_type": "markdown",
   "metadata": {},
   "source": [
    " Matching countries to country names in country codes tsv data"
   ]
  },
  {
   "cell_type": "code",
   "execution_count": 14,
   "metadata": {},
   "outputs": [],
   "source": [
    "df_2015.replace(\"Côte d'Ivoire\", \"Cote d'Ivoire\", inplace=True)\n",
    "df_2015.replace('Swaziland', 'Eswatini', inplace=True)\n",
    "df_2015.replace('The former Yugoslav republic of Macedonia', 'North Macedonia', inplace=True)\n",
    "\n",
    "df_2015_map = df_2015.merge(country_codes, how=\"left\", left_on=\"Country\",right_on=\"Country or Area\")\n",
    "df_2015_map.rename(columns={'M49 code': 'id'}, inplace=True)\n",
    "df_2015_map.drop(columns=['ISO-alpha3 code', 'Country or Area'], inplace=True)\n",
    "\n",
    "df_2015_map['tooltip']=df_2015_map['Country']+': '+df_2015_map['Life expectancy '].astype(str) + ' yr'"
   ]
  },
  {
   "cell_type": "markdown",
   "metadata": {},
   "source": [
    "### Making the map!"
   ]
  },
  {
   "cell_type": "code",
   "execution_count": 15,
   "metadata": {},
   "outputs": [],
   "source": [
    "source = alt.topo_feature(data.world_110m.url,'countries')\n",
    "\n",
    "map_plot = alt.Chart(source).mark_geoshape().encode(\n",
    "    color=alt.Color('Life expectancy :Q', legend=alt.Legend(title='Years')),\n",
    "    tooltip='tooltip:N'\n",
    ").transform_lookup(\n",
    "   lookup='id',\n",
    "   from_=alt.LookupData(df_2015_map, 'id', ['Life expectancy ', 'tooltip'])\n",
    ").project(\n",
    "   type='equirectangular'\n",
    ").properties(\n",
    "    width=900,\n",
    "    height=540,\n",
    "    title=('Life Expectency in Years')\n",
    ")\n"
   ]
  },
  {
   "cell_type": "code",
   "execution_count": 16,
   "metadata": {
    "scrolled": true
   },
   "outputs": [
    {
     "data": {
      "application/javascript": [
       "var spec = {\"config\": {\"view\": {\"width\": 400, \"height\": 300}, \"mark\": {\"tooltip\": null}}, \"data\": {\"url\": \"https://vega.github.io/vega-datasets/data/world-110m.json\", \"format\": {\"feature\": \"countries\", \"type\": \"topojson\"}}, \"mark\": \"geoshape\", \"encoding\": {\"color\": {\"type\": \"quantitative\", \"field\": \"Life expectancy \", \"legend\": {\"title\": \"Years\"}}, \"tooltip\": {\"type\": \"nominal\", \"field\": \"tooltip\"}}, \"height\": 540, \"projection\": {\"type\": \"equirectangular\"}, \"title\": \"Life Expectency in Years\", \"transform\": [{\"lookup\": \"id\", \"from\": {\"data\": {\"name\": \"data-73dbed983afe24099d76d7572c317c1e\"}, \"key\": \"id\", \"fields\": [\"Life expectancy \", \"tooltip\"]}}], \"width\": 900, \"$schema\": \"https://vega.github.io/schema/vega-lite/v3.3.0.json\", \"datasets\": {\"data-73dbed983afe24099d76d7572c317c1e\": [{\"Country\": \"Afghanistan\", \"Year\": 2015, \"Status\": \"Developing\", \"Life expectancy \": 65.0, \"Adult Mortality\": 263.0, \"infant deaths\": 62, \"Alcohol\": 0.01, \"percentage expenditure\": 71.27962362, \"Hepatitis B\": 65.0, \"Measles \": 1154, \" BMI \": 19.1, \"under-five deaths \": 83, \"Polio\": 6.0, \"Total expenditure\": 8.16, \"Diphtheria \": 65.0, \" HIV/AIDS\": 0.1, \"GDP\": 584.2592099999999, \"Population\": 33736494.0, \" thinness  1-19 years\": 17.2, \" thinness 5-9 years\": 17.3, \"Income composition of resources\": 0.479, \"Schooling\": 10.1, \"id\": 4, \"tooltip\": \"Afghanistan: 65.0 yr\"}, {\"Country\": \"Albania\", \"Year\": 2015, \"Status\": \"Developing\", \"Life expectancy \": 77.8, \"Adult Mortality\": 74.0, \"infant deaths\": 0, \"Alcohol\": 4.6, \"percentage expenditure\": 364.9752287, \"Hepatitis B\": 99.0, \"Measles \": 0, \" BMI \": 58.0, \"under-five deaths \": 0, \"Polio\": 99.0, \"Total expenditure\": 6.0, \"Diphtheria \": 99.0, \" HIV/AIDS\": 0.1, \"GDP\": 3954.22783, \"Population\": 28873.0, \" thinness  1-19 years\": 1.2, \" thinness 5-9 years\": 1.3, \"Income composition of resources\": 0.762, \"Schooling\": 14.2, \"id\": 8, \"tooltip\": \"Albania: 77.8 yr\"}, {\"Country\": \"Algeria\", \"Year\": 2015, \"Status\": \"Developing\", \"Life expectancy \": 75.6, \"Adult Mortality\": 19.0, \"infant deaths\": 21, \"Alcohol\": null, \"percentage expenditure\": 0.0, \"Hepatitis B\": 95.0, \"Measles \": 63, \" BMI \": 59.5, \"under-five deaths \": 24, \"Polio\": 95.0, \"Total expenditure\": null, \"Diphtheria \": 95.0, \" HIV/AIDS\": 0.1, \"GDP\": 4132.76292, \"Population\": 39871528.0, \" thinness  1-19 years\": 6.0, \" thinness 5-9 years\": 5.8, \"Income composition of resources\": 0.743, \"Schooling\": 14.4, \"id\": 12, \"tooltip\": \"Algeria: 75.6 yr\"}, {\"Country\": \"Angola\", \"Year\": 2015, \"Status\": \"Developing\", \"Life expectancy \": 52.4, \"Adult Mortality\": 335.0, \"infant deaths\": 66, \"Alcohol\": null, \"percentage expenditure\": 0.0, \"Hepatitis B\": 64.0, \"Measles \": 118, \" BMI \": 23.3, \"under-five deaths \": 98, \"Polio\": 7.0, \"Total expenditure\": null, \"Diphtheria \": 64.0, \" HIV/AIDS\": 1.9, \"GDP\": 3695.7937479999996, \"Population\": 2785935.0, \" thinness  1-19 years\": 8.3, \" thinness 5-9 years\": 8.2, \"Income composition of resources\": 0.531, \"Schooling\": 11.4, \"id\": 24, \"tooltip\": \"Angola: 52.4 yr\"}, {\"Country\": \"Antigua and Barbuda\", \"Year\": 2015, \"Status\": \"Developing\", \"Life expectancy \": 76.4, \"Adult Mortality\": 13.0, \"infant deaths\": 0, \"Alcohol\": null, \"percentage expenditure\": 0.0, \"Hepatitis B\": 99.0, \"Measles \": 0, \" BMI \": 47.7, \"under-five deaths \": 0, \"Polio\": 86.0, \"Total expenditure\": null, \"Diphtheria \": 99.0, \" HIV/AIDS\": 0.2, \"GDP\": 13566.9541, \"Population\": null, \" thinness  1-19 years\": 3.3, \" thinness 5-9 years\": 3.3, \"Income composition of resources\": 0.784, \"Schooling\": 13.9, \"id\": 28, \"tooltip\": \"Antigua and Barbuda: 76.4 yr\"}, {\"Country\": \"Argentina\", \"Year\": 2015, \"Status\": \"Developing\", \"Life expectancy \": 76.3, \"Adult Mortality\": 116.0, \"infant deaths\": 8, \"Alcohol\": null, \"percentage expenditure\": 0.0, \"Hepatitis B\": 94.0, \"Measles \": 0, \" BMI \": 62.8, \"under-five deaths \": 9, \"Polio\": 93.0, \"Total expenditure\": null, \"Diphtheria \": 94.0, \" HIV/AIDS\": 0.1, \"GDP\": 13467.1236, \"Population\": 43417765.0, \" thinness  1-19 years\": 1.0, \" thinness 5-9 years\": 0.9, \"Income composition of resources\": 0.826, \"Schooling\": 17.3, \"id\": 32, \"tooltip\": \"Argentina: 76.3 yr\"}, {\"Country\": \"Armenia\", \"Year\": 2015, \"Status\": \"Developing\", \"Life expectancy \": 74.8, \"Adult Mortality\": 118.0, \"infant deaths\": 1, \"Alcohol\": null, \"percentage expenditure\": 0.0, \"Hepatitis B\": 94.0, \"Measles \": 33, \" BMI \": 54.9, \"under-five deaths \": 1, \"Polio\": 96.0, \"Total expenditure\": null, \"Diphtheria \": 94.0, \" HIV/AIDS\": 0.1, \"GDP\": 369.65477599999997, \"Population\": 291695.0, \" thinness  1-19 years\": 2.1, \" thinness 5-9 years\": 2.2, \"Income composition of resources\": 0.741, \"Schooling\": 12.7, \"id\": 51, \"tooltip\": \"Armenia: 74.8 yr\"}, {\"Country\": \"Australia\", \"Year\": 2015, \"Status\": \"Developed\", \"Life expectancy \": 82.8, \"Adult Mortality\": 59.0, \"infant deaths\": 1, \"Alcohol\": null, \"percentage expenditure\": 0.0, \"Hepatitis B\": 93.0, \"Measles \": 74, \" BMI \": 66.6, \"under-five deaths \": 1, \"Polio\": 93.0, \"Total expenditure\": null, \"Diphtheria \": 93.0, \" HIV/AIDS\": 0.1, \"GDP\": 56554.3876, \"Population\": 23789338.0, \" thinness  1-19 years\": 0.6, \" thinness 5-9 years\": 0.6, \"Income composition of resources\": 0.937, \"Schooling\": 20.4, \"id\": 36, \"tooltip\": \"Australia: 82.8 yr\"}, {\"Country\": \"Austria\", \"Year\": 2015, \"Status\": \"Developed\", \"Life expectancy \": 81.5, \"Adult Mortality\": 65.0, \"infant deaths\": 0, \"Alcohol\": null, \"percentage expenditure\": 0.0, \"Hepatitis B\": 93.0, \"Measles \": 309, \" BMI \": 57.6, \"under-five deaths \": 0, \"Polio\": 93.0, \"Total expenditure\": null, \"Diphtheria \": 93.0, \" HIV/AIDS\": 0.1, \"GDP\": 43665.947, \"Population\": 8633169.0, \" thinness  1-19 years\": 1.9, \" thinness 5-9 years\": 2.1, \"Income composition of resources\": 0.892, \"Schooling\": 15.9, \"id\": 40, \"tooltip\": \"Austria: 81.5 yr\"}, {\"Country\": \"Azerbaijan\", \"Year\": 2015, \"Status\": \"Developing\", \"Life expectancy \": 72.7, \"Adult Mortality\": 118.0, \"infant deaths\": 5, \"Alcohol\": null, \"percentage expenditure\": 0.0, \"Hepatitis B\": 96.0, \"Measles \": 0, \" BMI \": 52.5, \"under-five deaths \": 6, \"Polio\": 98.0, \"Total expenditure\": null, \"Diphtheria \": 96.0, \" HIV/AIDS\": 0.1, \"GDP\": 55.31381999999999, \"Population\": 9649341.0, \" thinness  1-19 years\": 2.8, \" thinness 5-9 years\": 2.9, \"Income composition of resources\": 0.758, \"Schooling\": 12.7, \"id\": 31, \"tooltip\": \"Azerbaijan: 72.7 yr\"}, {\"Country\": \"Bahamas\", \"Year\": 2015, \"Status\": \"Developing\", \"Life expectancy \": 76.1, \"Adult Mortality\": 147.0, \"infant deaths\": 0, \"Alcohol\": null, \"percentage expenditure\": 0.0, \"Hepatitis B\": 95.0, \"Measles \": 0, \" BMI \": 64.5, \"under-five deaths \": 0, \"Polio\": 95.0, \"Total expenditure\": null, \"Diphtheria \": 95.0, \" HIV/AIDS\": 0.1, \"GDP\": null, \"Population\": null, \" thinness  1-19 years\": 2.5, \" thinness 5-9 years\": 2.5, \"Income composition of resources\": 0.79, \"Schooling\": 12.6, \"id\": 44, \"tooltip\": \"Bahamas: 76.1 yr\"}, {\"Country\": \"Bahrain\", \"Year\": 2015, \"Status\": \"Developing\", \"Life expectancy \": 76.9, \"Adult Mortality\": 69.0, \"infant deaths\": 0, \"Alcohol\": null, \"percentage expenditure\": 0.0, \"Hepatitis B\": 98.0, \"Measles \": 0, \" BMI \": 63.6, \"under-five deaths \": 0, \"Polio\": 98.0, \"Total expenditure\": null, \"Diphtheria \": 98.0, \" HIV/AIDS\": 0.1, \"GDP\": 22688.878240000002, \"Population\": null, \" thinness  1-19 years\": 6.2, \" thinness 5-9 years\": 6.1, \"Income composition of resources\": 0.823, \"Schooling\": 14.5, \"id\": 48, \"tooltip\": \"Bahrain: 76.9 yr\"}, {\"Country\": \"Bangladesh\", \"Year\": 2015, \"Status\": \"Developing\", \"Life expectancy \": 71.8, \"Adult Mortality\": 129.0, \"infant deaths\": 92, \"Alcohol\": null, \"percentage expenditure\": 0.0, \"Hepatitis B\": 97.0, \"Measles \": 240, \" BMI \": 18.3, \"under-five deaths \": 113, \"Polio\": 97.0, \"Total expenditure\": null, \"Diphtheria \": 97.0, \" HIV/AIDS\": 0.1, \"GDP\": 121.15812, \"Population\": 1612886.0, \" thinness  1-19 years\": 17.9, \" thinness 5-9 years\": 18.3, \"Income composition of resources\": 0.575, \"Schooling\": 10.2, \"id\": 50, \"tooltip\": \"Bangladesh: 71.8 yr\"}, {\"Country\": \"Barbados\", \"Year\": 2015, \"Status\": \"Developing\", \"Life expectancy \": 75.5, \"Adult Mortality\": 98.0, \"infant deaths\": 0, \"Alcohol\": null, \"percentage expenditure\": 0.0, \"Hepatitis B\": 97.0, \"Measles \": 0, \" BMI \": 54.5, \"under-five deaths \": 0, \"Polio\": 97.0, \"Total expenditure\": null, \"Diphtheria \": 97.0, \" HIV/AIDS\": 0.1, \"GDP\": 15557.8381, \"Population\": null, \" thinness  1-19 years\": 3.8, \" thinness 5-9 years\": 3.7, \"Income composition of resources\": 0.794, \"Schooling\": 15.3, \"id\": 52, \"tooltip\": \"Barbados: 75.5 yr\"}, {\"Country\": \"Belarus\", \"Year\": 2015, \"Status\": \"Developing\", \"Life expectancy \": 72.3, \"Adult Mortality\": 196.0, \"infant deaths\": 0, \"Alcohol\": null, \"percentage expenditure\": 0.0, \"Hepatitis B\": 99.0, \"Measles \": 2, \" BMI \": 62.3, \"under-five deaths \": 0, \"Polio\": 99.0, \"Total expenditure\": null, \"Diphtheria \": 99.0, \" HIV/AIDS\": 0.1, \"GDP\": 5949.1167700000005, \"Population\": 9489616.0, \" thinness  1-19 years\": 1.9, \" thinness 5-9 years\": 2.0, \"Income composition of resources\": 0.7979999999999999, \"Schooling\": 15.6, \"id\": 112, \"tooltip\": \"Belarus: 72.3 yr\"}, {\"Country\": \"Belgium\", \"Year\": 2015, \"Status\": \"Developed\", \"Life expectancy \": 81.1, \"Adult Mortality\": 74.0, \"infant deaths\": 0, \"Alcohol\": null, \"percentage expenditure\": 0.0, \"Hepatitis B\": 98.0, \"Measles \": 47, \" BMI \": 63.7, \"under-five deaths \": 1, \"Polio\": 99.0, \"Total expenditure\": null, \"Diphtheria \": 99.0, \" HIV/AIDS\": 0.1, \"GDP\": 4356.875, \"Population\": 11274196.0, \" thinness  1-19 years\": 1.0, \" thinness 5-9 years\": 1.0, \"Income composition of resources\": 0.895, \"Schooling\": 16.6, \"id\": 56, \"tooltip\": \"Belgium: 81.1 yr\"}, {\"Country\": \"Belize\", \"Year\": 2015, \"Status\": \"Developing\", \"Life expectancy \": 71.0, \"Adult Mortality\": 175.0, \"infant deaths\": 0, \"Alcohol\": null, \"percentage expenditure\": 0.0, \"Hepatitis B\": 94.0, \"Measles \": 0, \" BMI \": 5.9, \"under-five deaths \": 0, \"Polio\": 94.0, \"Total expenditure\": null, \"Diphtheria \": 94.0, \" HIV/AIDS\": 0.2, \"GDP\": 4849.9974950000005, \"Population\": 359288.0, \" thinness  1-19 years\": 3.5, \" thinness 5-9 years\": 3.4, \"Income composition of resources\": 0.706, \"Schooling\": 12.8, \"id\": 84, \"tooltip\": \"Belize: 71.0 yr\"}, {\"Country\": \"Benin\", \"Year\": 2015, \"Status\": \"Developing\", \"Life expectancy \": 60.0, \"Adult Mortality\": 249.0, \"infant deaths\": 25, \"Alcohol\": null, \"percentage expenditure\": 0.0, \"Hepatitis B\": 82.0, \"Measles \": 55, \" BMI \": 25.7, \"under-five deaths \": 39, \"Polio\": 78.0, \"Total expenditure\": null, \"Diphtheria \": 82.0, \" HIV/AIDS\": 1.0, \"GDP\": 783.94791, \"Population\": 1575952.0, \" thinness  1-19 years\": 6.9, \" thinness 5-9 years\": 6.8, \"Income composition of resources\": 0.48100000000000004, \"Schooling\": 10.7, \"id\": 204, \"tooltip\": \"Benin: 60.0 yr\"}, {\"Country\": \"Bhutan\", \"Year\": 2015, \"Status\": \"Developing\", \"Life expectancy \": 69.8, \"Adult Mortality\": 211.0, \"infant deaths\": 0, \"Alcohol\": null, \"percentage expenditure\": 0.0, \"Hepatitis B\": 99.0, \"Measles \": 11, \" BMI \": 24.5, \"under-five deaths \": 0, \"Polio\": 98.0, \"Total expenditure\": null, \"Diphtheria \": 99.0, \" HIV/AIDS\": 0.5, \"GDP\": 2613.645177, \"Population\": 787386.0, \" thinness  1-19 years\": 15.4, \" thinness 5-9 years\": 16.0, \"Income composition of resources\": 0.604, \"Schooling\": 12.5, \"id\": 64, \"tooltip\": \"Bhutan: 69.8 yr\"}, {\"Country\": \"Bolivia (Plurinational State of)\", \"Year\": 2015, \"Status\": \"Developing\", \"Life expectancy \": 77.0, \"Adult Mortality\": 186.0, \"infant deaths\": 8, \"Alcohol\": null, \"percentage expenditure\": 0.0, \"Hepatitis B\": 99.0, \"Measles \": 0, \" BMI \": 52.6, \"under-five deaths \": 10, \"Polio\": 99.0, \"Total expenditure\": null, \"Diphtheria \": 99.0, \" HIV/AIDS\": 0.1, \"GDP\": null, \"Population\": null, \" thinness  1-19 years\": 1.2, \" thinness 5-9 years\": 1.1, \"Income composition of resources\": 0.6709999999999999, \"Schooling\": 13.8, \"id\": 68, \"tooltip\": \"Bolivia (Plurinational State of): 77.0 yr\"}, {\"Country\": \"Bosnia and Herzegovina\", \"Year\": 2015, \"Status\": \"Developing\", \"Life expectancy \": 77.4, \"Adult Mortality\": 88.0, \"infant deaths\": 0, \"Alcohol\": null, \"percentage expenditure\": 0.0, \"Hepatitis B\": 82.0, \"Measles \": 1677, \" BMI \": 55.8, \"under-five deaths \": 0, \"Polio\": 74.0, \"Total expenditure\": null, \"Diphtheria \": 82.0, \" HIV/AIDS\": 0.1, \"GDP\": 4574.9787, \"Population\": 3535961.0, \" thinness  1-19 years\": 2.3, \" thinness 5-9 years\": 2.3, \"Income composition of resources\": 0.747, \"Schooling\": 14.2, \"id\": 70, \"tooltip\": \"Bosnia and Herzegovina: 77.4 yr\"}, {\"Country\": \"Botswana\", \"Year\": 2015, \"Status\": \"Developing\", \"Life expectancy \": 65.7, \"Adult Mortality\": 256.0, \"infant deaths\": 2, \"Alcohol\": null, \"percentage expenditure\": 0.0, \"Hepatitis B\": 95.0, \"Measles \": 0, \" BMI \": 37.9, \"under-five deaths \": 2, \"Polio\": 96.0, \"Total expenditure\": null, \"Diphtheria \": 95.0, \" HIV/AIDS\": 2.2, \"GDP\": 6532.651, \"Population\": 229197.0, \" thinness  1-19 years\": 6.4, \" thinness 5-9 years\": 6.1, \"Income composition of resources\": 0.698, \"Schooling\": 12.6, \"id\": 72, \"tooltip\": \"Botswana: 65.7 yr\"}, {\"Country\": \"Brazil\", \"Year\": 2015, \"Status\": \"Developing\", \"Life expectancy \": 75.0, \"Adult Mortality\": 142.0, \"infant deaths\": 42, \"Alcohol\": null, \"percentage expenditure\": 0.0, \"Hepatitis B\": 96.0, \"Measles \": 214, \" BMI \": 56.1, \"under-five deaths \": 47, \"Polio\": 98.0, \"Total expenditure\": null, \"Diphtheria \": 96.0, \" HIV/AIDS\": 0.1, \"GDP\": 8757.2622, \"Population\": 2596218.0, \" thinness  1-19 years\": 2.7, \" thinness 5-9 years\": 2.6, \"Income composition of resources\": 0.754, \"Schooling\": 15.2, \"id\": 76, \"tooltip\": \"Brazil: 75.0 yr\"}, {\"Country\": \"Brunei Darussalam\", \"Year\": 2015, \"Status\": \"Developing\", \"Life expectancy \": 77.7, \"Adult Mortality\": 78.0, \"infant deaths\": 0, \"Alcohol\": null, \"percentage expenditure\": 0.0, \"Hepatitis B\": 99.0, \"Measles \": 4, \" BMI \": 41.2, \"under-five deaths \": 0, \"Polio\": 99.0, \"Total expenditure\": null, \"Diphtheria \": 99.0, \" HIV/AIDS\": 0.1, \"GDP\": 3967.8951, \"Population\": null, \" thinness  1-19 years\": 5.7, \" thinness 5-9 years\": 5.1, \"Income composition of resources\": 0.8640000000000001, \"Schooling\": 14.9, \"id\": 96, \"tooltip\": \"Brunei Darussalam: 77.7 yr\"}, {\"Country\": \"Bulgaria\", \"Year\": 2015, \"Status\": \"Developed\", \"Life expectancy \": 74.5, \"Adult Mortality\": 137.0, \"infant deaths\": 0, \"Alcohol\": null, \"percentage expenditure\": 0.0, \"Hepatitis B\": 92.0, \"Measles \": 0, \" BMI \": 65.7, \"under-five deaths \": 1, \"Polio\": 91.0, \"Total expenditure\": null, \"Diphtheria \": 91.0, \" HIV/AIDS\": 0.1, \"GDP\": 6993.477359999999, \"Population\": 7177991.0, \" thinness  1-19 years\": 1.9, \" thinness 5-9 years\": 1.8, \"Income composition of resources\": 0.792, \"Schooling\": 15.0, \"id\": 100, \"tooltip\": \"Bulgaria: 74.5 yr\"}, {\"Country\": \"Burkina Faso\", \"Year\": 2015, \"Status\": \"Developing\", \"Life expectancy \": 59.9, \"Adult Mortality\": 26.0, \"infant deaths\": 38, \"Alcohol\": null, \"percentage expenditure\": 0.0, \"Hepatitis B\": 91.0, \"Measles \": 99, \" BMI \": 19.4, \"under-five deaths \": 61, \"Polio\": 91.0, \"Total expenditure\": null, \"Diphtheria \": 91.0, \" HIV/AIDS\": 0.6, \"GDP\": 615.592225, \"Population\": 1811624.0, \" thinness  1-19 years\": 8.0, \" thinness 5-9 years\": 7.5, \"Income composition of resources\": 0.39899999999999997, \"Schooling\": 7.7, \"id\": 854, \"tooltip\": \"Burkina Faso: 59.9 yr\"}, {\"Country\": \"Burundi\", \"Year\": 2015, \"Status\": \"Developing\", \"Life expectancy \": 59.6, \"Adult Mortality\": 288.0, \"infant deaths\": 21, \"Alcohol\": null, \"percentage expenditure\": 0.0, \"Hepatitis B\": 94.0, \"Measles \": 9, \" BMI \": 18.7, \"under-five deaths \": 31, \"Polio\": 94.0, \"Total expenditure\": null, \"Diphtheria \": 94.0, \" HIV/AIDS\": 0.7, \"GDP\": 33.681222999999996, \"Population\": 119927.0, \" thinness  1-19 years\": 7.3, \" thinness 5-9 years\": 7.2, \"Income composition of resources\": 0.406, \"Schooling\": 10.6, \"id\": 108, \"tooltip\": \"Burundi: 59.6 yr\"}, {\"Country\": \"Cote d'Ivoire\", \"Year\": 2015, \"Status\": \"Developing\", \"Life expectancy \": 53.3, \"Adult Mortality\": 397.0, \"infant deaths\": 57, \"Alcohol\": null, \"percentage expenditure\": 0.0, \"Hepatitis B\": 83.0, \"Measles \": 65, \" BMI \": 28.0, \"under-five deaths \": 79, \"Polio\": 81.0, \"Total expenditure\": null, \"Diphtheria \": 83.0, \" HIV/AIDS\": 1.9, \"GDP\": null, \"Population\": null, \" thinness  1-19 years\": 5.5, \" thinness 5-9 years\": 5.5, \"Income composition of resources\": null, \"Schooling\": null, \"id\": 384, \"tooltip\": \"Cote d'Ivoire: 53.3 yr\"}, {\"Country\": \"Cabo Verde\", \"Year\": 2015, \"Status\": \"Developing\", \"Life expectancy \": 73.3, \"Adult Mortality\": 114.0, \"infant deaths\": 0, \"Alcohol\": null, \"percentage expenditure\": 0.0, \"Hepatitis B\": 96.0, \"Measles \": 0, \" BMI \": 31.3, \"under-five deaths \": 0, \"Polio\": 93.0, \"Total expenditure\": null, \"Diphtheria \": 93.0, \" HIV/AIDS\": 0.2, \"GDP\": 2954.119467, \"Population\": 532913.0, \" thinness  1-19 years\": 6.6, \" thinness 5-9 years\": 6.6, \"Income composition of resources\": 0.6459999999999999, \"Schooling\": 13.5, \"id\": 132, \"tooltip\": \"Cabo Verde: 73.3 yr\"}, {\"Country\": \"Cambodia\", \"Year\": 2015, \"Status\": \"Developing\", \"Life expectancy \": 68.7, \"Adult Mortality\": 174.0, \"infant deaths\": 10, \"Alcohol\": null, \"percentage expenditure\": 0.0, \"Hepatitis B\": 89.0, \"Measles \": 0, \" BMI \": 19.6, \"under-five deaths \": 12, \"Polio\": 87.0, \"Total expenditure\": null, \"Diphtheria \": 89.0, \" HIV/AIDS\": 0.2, \"GDP\": 1163.18977, \"Population\": 15517635.0, \" thinness  1-19 years\": 1.9, \" thinness 5-9 years\": 1.9, \"Income composition of resources\": 0.5579999999999999, \"Schooling\": 10.9, \"id\": 116, \"tooltip\": \"Cambodia: 68.7 yr\"}, {\"Country\": \"Cameroon\", \"Year\": 2015, \"Status\": \"Developing\", \"Life expectancy \": 57.3, \"Adult Mortality\": 357.0, \"infant deaths\": 45, \"Alcohol\": null, \"percentage expenditure\": 0.0, \"Hepatitis B\": 84.0, \"Measles \": 1809, \" BMI \": 29.0, \"under-five deaths \": 68, \"Polio\": 83.0, \"Total expenditure\": null, \"Diphtheria \": 84.0, \" HIV/AIDS\": 3.5, \"GDP\": 1244.429421, \"Population\": 22834522.0, \" thinness  1-19 years\": 5.6, \" thinness 5-9 years\": 5.5, \"Income composition of resources\": 0.514, \"Schooling\": 10.4, \"id\": 120, \"tooltip\": \"Cameroon: 57.3 yr\"}, {\"Country\": \"Canada\", \"Year\": 2015, \"Status\": \"Developing\", \"Life expectancy \": 82.2, \"Adult Mortality\": 64.0, \"infant deaths\": 2, \"Alcohol\": null, \"percentage expenditure\": 0.0, \"Hepatitis B\": 55.0, \"Measles \": 195, \" BMI \": 67.0, \"under-five deaths \": 2, \"Polio\": 91.0, \"Total expenditure\": null, \"Diphtheria \": 91.0, \" HIV/AIDS\": 0.1, \"GDP\": 43315.744000000006, \"Population\": 3584861.0, \" thinness  1-19 years\": 0.6, \" thinness 5-9 years\": 0.5, \"Income composition of resources\": 0.919, \"Schooling\": 16.3, \"id\": 124, \"tooltip\": \"Canada: 82.2 yr\"}, {\"Country\": \"Central African Republic\", \"Year\": 2015, \"Status\": \"Developing\", \"Life expectancy \": 52.5, \"Adult Mortality\": 397.0, \"infant deaths\": 15, \"Alcohol\": null, \"percentage expenditure\": 0.0, \"Hepatitis B\": 47.0, \"Measles \": 150, \" BMI \": 22.7, \"under-five deaths \": 21, \"Polio\": 47.0, \"Total expenditure\": null, \"Diphtheria \": 47.0, \" HIV/AIDS\": 4.4, \"GDP\": 348.381417, \"Population\": 45461.0, \" thinness  1-19 years\": 8.2, \" thinness 5-9 years\": 8.2, \"Income composition of resources\": 0.34700000000000003, \"Schooling\": 7.1, \"id\": 140, \"tooltip\": \"Central African Republic: 52.5 yr\"}, {\"Country\": \"Chad\", \"Year\": 2015, \"Status\": \"Developing\", \"Life expectancy \": 53.1, \"Adult Mortality\": 356.0, \"infant deaths\": 46, \"Alcohol\": null, \"percentage expenditure\": 0.0, \"Hepatitis B\": 46.0, \"Measles \": 418, \" BMI \": 19.1, \"under-five deaths \": 77, \"Polio\": 52.0, \"Total expenditure\": null, \"Diphtheria \": 46.0, \" HIV/AIDS\": 2.8, \"GDP\": 777.248751, \"Population\": 149413.0, \" thinness  1-19 years\": 8.5, \" thinness 5-9 years\": 8.4, \"Income composition of resources\": 0.39399999999999996, \"Schooling\": 7.3, \"id\": 148, \"tooltip\": \"Chad: 53.1 yr\"}, {\"Country\": \"Chile\", \"Year\": 2015, \"Status\": \"Developing\", \"Life expectancy \": 85.0, \"Adult Mortality\": 82.0, \"infant deaths\": 2, \"Alcohol\": null, \"percentage expenditure\": 0.0, \"Hepatitis B\": 97.0, \"Measles \": 9, \" BMI \": 63.8, \"under-five deaths \": 2, \"Polio\": 96.0, \"Total expenditure\": null, \"Diphtheria \": 96.0, \" HIV/AIDS\": 0.1, \"GDP\": 13653.2264, \"Population\": 17762681.0, \" thinness  1-19 years\": 0.8, \" thinness 5-9 years\": 0.8, \"Income composition of resources\": 0.845, \"Schooling\": 16.3, \"id\": 152, \"tooltip\": \"Chile: 85.0 yr\"}, {\"Country\": \"China\", \"Year\": 2015, \"Status\": \"Developing\", \"Life expectancy \": 76.1, \"Adult Mortality\": 85.0, \"infant deaths\": 157, \"Alcohol\": null, \"percentage expenditure\": 0.0, \"Hepatitis B\": 99.0, \"Measles \": 42361, \" BMI \": 32.9, \"under-five deaths \": 183, \"Polio\": 99.0, \"Total expenditure\": null, \"Diphtheria \": 99.0, \" HIV/AIDS\": 0.1, \"GDP\": 869.211938, \"Population\": 137122.0, \" thinness  1-19 years\": 3.6, \" thinness 5-9 years\": 2.9, \"Income composition of resources\": 0.7340000000000001, \"Schooling\": 13.5, \"id\": 156, \"tooltip\": \"China: 76.1 yr\"}, {\"Country\": \"Colombia\", \"Year\": 2015, \"Status\": \"Developing\", \"Life expectancy \": 74.8, \"Adult Mortality\": 143.0, \"infant deaths\": 10, \"Alcohol\": null, \"percentage expenditure\": 0.0, \"Hepatitis B\": 91.0, \"Measles \": 1, \" BMI \": 57.9, \"under-five deaths \": 12, \"Polio\": 91.0, \"Total expenditure\": null, \"Diphtheria \": 91.0, \" HIV/AIDS\": 0.1, \"GDP\": 644.5255559999999, \"Population\": 48228697.0, \" thinness  1-19 years\": 2.1, \" thinness 5-9 years\": 1.9, \"Income composition of resources\": 0.7240000000000001, \"Schooling\": 13.6, \"id\": 170, \"tooltip\": \"Colombia: 74.8 yr\"}, {\"Country\": \"Comoros\", \"Year\": 2015, \"Status\": \"Developing\", \"Life expectancy \": 63.5, \"Adult Mortality\": 227.0, \"infant deaths\": 1, \"Alcohol\": null, \"percentage expenditure\": 0.0, \"Hepatitis B\": 91.0, \"Measles \": 0, \" BMI \": 24.2, \"under-five deaths \": 2, \"Polio\": 92.0, \"Total expenditure\": null, \"Diphtheria \": 91.0, \" HIV/AIDS\": 0.8, \"GDP\": 727.6463868, \"Population\": 777424.0, \" thinness  1-19 years\": 6.7, \" thinness 5-9 years\": 6.5, \"Income composition of resources\": 0.498, \"Schooling\": 11.1, \"id\": 174, \"tooltip\": \"Comoros: 63.5 yr\"}, {\"Country\": \"Congo\", \"Year\": 2015, \"Status\": \"Developing\", \"Life expectancy \": 64.7, \"Adult Mortality\": 267.0, \"infant deaths\": 7, \"Alcohol\": null, \"percentage expenditure\": 0.0, \"Hepatitis B\": 8.0, \"Measles \": 1359, \" BMI \": 27.4, \"under-five deaths \": 10, \"Polio\": 8.0, \"Total expenditure\": null, \"Diphtheria \": 8.0, \" HIV/AIDS\": 2.8, \"GDP\": null, \"Population\": null, \" thinness  1-19 years\": 7.5, \" thinness 5-9 years\": 7.1, \"Income composition of resources\": 0.59, \"Schooling\": 11.1, \"id\": 178, \"tooltip\": \"Congo: 64.7 yr\"}, {\"Country\": \"Costa Rica\", \"Year\": 2015, \"Status\": \"Developing\", \"Life expectancy \": 79.6, \"Adult Mortality\": 95.0, \"infant deaths\": 1, \"Alcohol\": null, \"percentage expenditure\": 0.0, \"Hepatitis B\": 92.0, \"Measles \": 0, \" BMI \": 6.5, \"under-five deaths \": 1, \"Polio\": 92.0, \"Total expenditure\": null, \"Diphtheria \": 92.0, \" HIV/AIDS\": 0.1, \"GDP\": 1146.36273, \"Population\": 487852.0, \" thinness  1-19 years\": 1.7, \" thinness 5-9 years\": 1.7, \"Income composition of resources\": 0.775, \"Schooling\": 14.2, \"id\": 188, \"tooltip\": \"Costa Rica: 79.6 yr\"}, {\"Country\": \"Croatia\", \"Year\": 2015, \"Status\": \"Developed\", \"Life expectancy \": 78.0, \"Adult Mortality\": 95.0, \"infant deaths\": 0, \"Alcohol\": null, \"percentage expenditure\": 0.0, \"Hepatitis B\": 94.0, \"Measles \": 206, \" BMI \": 63.7, \"under-five deaths \": 0, \"Polio\": 94.0, \"Total expenditure\": null, \"Diphtheria \": 94.0, \" HIV/AIDS\": 0.1, \"GDP\": 11579.6674, \"Population\": 42364.0, \" thinness  1-19 years\": 1.5, \" thinness 5-9 years\": 1.4, \"Income composition of resources\": 0.823, \"Schooling\": 15.3, \"id\": 191, \"tooltip\": \"Croatia: 78.0 yr\"}, {\"Country\": \"Cuba\", \"Year\": 2015, \"Status\": \"Developing\", \"Life expectancy \": 79.1, \"Adult Mortality\": 92.0, \"infant deaths\": 1, \"Alcohol\": null, \"percentage expenditure\": 0.0, \"Hepatitis B\": 99.0, \"Measles \": 0, \" BMI \": 61.4, \"under-five deaths \": 1, \"Polio\": 99.0, \"Total expenditure\": null, \"Diphtheria \": 99.0, \" HIV/AIDS\": 0.1, \"GDP\": 762.261218, \"Population\": null, \" thinness  1-19 years\": 3.5, \" thinness 5-9 years\": 3.3, \"Income composition of resources\": 0.773, \"Schooling\": 13.9, \"id\": 192, \"tooltip\": \"Cuba: 79.1 yr\"}, {\"Country\": \"Cyprus\", \"Year\": 2015, \"Status\": \"Developed\", \"Life expectancy \": 85.0, \"Adult Mortality\": 52.0, \"infant deaths\": 0, \"Alcohol\": null, \"percentage expenditure\": 0.0, \"Hepatitis B\": 97.0, \"Measles \": 0, \" BMI \": 6.3, \"under-five deaths \": 0, \"Polio\": 97.0, \"Total expenditure\": null, \"Diphtheria \": 97.0, \" HIV/AIDS\": 0.1, \"GDP\": 2375.1127, \"Population\": 116985.0, \" thinness  1-19 years\": 1.0, \" thinness 5-9 years\": 1.0, \"Income composition of resources\": 0.8540000000000001, \"Schooling\": 14.3, \"id\": 196, \"tooltip\": \"Cyprus: 85.0 yr\"}, {\"Country\": \"Czechia\", \"Year\": 2015, \"Status\": \"Developed\", \"Life expectancy \": 78.8, \"Adult Mortality\": 86.0, \"infant deaths\": 0, \"Alcohol\": null, \"percentage expenditure\": 0.0, \"Hepatitis B\": 97.0, \"Measles \": 9, \" BMI \": 66.1, \"under-five deaths \": 0, \"Polio\": 97.0, \"Total expenditure\": null, \"Diphtheria \": 97.0, \" HIV/AIDS\": 0.1, \"GDP\": null, \"Population\": null, \" thinness  1-19 years\": 1.8, \" thinness 5-9 years\": 1.8, \"Income composition of resources\": null, \"Schooling\": null, \"id\": 203, \"tooltip\": \"Czechia: 78.8 yr\"}, {\"Country\": \"Democratic People's Republic of Korea\", \"Year\": 2015, \"Status\": \"Developing\", \"Life expectancy \": 76.0, \"Adult Mortality\": 139.0, \"infant deaths\": 6, \"Alcohol\": null, \"percentage expenditure\": 0.0, \"Hepatitis B\": 96.0, \"Measles \": 0, \" BMI \": 32.9, \"under-five deaths \": 7, \"Polio\": 99.0, \"Total expenditure\": null, \"Diphtheria \": 96.0, \" HIV/AIDS\": 0.1, \"GDP\": null, \"Population\": null, \" thinness  1-19 years\": 4.9, \" thinness 5-9 years\": 4.9, \"Income composition of resources\": null, \"Schooling\": null, \"id\": 408, \"tooltip\": \"Democratic People's Republic of Korea: 76.0 yr\"}, {\"Country\": \"Democratic Republic of the Congo\", \"Year\": 2015, \"Status\": \"Developing\", \"Life expectancy \": 59.8, \"Adult Mortality\": 258.0, \"infant deaths\": 236, \"Alcohol\": null, \"percentage expenditure\": 0.0, \"Hepatitis B\": 81.0, \"Measles \": 5020, \" BMI \": 21.6, \"under-five deaths \": 308, \"Polio\": 78.0, \"Total expenditure\": null, \"Diphtheria \": 81.0, \" HIV/AIDS\": 1.1, \"GDP\": null, \"Population\": null, \" thinness  1-19 years\": 9.5, \" thinness 5-9 years\": 9.3, \"Income composition of resources\": null, \"Schooling\": null, \"id\": 180, \"tooltip\": \"Democratic Republic of the Congo: 59.8 yr\"}, {\"Country\": \"Denmark\", \"Year\": 2015, \"Status\": \"Developed\", \"Life expectancy \": 86.0, \"Adult Mortality\": 71.0, \"infant deaths\": 0, \"Alcohol\": null, \"percentage expenditure\": 0.0, \"Hepatitis B\": null, \"Measles \": 9, \" BMI \": 58.8, \"under-five deaths \": 0, \"Polio\": 93.0, \"Total expenditure\": null, \"Diphtheria \": 93.0, \" HIV/AIDS\": 0.1, \"GDP\": 5314.64416, \"Population\": 5683483.0, \" thinness  1-19 years\": 1.1, \" thinness 5-9 years\": 0.9, \"Income composition of resources\": 0.9229999999999999, \"Schooling\": 19.2, \"id\": 208, \"tooltip\": \"Denmark: 86.0 yr\"}, {\"Country\": \"Djibouti\", \"Year\": 2015, \"Status\": \"Developing\", \"Life expectancy \": 63.5, \"Adult Mortality\": 241.0, \"infant deaths\": 1, \"Alcohol\": null, \"percentage expenditure\": 0.0, \"Hepatitis B\": 84.0, \"Measles \": 47, \" BMI \": 35.0, \"under-five deaths \": 1, \"Polio\": 84.0, \"Total expenditure\": null, \"Diphtheria \": 84.0, \" HIV/AIDS\": 2.1, \"GDP\": 1862.167274, \"Population\": 927414.0, \" thinness  1-19 years\": 5.6, \" thinness 5-9 years\": 5.4, \"Income composition of resources\": 0.47, \"Schooling\": 6.3, \"id\": 262, \"tooltip\": \"Djibouti: 63.5 yr\"}, {\"Country\": \"Dominican Republic\", \"Year\": 2015, \"Status\": \"Developing\", \"Life expectancy \": 73.9, \"Adult Mortality\": 152.0, \"infant deaths\": 6, \"Alcohol\": null, \"percentage expenditure\": 0.0, \"Hepatitis B\": 81.0, \"Measles \": 0, \" BMI \": 58.9, \"under-five deaths \": 7, \"Polio\": 87.0, \"Total expenditure\": null, \"Diphtheria \": 85.0, \" HIV/AIDS\": 0.3, \"GDP\": 6468.471648, \"Population\": 1528394.0, \" thinness  1-19 years\": 3.3, \" thinness 5-9 years\": 3.2, \"Income composition of resources\": 0.718, \"Schooling\": 13.2, \"id\": 214, \"tooltip\": \"Dominican Republic: 73.9 yr\"}, {\"Country\": \"Ecuador\", \"Year\": 2015, \"Status\": \"Developing\", \"Life expectancy \": 76.2, \"Adult Mortality\": 118.0, \"infant deaths\": 6, \"Alcohol\": null, \"percentage expenditure\": 0.0, \"Hepatitis B\": 78.0, \"Measles \": 0, \" BMI \": 54.2, \"under-five deaths \": 7, \"Polio\": 84.0, \"Total expenditure\": null, \"Diphtheria \": 78.0, \" HIV/AIDS\": 0.1, \"GDP\": 625.62224, \"Population\": 16144368.0, \" thinness  1-19 years\": 1.2, \" thinness 5-9 years\": 1.1, \"Income composition of resources\": 0.7390000000000001, \"Schooling\": 14.0, \"id\": 218, \"tooltip\": \"Ecuador: 76.2 yr\"}, {\"Country\": \"Egypt\", \"Year\": 2015, \"Status\": \"Developing\", \"Life expectancy \": 79.0, \"Adult Mortality\": 159.0, \"infant deaths\": 51, \"Alcohol\": null, \"percentage expenditure\": 0.0, \"Hepatitis B\": 93.0, \"Measles \": 5432, \" BMI \": 61.1, \"under-five deaths \": 60, \"Polio\": 93.0, \"Total expenditure\": null, \"Diphtheria \": 93.0, \" HIV/AIDS\": 0.1, \"GDP\": null, \"Population\": null, \" thinness  1-19 years\": 2.8, \" thinness 5-9 years\": 2.8, \"Income composition of resources\": 0.688, \"Schooling\": 13.1, \"id\": 818, \"tooltip\": \"Egypt: 79.0 yr\"}, {\"Country\": \"El Salvador\", \"Year\": 2015, \"Status\": \"Developing\", \"Life expectancy \": 73.5, \"Adult Mortality\": 178.0, \"infant deaths\": 2, \"Alcohol\": null, \"percentage expenditure\": 0.0, \"Hepatitis B\": 91.0, \"Measles \": 0, \" BMI \": 56.1, \"under-five deaths \": 2, \"Polio\": 92.0, \"Total expenditure\": null, \"Diphtheria \": 91.0, \" HIV/AIDS\": 0.2, \"GDP\": 4127.11775, \"Population\": 6312478.0, \" thinness  1-19 years\": 1.6, \" thinness 5-9 years\": 1.5, \"Income composition of resources\": 0.6779999999999999, \"Schooling\": 13.2, \"id\": 222, \"tooltip\": \"El Salvador: 73.5 yr\"}, {\"Country\": \"Equatorial Guinea\", \"Year\": 2015, \"Status\": \"Developing\", \"Life expectancy \": 58.2, \"Adult Mortality\": 32.0, \"infant deaths\": 3, \"Alcohol\": null, \"percentage expenditure\": 0.0, \"Hepatitis B\": 16.0, \"Measles \": 1250, \" BMI \": 24.5, \"under-five deaths \": 4, \"Polio\": 17.0, \"Total expenditure\": null, \"Diphtheria \": 16.0, \" HIV/AIDS\": 4.2, \"GDP\": 1347.3125699999998, \"Population\": 1175389.0, \" thinness  1-19 years\": 8.4, \" thinness 5-9 years\": 8.3, \"Income composition of resources\": 0.5820000000000001, \"Schooling\": 9.2, \"id\": 226, \"tooltip\": \"Equatorial Guinea: 58.2 yr\"}, {\"Country\": \"Eritrea\", \"Year\": 2015, \"Status\": \"Developing\", \"Life expectancy \": 64.7, \"Adult Mortality\": 255.0, \"infant deaths\": 5, \"Alcohol\": null, \"percentage expenditure\": 0.0, \"Hepatitis B\": 95.0, \"Measles \": 198, \" BMI \": 18.6, \"under-five deaths \": 7, \"Polio\": 95.0, \"Total expenditure\": null, \"Diphtheria \": 95.0, \" HIV/AIDS\": 0.4, \"GDP\": null, \"Population\": null, \" thinness  1-19 years\": 8.4, \" thinness 5-9 years\": 8.2, \"Income composition of resources\": 0.418, \"Schooling\": 5.0, \"id\": 232, \"tooltip\": \"Eritrea: 64.7 yr\"}, {\"Country\": \"Estonia\", \"Year\": 2015, \"Status\": \"Developing\", \"Life expectancy \": 77.6, \"Adult Mortality\": 119.0, \"infant deaths\": 0, \"Alcohol\": null, \"percentage expenditure\": 0.0, \"Hepatitis B\": 91.0, \"Measles \": 4, \" BMI \": 59.9, \"under-five deaths \": 0, \"Polio\": 93.0, \"Total expenditure\": null, \"Diphtheria \": 93.0, \" HIV/AIDS\": 0.1, \"GDP\": 1774.9291, \"Population\": 131547.0, \" thinness  1-19 years\": 1.9, \" thinness 5-9 years\": 1.9, \"Income composition of resources\": 0.863, \"Schooling\": 16.5, \"id\": 233, \"tooltip\": \"Estonia: 77.6 yr\"}, {\"Country\": \"Ethiopia\", \"Year\": 2015, \"Status\": \"Developing\", \"Life expectancy \": 64.8, \"Adult Mortality\": 225.0, \"infant deaths\": 136, \"Alcohol\": null, \"percentage expenditure\": 0.0, \"Hepatitis B\": 77.0, \"Measles \": 17745, \" BMI \": 17.6, \"under-five deaths \": 194, \"Polio\": 75.0, \"Total expenditure\": null, \"Diphtheria \": 77.0, \" HIV/AIDS\": 0.6, \"GDP\": 645.4637627000001, \"Population\": 9987333.0, \" thinness  1-19 years\": 1.4, \" thinness 5-9 years\": 1.2, \"Income composition of resources\": 0.441, \"Schooling\": 8.4, \"id\": 231, \"tooltip\": \"Ethiopia: 64.8 yr\"}, {\"Country\": \"Fiji\", \"Year\": 2015, \"Status\": \"Developing\", \"Life expectancy \": 69.9, \"Adult Mortality\": 188.0, \"infant deaths\": 0, \"Alcohol\": null, \"percentage expenditure\": 0.0, \"Hepatitis B\": 99.0, \"Measles \": 0, \" BMI \": 62.7, \"under-five deaths \": 0, \"Polio\": 99.0, \"Total expenditure\": null, \"Diphtheria \": 99.0, \" HIV/AIDS\": 0.1, \"GDP\": 4921.89629, \"Population\": 892149.0, \" thinness  1-19 years\": 4.0, \" thinness 5-9 years\": 3.7, \"Income composition of resources\": 0.7340000000000001, \"Schooling\": 15.3, \"id\": 242, \"tooltip\": \"Fiji: 69.9 yr\"}, {\"Country\": \"Finland\", \"Year\": 2015, \"Status\": \"Developing\", \"Life expectancy \": 81.1, \"Adult Mortality\": 76.0, \"infant deaths\": 0, \"Alcohol\": null, \"percentage expenditure\": 0.0, \"Hepatitis B\": null, \"Measles \": 2, \" BMI \": 62.1, \"under-five deaths \": 0, \"Polio\": 97.0, \"Total expenditure\": null, \"Diphtheria \": 97.0, \" HIV/AIDS\": 0.1, \"GDP\": 4245.39744, \"Population\": 5479531.0, \" thinness  1-19 years\": 0.9, \" thinness 5-9 years\": 0.8, \"Income composition of resources\": 0.893, \"Schooling\": 17.0, \"id\": 246, \"tooltip\": \"Finland: 81.1 yr\"}, {\"Country\": \"France\", \"Year\": 2015, \"Status\": \"Developing\", \"Life expectancy \": 82.4, \"Adult Mortality\": 78.0, \"infant deaths\": 2, \"Alcohol\": null, \"percentage expenditure\": 0.0, \"Hepatitis B\": 86.0, \"Measles \": 157, \" BMI \": 62.5, \"under-five deaths \": 3, \"Polio\": 98.0, \"Total expenditure\": null, \"Diphtheria \": 98.0, \" HIV/AIDS\": 0.1, \"GDP\": 36526.7711, \"Population\": 6662468.0, \" thinness  1-19 years\": 0.7, \" thinness 5-9 years\": 0.6, \"Income composition of resources\": 0.894, \"Schooling\": 16.3, \"id\": 250, \"tooltip\": \"France: 82.4 yr\"}, {\"Country\": \"Gabon\", \"Year\": 2015, \"Status\": \"Developing\", \"Life expectancy \": 66.0, \"Adult Mortality\": 229.0, \"infant deaths\": 2, \"Alcohol\": null, \"percentage expenditure\": 0.0, \"Hepatitis B\": 8.0, \"Measles \": 27, \" BMI \": 36.3, \"under-five deaths \": 3, \"Polio\": 79.0, \"Total expenditure\": null, \"Diphtheria \": 8.0, \" HIV/AIDS\": 2.7, \"GDP\": 7388.984144, \"Population\": 193175.0, \" thinness  1-19 years\": 6.1, \" thinness 5-9 years\": 5.9, \"Income composition of resources\": 0.6940000000000001, \"Schooling\": 12.6, \"id\": 266, \"tooltip\": \"Gabon: 66.0 yr\"}, {\"Country\": \"Gambia\", \"Year\": 2015, \"Status\": \"Developing\", \"Life expectancy \": 61.1, \"Adult Mortality\": 262.0, \"infant deaths\": 3, \"Alcohol\": null, \"percentage expenditure\": 0.0, \"Hepatitis B\": 97.0, \"Measles \": 71, \" BMI \": 27.3, \"under-five deaths \": 5, \"Polio\": 96.0, \"Total expenditure\": null, \"Diphtheria \": 97.0, \" HIV/AIDS\": 1.7, \"GDP\": null, \"Population\": null, \" thinness  1-19 years\": 7.3, \" thinness 5-9 years\": 7.2, \"Income composition of resources\": 0.45, \"Schooling\": 8.9, \"id\": 270, \"tooltip\": \"Gambia: 61.1 yr\"}, {\"Country\": \"Georgia\", \"Year\": 2015, \"Status\": \"Developing\", \"Life expectancy \": 74.4, \"Adult Mortality\": 129.0, \"infant deaths\": 1, \"Alcohol\": null, \"percentage expenditure\": 0.0, \"Hepatitis B\": 94.0, \"Measles \": 431, \" BMI \": 56.2, \"under-five deaths \": 1, \"Polio\": 91.0, \"Total expenditure\": null, \"Diphtheria \": 94.0, \" HIV/AIDS\": 0.1, \"GDP\": 3764.6491200000005, \"Population\": 37171.0, \" thinness  1-19 years\": 2.7, \" thinness 5-9 years\": 2.8, \"Income composition of resources\": 0.768, \"Schooling\": 13.9, \"id\": 268, \"tooltip\": \"Georgia: 74.4 yr\"}, {\"Country\": \"Germany\", \"Year\": 2015, \"Status\": \"Developed\", \"Life expectancy \": 81.0, \"Adult Mortality\": 68.0, \"infant deaths\": 2, \"Alcohol\": null, \"percentage expenditure\": 0.0, \"Hepatitis B\": 88.0, \"Measles \": 2464, \" BMI \": 62.3, \"under-five deaths \": 3, \"Polio\": 94.0, \"Total expenditure\": null, \"Diphtheria \": 95.0, \" HIV/AIDS\": 0.1, \"GDP\": 41176.88158, \"Population\": 81686611.0, \" thinness  1-19 years\": 1.1, \" thinness 5-9 years\": 1.1, \"Income composition of resources\": 0.924, \"Schooling\": 17.1, \"id\": 276, \"tooltip\": \"Germany: 81.0 yr\"}, {\"Country\": \"Ghana\", \"Year\": 2015, \"Status\": \"Developing\", \"Life expectancy \": 62.4, \"Adult Mortality\": 249.0, \"infant deaths\": 37, \"Alcohol\": null, \"percentage expenditure\": 0.0, \"Hepatitis B\": 88.0, \"Measles \": 23, \" BMI \": 28.6, \"under-five deaths \": 52, \"Polio\": 88.0, \"Total expenditure\": null, \"Diphtheria \": 88.0, \" HIV/AIDS\": 0.7, \"GDP\": 1361.11395, \"Population\": 27582821.0, \" thinness  1-19 years\": 6.2, \" thinness 5-9 years\": 6.1, \"Income composition of resources\": 0.575, \"Schooling\": 11.4, \"id\": 288, \"tooltip\": \"Ghana: 62.4 yr\"}, {\"Country\": \"Greece\", \"Year\": 2015, \"Status\": \"Developing\", \"Life expectancy \": 81.0, \"Adult Mortality\": 72.0, \"infant deaths\": 0, \"Alcohol\": null, \"percentage expenditure\": 0.0, \"Hepatitis B\": 96.0, \"Measles \": 1, \" BMI \": 66.5, \"under-five deaths \": 0, \"Polio\": 99.0, \"Total expenditure\": null, \"Diphtheria \": 99.0, \" HIV/AIDS\": 0.1, \"GDP\": 187.78991000000002, \"Population\": 182883.0, \" thinness  1-19 years\": 0.8, \" thinness 5-9 years\": 0.7, \"Income composition of resources\": 0.865, \"Schooling\": 17.2, \"id\": 300, \"tooltip\": \"Greece: 81.0 yr\"}, {\"Country\": \"Grenada\", \"Year\": 2015, \"Status\": \"Developing\", \"Life expectancy \": 73.6, \"Adult Mortality\": 142.0, \"infant deaths\": 0, \"Alcohol\": null, \"percentage expenditure\": 0.0, \"Hepatitis B\": 92.0, \"Measles \": 0, \" BMI \": 48.4, \"under-five deaths \": 0, \"Polio\": 99.0, \"Total expenditure\": null, \"Diphtheria \": 92.0, \" HIV/AIDS\": 0.1, \"GDP\": 9212.192824, \"Population\": null, \" thinness  1-19 years\": 3.8, \" thinness 5-9 years\": 3.8, \"Income composition of resources\": 0.7509999999999999, \"Schooling\": 15.8, \"id\": 308, \"tooltip\": \"Grenada: 73.6 yr\"}, {\"Country\": \"Guatemala\", \"Year\": 2015, \"Status\": \"Developing\", \"Life expectancy \": 71.9, \"Adult Mortality\": 186.0, \"infant deaths\": 10, \"Alcohol\": null, \"percentage expenditure\": 0.0, \"Hepatitis B\": 74.0, \"Measles \": 0, \" BMI \": 5.6, \"under-five deaths \": 12, \"Polio\": 9.0, \"Total expenditure\": null, \"Diphtheria \": 74.0, \" HIV/AIDS\": 0.4, \"GDP\": 3923.573344, \"Population\": 16252429.0, \" thinness  1-19 years\": 1.2, \" thinness 5-9 years\": 1.2, \"Income composition of resources\": 0.637, \"Schooling\": 10.7, \"id\": 320, \"tooltip\": \"Guatemala: 71.9 yr\"}, {\"Country\": \"Guinea\", \"Year\": 2015, \"Status\": \"Developing\", \"Life expectancy \": 59.0, \"Adult Mortality\": 284.0, \"infant deaths\": 26, \"Alcohol\": null, \"percentage expenditure\": 0.0, \"Hepatitis B\": 54.0, \"Measles \": 243, \" BMI \": 23.3, \"under-five deaths \": 40, \"Polio\": 42.0, \"Total expenditure\": null, \"Diphtheria \": 54.0, \" HIV/AIDS\": 0.5, \"GDP\": 554.48766, \"Population\": 1291533.0, \" thinness  1-19 years\": 7.3, \" thinness 5-9 years\": 7.3, \"Income composition of resources\": 0.414, \"Schooling\": 8.8, \"id\": 324, \"tooltip\": \"Guinea: 59.0 yr\"}, {\"Country\": \"Guinea-Bissau\", \"Year\": 2015, \"Status\": \"Developing\", \"Life expectancy \": 58.9, \"Adult Mortality\": 275.0, \"infant deaths\": 4, \"Alcohol\": null, \"percentage expenditure\": 0.0, \"Hepatitis B\": 87.0, \"Measles \": 153, \" BMI \": 26.3, \"under-five deaths \": 6, \"Polio\": 87.0, \"Total expenditure\": null, \"Diphtheria \": 87.0, \" HIV/AIDS\": 3.2, \"GDP\": 596.8717188999999, \"Population\": 177526.0, \" thinness  1-19 years\": 7.1, \" thinness 5-9 years\": 7.0, \"Income composition of resources\": 0.42100000000000004, \"Schooling\": 9.2, \"id\": 624, \"tooltip\": \"Guinea-Bissau: 58.9 yr\"}, {\"Country\": \"Guyana\", \"Year\": 2015, \"Status\": \"Developing\", \"Life expectancy \": 66.2, \"Adult Mortality\": 215.0, \"infant deaths\": 0, \"Alcohol\": null, \"percentage expenditure\": 0.0, \"Hepatitis B\": 95.0, \"Measles \": 0, \" BMI \": 46.7, \"under-five deaths \": 1, \"Polio\": 92.0, \"Total expenditure\": null, \"Diphtheria \": 95.0, \" HIV/AIDS\": 0.3, \"GDP\": 4136.6899189999995, \"Population\": 768514.0, \" thinness  1-19 years\": 5.5, \" thinness 5-9 years\": 5.3, \"Income composition of resources\": 0.638, \"Schooling\": 10.3, \"id\": 328, \"tooltip\": \"Guyana: 66.2 yr\"}, {\"Country\": \"Haiti\", \"Year\": 2015, \"Status\": \"Developing\", \"Life expectancy \": 63.5, \"Adult Mortality\": 24.0, \"infant deaths\": 14, \"Alcohol\": null, \"percentage expenditure\": 0.0, \"Hepatitis B\": 6.0, \"Measles \": 0, \" BMI \": 49.9, \"under-five deaths \": 18, \"Polio\": 56.0, \"Total expenditure\": null, \"Diphtheria \": 6.0, \" HIV/AIDS\": 0.5, \"GDP\": 814.5463952, \"Population\": 171161.0, \" thinness  1-19 years\": 3.9, \" thinness 5-9 years\": 3.9, \"Income composition of resources\": 0.49, \"Schooling\": 9.1, \"id\": 332, \"tooltip\": \"Haiti: 63.5 yr\"}, {\"Country\": \"Honduras\", \"Year\": 2015, \"Status\": \"Developing\", \"Life expectancy \": 74.6, \"Adult Mortality\": 147.0, \"infant deaths\": 3, \"Alcohol\": null, \"percentage expenditure\": 0.0, \"Hepatitis B\": 97.0, \"Measles \": 0, \" BMI \": 51.0, \"under-five deaths \": 4, \"Polio\": 97.0, \"Total expenditure\": null, \"Diphtheria \": 97.0, \" HIV/AIDS\": 0.3, \"GDP\": 2326.1585600000003, \"Population\": 896829.0, \" thinness  1-19 years\": 2.1, \" thinness 5-9 years\": 2.1, \"Income composition of resources\": 0.623, \"Schooling\": 11.2, \"id\": 340, \"tooltip\": \"Honduras: 74.6 yr\"}, {\"Country\": \"Hungary\", \"Year\": 2015, \"Status\": \"Developed\", \"Life expectancy \": 75.8, \"Adult Mortality\": 134.0, \"infant deaths\": 0, \"Alcohol\": null, \"percentage expenditure\": 0.0, \"Hepatitis B\": null, \"Measles \": 0, \" BMI \": 64.8, \"under-five deaths \": 0, \"Polio\": 99.0, \"Total expenditure\": null, \"Diphtheria \": 99.0, \" HIV/AIDS\": 0.1, \"GDP\": 12365.6263, \"Population\": 984328.0, \" thinness  1-19 years\": 1.6, \" thinness 5-9 years\": 1.6, \"Income composition of resources\": 0.8340000000000001, \"Schooling\": 15.6, \"id\": 348, \"tooltip\": \"Hungary: 75.8 yr\"}, {\"Country\": \"Iceland\", \"Year\": 2015, \"Status\": \"Developed\", \"Life expectancy \": 82.7, \"Adult Mortality\": 49.0, \"infant deaths\": 0, \"Alcohol\": null, \"percentage expenditure\": 0.0, \"Hepatitis B\": null, \"Measles \": 0, \" BMI \": 61.0, \"under-five deaths \": 0, \"Polio\": 92.0, \"Total expenditure\": null, \"Diphtheria \": 92.0, \" HIV/AIDS\": 0.1, \"GDP\": 5734.4436, \"Population\": 33815.0, \" thinness  1-19 years\": 1.0, \" thinness 5-9 years\": 0.9, \"Income composition of resources\": 0.919, \"Schooling\": 19.0, \"id\": 352, \"tooltip\": \"Iceland: 82.7 yr\"}, {\"Country\": \"India\", \"Year\": 2015, \"Status\": \"Developing\", \"Life expectancy \": 68.3, \"Adult Mortality\": 181.0, \"infant deaths\": 910, \"Alcohol\": null, \"percentage expenditure\": 0.0, \"Hepatitis B\": 87.0, \"Measles \": 90387, \" BMI \": 18.7, \"under-five deaths \": 1100, \"Polio\": 86.0, \"Total expenditure\": null, \"Diphtheria \": 87.0, \" HIV/AIDS\": 0.2, \"GDP\": 1613.1887800000002, \"Population\": 1395398.0, \" thinness  1-19 years\": 26.7, \" thinness 5-9 years\": 27.3, \"Income composition of resources\": 0.615, \"Schooling\": 11.6, \"id\": 356, \"tooltip\": \"India: 68.3 yr\"}, {\"Country\": \"Indonesia\", \"Year\": 2015, \"Status\": \"Developing\", \"Life expectancy \": 69.1, \"Adult Mortality\": 176.0, \"infant deaths\": 114, \"Alcohol\": null, \"percentage expenditure\": 0.0, \"Hepatitis B\": 78.0, \"Measles \": 15099, \" BMI \": 27.4, \"under-five deaths \": 136, \"Polio\": 8.0, \"Total expenditure\": null, \"Diphtheria \": 78.0, \" HIV/AIDS\": 0.3, \"GDP\": 3336.1668600000003, \"Population\": 258162113.0, \" thinness  1-19 years\": 1.4, \" thinness 5-9 years\": 1.2, \"Income composition of resources\": 0.6859999999999999, \"Schooling\": 12.9, \"id\": 360, \"tooltip\": \"Indonesia: 69.1 yr\"}, {\"Country\": \"Iran (Islamic Republic of)\", \"Year\": 2015, \"Status\": \"Developing\", \"Life expectancy \": 75.5, \"Adult Mortality\": 83.0, \"infant deaths\": 18, \"Alcohol\": null, \"percentage expenditure\": 0.0, \"Hepatitis B\": 98.0, \"Measles \": 615, \" BMI \": 59.7, \"under-five deaths \": 21, \"Polio\": 98.0, \"Total expenditure\": null, \"Diphtheria \": 98.0, \" HIV/AIDS\": 0.1, \"GDP\": null, \"Population\": null, \" thinness  1-19 years\": 8.5, \" thinness 5-9 years\": 8.6, \"Income composition of resources\": 0.774, \"Schooling\": 14.8, \"id\": 364, \"tooltip\": \"Iran (Islamic Republic of): 75.5 yr\"}, {\"Country\": \"Iraq\", \"Year\": 2015, \"Status\": \"Developing\", \"Life expectancy \": 68.9, \"Adult Mortality\": 182.0, \"infant deaths\": 32, \"Alcohol\": null, \"percentage expenditure\": 0.0, \"Hepatitis B\": 56.0, \"Measles \": 1433, \" BMI \": 59.1, \"under-five deaths \": 38, \"Polio\": 63.0, \"Total expenditure\": null, \"Diphtheria \": 58.0, \" HIV/AIDS\": 0.1, \"GDP\": 4974.2693, \"Population\": 36115649.0, \" thinness  1-19 years\": 5.3, \" thinness 5-9 years\": 5.1, \"Income composition of resources\": 0.649, \"Schooling\": 10.1, \"id\": 368, \"tooltip\": \"Iraq: 68.9 yr\"}, {\"Country\": \"Ireland\", \"Year\": 2015, \"Status\": \"Developed\", \"Life expectancy \": 81.4, \"Adult Mortality\": 64.0, \"infant deaths\": 0, \"Alcohol\": null, \"percentage expenditure\": 0.0, \"Hepatitis B\": 95.0, \"Measles \": 4, \" BMI \": 62.8, \"under-five deaths \": 0, \"Polio\": 95.0, \"Total expenditure\": null, \"Diphtheria \": 95.0, \" HIV/AIDS\": 0.1, \"GDP\": 6664.144, \"Population\": 4676835.0, \" thinness  1-19 years\": 0.3, \" thinness 5-9 years\": 0.2, \"Income composition of resources\": 0.92, \"Schooling\": 18.6, \"id\": 372, \"tooltip\": \"Ireland: 81.4 yr\"}, {\"Country\": \"Israel\", \"Year\": 2015, \"Status\": \"Developing\", \"Life expectancy \": 82.5, \"Adult Mortality\": 58.0, \"infant deaths\": 0, \"Alcohol\": null, \"percentage expenditure\": 0.0, \"Hepatitis B\": 96.0, \"Measles \": 80, \" BMI \": 64.9, \"under-five deaths \": 1, \"Polio\": 95.0, \"Total expenditure\": null, \"Diphtheria \": 95.0, \" HIV/AIDS\": 0.1, \"GDP\": 35729.37253, \"Population\": 8381.0, \" thinness  1-19 years\": 1.2, \" thinness 5-9 years\": 1.1, \"Income composition of resources\": 0.898, \"Schooling\": 16.0, \"id\": 376, \"tooltip\": \"Israel: 82.5 yr\"}, {\"Country\": \"Italy\", \"Year\": 2015, \"Status\": \"Developed\", \"Life expectancy \": 82.7, \"Adult Mortality\": 56.0, \"infant deaths\": 1, \"Alcohol\": null, \"percentage expenditure\": 0.0, \"Hepatitis B\": 93.0, \"Measles \": 159, \" BMI \": 63.6, \"under-five deaths \": 2, \"Polio\": 93.0, \"Total expenditure\": null, \"Diphtheria \": 93.0, \" HIV/AIDS\": 0.1, \"GDP\": 349.14755, \"Population\": 673582.0, \" thinness  1-19 years\": 0.6, \" thinness 5-9 years\": 0.6, \"Income composition of resources\": 0.8809999999999999, \"Schooling\": 16.3, \"id\": 380, \"tooltip\": \"Italy: 82.7 yr\"}, {\"Country\": \"Jamaica\", \"Year\": 2015, \"Status\": \"Developing\", \"Life expectancy \": 76.2, \"Adult Mortality\": 125.0, \"infant deaths\": 1, \"Alcohol\": null, \"percentage expenditure\": 0.0, \"Hepatitis B\": 91.0, \"Measles \": 0, \" BMI \": 54.2, \"under-five deaths \": 1, \"Polio\": 91.0, \"Total expenditure\": null, \"Diphtheria \": 91.0, \" HIV/AIDS\": 0.5, \"GDP\": 4965.9898570000005, \"Population\": 2871934.0, \" thinness  1-19 years\": 1.8, \" thinness 5-9 years\": 1.7, \"Income composition of resources\": 0.7290000000000001, \"Schooling\": 12.8, \"id\": 388, \"tooltip\": \"Jamaica: 76.2 yr\"}, {\"Country\": \"Japan\", \"Year\": 2015, \"Status\": \"Developed\", \"Life expectancy \": 83.7, \"Adult Mortality\": 55.0, \"infant deaths\": 2, \"Alcohol\": null, \"percentage expenditure\": 0.0, \"Hepatitis B\": null, \"Measles \": 35, \" BMI \": 29.0, \"under-five deaths \": 3, \"Polio\": 99.0, \"Total expenditure\": null, \"Diphtheria \": 96.0, \" HIV/AIDS\": 0.1, \"GDP\": 34474.13736, \"Population\": 127141.0, \" thinness  1-19 years\": 2.1, \" thinness 5-9 years\": 1.8, \"Income composition of resources\": 0.902, \"Schooling\": 15.3, \"id\": 392, \"tooltip\": \"Japan: 83.7 yr\"}, {\"Country\": \"Jordan\", \"Year\": 2015, \"Status\": \"Developing\", \"Life expectancy \": 74.1, \"Adult Mortality\": 112.0, \"infant deaths\": 4, \"Alcohol\": null, \"percentage expenditure\": 0.0, \"Hepatitis B\": 99.0, \"Measles \": 0, \" BMI \": 65.6, \"under-five deaths \": 4, \"Polio\": 99.0, \"Total expenditure\": null, \"Diphtheria \": 99.0, \" HIV/AIDS\": 0.1, \"GDP\": 496.99275, \"Population\": 915932.0, \" thinness  1-19 years\": 4.0, \" thinness 5-9 years\": 4.0, \"Income composition of resources\": 0.741, \"Schooling\": 13.1, \"id\": 400, \"tooltip\": \"Jordan: 74.1 yr\"}, {\"Country\": \"Kazakhstan\", \"Year\": 2015, \"Status\": \"Developing\", \"Life expectancy \": 72.0, \"Adult Mortality\": 198.0, \"infant deaths\": 4, \"Alcohol\": null, \"percentage expenditure\": 0.0, \"Hepatitis B\": 98.0, \"Measles \": 526, \" BMI \": 53.1, \"under-five deaths \": 5, \"Polio\": 98.0, \"Total expenditure\": null, \"Diphtheria \": 98.0, \" HIV/AIDS\": 0.1, \"GDP\": 159.9817, \"Population\": 17544126.0, \" thinness  1-19 years\": 2.4, \" thinness 5-9 years\": 2.5, \"Income composition of resources\": 0.7929999999999999, \"Schooling\": 15.0, \"id\": 398, \"tooltip\": \"Kazakhstan: 72.0 yr\"}, {\"Country\": \"Kenya\", \"Year\": 2015, \"Status\": \"Developing\", \"Life expectancy \": 63.4, \"Adult Mortality\": 249.0, \"infant deaths\": 54, \"Alcohol\": null, \"percentage expenditure\": 0.0, \"Hepatitis B\": 89.0, \"Measles \": 95, \" BMI \": 22.0, \"under-five deaths \": 75, \"Polio\": 83.0, \"Total expenditure\": null, \"Diphtheria \": 89.0, \" HIV/AIDS\": 2.8, \"GDP\": 1349.97144, \"Population\": 47236259.0, \" thinness  1-19 years\": 7.8, \" thinness 5-9 years\": 7.6, \"Income composition of resources\": 0.55, \"Schooling\": 11.1, \"id\": 404, \"tooltip\": \"Kenya: 63.4 yr\"}, {\"Country\": \"Kiribati\", \"Year\": 2015, \"Status\": \"Developing\", \"Life expectancy \": 66.3, \"Adult Mortality\": 198.0, \"infant deaths\": 0, \"Alcohol\": null, \"percentage expenditure\": 0.0, \"Hepatitis B\": 82.0, \"Measles \": 0, \" BMI \": 77.6, \"under-five deaths \": 0, \"Polio\": 8.0, \"Total expenditure\": null, \"Diphtheria \": 78.0, \" HIV/AIDS\": 0.1, \"GDP\": 1424.4836109999999, \"Population\": 11247.0, \" thinness  1-19 years\": 0.1, \" thinness 5-9 years\": 0.1, \"Income composition of resources\": 0.586, \"Schooling\": 11.9, \"id\": 296, \"tooltip\": \"Kiribati: 66.3 yr\"}, {\"Country\": \"Kuwait\", \"Year\": 2015, \"Status\": \"Developing\", \"Life expectancy \": 74.7, \"Adult Mortality\": 81.0, \"infant deaths\": 0, \"Alcohol\": null, \"percentage expenditure\": 0.0, \"Hepatitis B\": 99.0, \"Measles \": 18, \" BMI \": 71.4, \"under-five deaths \": 1, \"Polio\": 99.0, \"Total expenditure\": null, \"Diphtheria \": 99.0, \" HIV/AIDS\": 0.1, \"GDP\": 28975.417999999998, \"Population\": null, \" thinness  1-19 years\": 3.5, \" thinness 5-9 years\": 3.4, \"Income composition of resources\": 0.799, \"Schooling\": 13.3, \"id\": 414, \"tooltip\": \"Kuwait: 74.7 yr\"}, {\"Country\": \"Kyrgyzstan\", \"Year\": 2015, \"Status\": \"Developing\", \"Life expectancy \": 71.1, \"Adult Mortality\": 166.0, \"infant deaths\": 3, \"Alcohol\": null, \"percentage expenditure\": 0.0, \"Hepatitis B\": 97.0, \"Measles \": 17779, \" BMI \": 44.9, \"under-five deaths \": 3, \"Polio\": 97.0, \"Total expenditure\": null, \"Diphtheria \": 97.0, \" HIV/AIDS\": 0.1, \"GDP\": null, \"Population\": null, \" thinness  1-19 years\": 3.3, \" thinness 5-9 years\": 3.4, \"Income composition of resources\": 0.662, \"Schooling\": 13.0, \"id\": 417, \"tooltip\": \"Kyrgyzstan: 71.1 yr\"}, {\"Country\": \"Lao People's Democratic Republic\", \"Year\": 2015, \"Status\": \"Developing\", \"Life expectancy \": 65.7, \"Adult Mortality\": 194.0, \"infant deaths\": 8, \"Alcohol\": null, \"percentage expenditure\": 0.0, \"Hepatitis B\": 89.0, \"Measles \": 56, \" BMI \": 21.7, \"under-five deaths \": 11, \"Polio\": 89.0, \"Total expenditure\": null, \"Diphtheria \": 89.0, \" HIV/AIDS\": 0.2, \"GDP\": null, \"Population\": null, \" thinness  1-19 years\": 8.8, \" thinness 5-9 years\": 8.9, \"Income composition of resources\": 0.5820000000000001, \"Schooling\": 10.8, \"id\": 418, \"tooltip\": \"Lao People's Democratic Republic: 65.7 yr\"}, {\"Country\": \"Latvia\", \"Year\": 2015, \"Status\": \"Developed\", \"Life expectancy \": 74.6, \"Adult Mortality\": 153.0, \"infant deaths\": 0, \"Alcohol\": null, \"percentage expenditure\": 0.0, \"Hepatitis B\": 94.0, \"Measles \": 0, \" BMI \": 61.2, \"under-five deaths \": 0, \"Polio\": 95.0, \"Total expenditure\": null, \"Diphtheria \": 95.0, \" HIV/AIDS\": 0.1, \"GDP\": 13666.583359999999, \"Population\": 1977527.0, \" thinness  1-19 years\": 2.2, \" thinness 5-9 years\": 2.1, \"Income composition of resources\": 0.828, \"Schooling\": 16.0, \"id\": 428, \"tooltip\": \"Latvia: 74.6 yr\"}, {\"Country\": \"Lebanon\", \"Year\": 2015, \"Status\": \"Developing\", \"Life expectancy \": 74.9, \"Adult Mortality\": 98.0, \"infant deaths\": 1, \"Alcohol\": null, \"percentage expenditure\": 0.0, \"Hepatitis B\": 81.0, \"Measles \": 39, \" BMI \": 66.1, \"under-five deaths \": 1, \"Polio\": 75.0, \"Total expenditure\": null, \"Diphtheria \": 81.0, \" HIV/AIDS\": 0.1, \"GDP\": 846.632851, \"Population\": 5851479.0, \" thinness  1-19 years\": 4.9, \" thinness 5-9 years\": 4.9, \"Income composition of resources\": 0.763, \"Schooling\": 13.3, \"id\": 422, \"tooltip\": \"Lebanon: 74.9 yr\"}, {\"Country\": \"Lesotho\", \"Year\": 2015, \"Status\": \"Developing\", \"Life expectancy \": 53.7, \"Adult Mortality\": 484.0, \"infant deaths\": 4, \"Alcohol\": null, \"percentage expenditure\": 0.0, \"Hepatitis B\": 93.0, \"Measles \": 0, \" BMI \": 32.6, \"under-five deaths \": 6, \"Polio\": 9.0, \"Total expenditure\": null, \"Diphtheria \": 93.0, \" HIV/AIDS\": 9.3, \"GDP\": 173.82893, \"Population\": 2174645.0, \" thinness  1-19 years\": 5.5, \" thinness 5-9 years\": 5.3, \"Income composition of resources\": 0.495, \"Schooling\": 10.7, \"id\": 426, \"tooltip\": \"Lesotho: 53.7 yr\"}, {\"Country\": \"Liberia\", \"Year\": 2015, \"Status\": \"Developing\", \"Life expectancy \": 61.4, \"Adult Mortality\": 259.0, \"infant deaths\": 8, \"Alcohol\": null, \"percentage expenditure\": 0.0, \"Hepatitis B\": 52.0, \"Measles \": 1060, \" BMI \": 27.3, \"under-five deaths \": 11, \"Polio\": 52.0, \"Total expenditure\": null, \"Diphtheria \": 52.0, \" HIV/AIDS\": 0.9, \"GDP\": 452.38717, \"Population\": 4499621.0, \" thinness  1-19 years\": 6.5, \" thinness 5-9 years\": 6.4, \"Income composition of resources\": 0.42700000000000005, \"Schooling\": 9.9, \"id\": 430, \"tooltip\": \"Liberia: 61.4 yr\"}, {\"Country\": \"Libya\", \"Year\": 2015, \"Status\": \"Developing\", \"Life expectancy \": 72.7, \"Adult Mortality\": 138.0, \"infant deaths\": 1, \"Alcohol\": null, \"percentage expenditure\": 0.0, \"Hepatitis B\": 97.0, \"Measles \": 82, \" BMI \": 64.8, \"under-five deaths \": 2, \"Polio\": 97.0, \"Total expenditure\": null, \"Diphtheria \": 97.0, \" HIV/AIDS\": 0.1, \"GDP\": null, \"Population\": null, \" thinness  1-19 years\": 5.8, \" thinness 5-9 years\": 5.5, \"Income composition of resources\": 0.7190000000000001, \"Schooling\": 13.4, \"id\": 434, \"tooltip\": \"Libya: 72.7 yr\"}, {\"Country\": \"Lithuania\", \"Year\": 2015, \"Status\": \"Developed\", \"Life expectancy \": 73.6, \"Adult Mortality\": 165.0, \"infant deaths\": 0, \"Alcohol\": null, \"percentage expenditure\": 0.0, \"Hepatitis B\": 94.0, \"Measles \": 50, \" BMI \": 62.4, \"under-five deaths \": 0, \"Polio\": 93.0, \"Total expenditure\": null, \"Diphtheria \": 93.0, \" HIV/AIDS\": 0.1, \"GDP\": 14252.428530000001, \"Population\": 29491.0, \" thinness  1-19 years\": 2.6, \" thinness 5-9 years\": 2.6, \"Income composition of resources\": 0.846, \"Schooling\": 16.5, \"id\": 440, \"tooltip\": \"Lithuania: 73.6 yr\"}, {\"Country\": \"Luxembourg\", \"Year\": 2015, \"Status\": \"Developed\", \"Life expectancy \": 82.0, \"Adult Mortality\": 63.0, \"infant deaths\": 0, \"Alcohol\": null, \"percentage expenditure\": 0.0, \"Hepatitis B\": 94.0, \"Measles \": 0, \" BMI \": 61.3, \"under-five deaths \": 0, \"Polio\": 99.0, \"Total expenditure\": null, \"Diphtheria \": 99.0, \" HIV/AIDS\": 0.1, \"GDP\": 1199.8223, \"Population\": 56964.0, \" thinness  1-19 years\": 1.0, \" thinness 5-9 years\": 0.9, \"Income composition of resources\": 0.8959999999999999, \"Schooling\": 13.9, \"id\": 442, \"tooltip\": \"Luxembourg: 82.0 yr\"}, {\"Country\": \"Madagascar\", \"Year\": 2015, \"Status\": \"Developing\", \"Life expectancy \": 65.5, \"Adult Mortality\": 22.0, \"infant deaths\": 28, \"Alcohol\": null, \"percentage expenditure\": 0.0, \"Hepatitis B\": 69.0, \"Measles \": 3, \" BMI \": 2.5, \"under-five deaths \": 38, \"Polio\": 71.0, \"Total expenditure\": null, \"Diphtheria \": 69.0, \" HIV/AIDS\": 0.3, \"GDP\": 41.8575951, \"Population\": 2423488.0, \" thinness  1-19 years\": 7.1, \" thinness 5-9 years\": 7.1, \"Income composition of resources\": 0.511, \"Schooling\": 10.3, \"id\": 450, \"tooltip\": \"Madagascar: 65.5 yr\"}, {\"Country\": \"Malawi\", \"Year\": 2015, \"Status\": \"Developing\", \"Life expectancy \": 58.3, \"Adult Mortality\": 365.0, \"infant deaths\": 26, \"Alcohol\": null, \"percentage expenditure\": 0.0, \"Hepatitis B\": 88.0, \"Measles \": 0, \" BMI \": 19.6, \"under-five deaths \": 38, \"Polio\": 88.0, \"Total expenditure\": null, \"Diphtheria \": 88.0, \" HIV/AIDS\": 4.8, \"GDP\": 362.65754439999995, \"Population\": 1757367.0, \" thinness  1-19 years\": 6.4, \" thinness 5-9 years\": 6.2, \"Income composition of resources\": 0.473, \"Schooling\": 10.8, \"id\": 454, \"tooltip\": \"Malawi: 58.3 yr\"}, {\"Country\": \"Malaysia\", \"Year\": 2015, \"Status\": \"Developing\", \"Life expectancy \": 75.0, \"Adult Mortality\": 123.0, \"infant deaths\": 4, \"Alcohol\": null, \"percentage expenditure\": 0.0, \"Hepatitis B\": 99.0, \"Measles \": 1318, \" BMI \": 4.6, \"under-five deaths \": 4, \"Polio\": 99.0, \"Total expenditure\": null, \"Diphtheria \": 99.0, \" HIV/AIDS\": 0.1, \"GDP\": 9643.644683, \"Population\": 3723155.0, \" thinness  1-19 years\": 7.5, \" thinness 5-9 years\": 7.3, \"Income composition of resources\": 0.787, \"Schooling\": 13.1, \"id\": 458, \"tooltip\": \"Malaysia: 75.0 yr\"}, {\"Country\": \"Maldives\", \"Year\": 2015, \"Status\": \"Developing\", \"Life expectancy \": 78.5, \"Adult Mortality\": 61.0, \"infant deaths\": 0, \"Alcohol\": null, \"percentage expenditure\": 0.0, \"Hepatitis B\": 99.0, \"Measles \": 0, \" BMI \": 27.4, \"under-five deaths \": 0, \"Polio\": 99.0, \"Total expenditure\": null, \"Diphtheria \": 99.0, \" HIV/AIDS\": 0.1, \"GDP\": 8395.785198, \"Population\": 49163.0, \" thinness  1-19 years\": 13.6, \" thinness 5-9 years\": 13.6, \"Income composition of resources\": 0.701, \"Schooling\": 12.7, \"id\": 462, \"tooltip\": \"Maldives: 78.5 yr\"}, {\"Country\": \"Mali\", \"Year\": 2015, \"Status\": \"Developing\", \"Life expectancy \": 58.2, \"Adult Mortality\": 266.0, \"infant deaths\": 52, \"Alcohol\": null, \"percentage expenditure\": 0.0, \"Hepatitis B\": 64.0, \"Measles \": 215, \" BMI \": 23.8, \"under-five deaths \": 84, \"Polio\": 66.0, \"Total expenditure\": null, \"Diphtheria \": 64.0, \" HIV/AIDS\": 1.5, \"GDP\": 729.725338, \"Population\": 1746795.0, \" thinness  1-19 years\": 7.7, \" thinness 5-9 years\": 7.5, \"Income composition of resources\": 0.43799999999999994, \"Schooling\": 8.4, \"id\": 466, \"tooltip\": \"Mali: 58.2 yr\"}, {\"Country\": \"Malta\", \"Year\": 2015, \"Status\": \"Developed\", \"Life expectancy \": 81.7, \"Adult Mortality\": 54.0, \"infant deaths\": 0, \"Alcohol\": null, \"percentage expenditure\": 0.0, \"Hepatitis B\": 95.0, \"Measles \": 2, \" BMI \": 69.6, \"under-five deaths \": 0, \"Polio\": 97.0, \"Total expenditure\": null, \"Diphtheria \": 97.0, \" HIV/AIDS\": 0.1, \"GDP\": 23819.4636, \"Population\": 431874.0, \" thinness  1-19 years\": 0.8, \" thinness 5-9 years\": 0.8, \"Income composition of resources\": 0.853, \"Schooling\": 14.6, \"id\": 470, \"tooltip\": \"Malta: 81.7 yr\"}, {\"Country\": \"Mauritania\", \"Year\": 2015, \"Status\": \"Developing\", \"Life expectancy \": 63.1, \"Adult Mortality\": 25.0, \"infant deaths\": 8, \"Alcohol\": null, \"percentage expenditure\": 0.0, \"Hepatitis B\": 73.0, \"Measles \": 1, \" BMI \": 3.8, \"under-five deaths \": 12, \"Polio\": 67.0, \"Total expenditure\": null, \"Diphtheria \": 73.0, \" HIV/AIDS\": 0.9, \"GDP\": 1158.256469, \"Population\": 4182341.0, \" thinness  1-19 years\": 7.8, \" thinness 5-9 years\": 7.5, \"Income composition of resources\": 0.513, \"Schooling\": 8.5, \"id\": 478, \"tooltip\": \"Mauritania: 63.1 yr\"}, {\"Country\": \"Mauritius\", \"Year\": 2015, \"Status\": \"Developing\", \"Life expectancy \": 74.6, \"Adult Mortality\": 146.0, \"infant deaths\": 0, \"Alcohol\": null, \"percentage expenditure\": 0.0, \"Hepatitis B\": 97.0, \"Measles \": 0, \" BMI \": 33.3, \"under-five deaths \": 0, \"Polio\": 98.0, \"Total expenditure\": null, \"Diphtheria \": 97.0, \" HIV/AIDS\": 0.1, \"GDP\": 9252.117240000001, \"Population\": 126265.0, \" thinness  1-19 years\": 6.9, \" thinness 5-9 years\": 6.8, \"Income composition of resources\": 0.779, \"Schooling\": 15.2, \"id\": 480, \"tooltip\": \"Mauritius: 74.6 yr\"}, {\"Country\": \"Mexico\", \"Year\": 2015, \"Status\": \"Developing\", \"Life expectancy \": 76.7, \"Adult Mortality\": 122.0, \"infant deaths\": 30, \"Alcohol\": null, \"percentage expenditure\": 0.0, \"Hepatitis B\": 82.0, \"Measles \": 0, \" BMI \": 63.5, \"under-five deaths \": 35, \"Polio\": 87.0, \"Total expenditure\": null, \"Diphtheria \": 87.0, \" HIV/AIDS\": 0.1, \"GDP\": 9143.128494, \"Population\": 12589949.0, \" thinness  1-19 years\": 1.5, \" thinness 5-9 years\": 1.5, \"Income composition of resources\": 0.758, \"Schooling\": 13.3, \"id\": 484, \"tooltip\": \"Mexico: 76.7 yr\"}, {\"Country\": \"Micronesia (Federated States of)\", \"Year\": 2015, \"Status\": \"Developing\", \"Life expectancy \": 69.4, \"Adult Mortality\": 166.0, \"infant deaths\": 0, \"Alcohol\": null, \"percentage expenditure\": 0.0, \"Hepatitis B\": 78.0, \"Measles \": 0, \" BMI \": 69.4, \"under-five deaths \": 0, \"Polio\": 71.0, \"Total expenditure\": null, \"Diphtheria \": 72.0, \" HIV/AIDS\": 0.1, \"GDP\": null, \"Population\": null, \" thinness  1-19 years\": 0.2, \" thinness 5-9 years\": 0.2, \"Income composition of resources\": 0.637, \"Schooling\": 11.7, \"id\": 583, \"tooltip\": \"Micronesia (Federated States of): 69.4 yr\"}, {\"Country\": \"Mongolia\", \"Year\": 2015, \"Status\": \"Developing\", \"Life expectancy \": 68.8, \"Adult Mortality\": 222.0, \"infant deaths\": 1, \"Alcohol\": null, \"percentage expenditure\": 0.0, \"Hepatitis B\": 99.0, \"Measles \": 20359, \" BMI \": 52.7, \"under-five deaths \": 1, \"Polio\": 99.0, \"Total expenditure\": null, \"Diphtheria \": 99.0, \" HIV/AIDS\": 0.1, \"GDP\": 3944.1839, \"Population\": 2976877.0, \" thinness  1-19 years\": 2.2, \" thinness 5-9 years\": 2.3, \"Income composition of resources\": 0.733, \"Schooling\": 14.8, \"id\": 496, \"tooltip\": \"Mongolia: 68.8 yr\"}, {\"Country\": \"Montenegro\", \"Year\": 2015, \"Status\": \"Developing\", \"Life expectancy \": 76.1, \"Adult Mortality\": 16.0, \"infant deaths\": 0, \"Alcohol\": null, \"percentage expenditure\": 0.0, \"Hepatitis B\": 82.0, \"Measles \": 0, \" BMI \": 61.8, \"under-five deaths \": 0, \"Polio\": 89.0, \"Total expenditure\": null, \"Diphtheria \": 89.0, \" HIV/AIDS\": 0.1, \"GDP\": 6461.192554, \"Population\": 622159.0, \" thinness  1-19 years\": 1.8, \" thinness 5-9 years\": 1.8, \"Income composition of resources\": 0.804, \"Schooling\": 15.1, \"id\": 499, \"tooltip\": \"Montenegro: 76.1 yr\"}, {\"Country\": \"Morocco\", \"Year\": 2015, \"Status\": \"Developing\", \"Life expectancy \": 74.3, \"Adult Mortality\": 95.0, \"infant deaths\": 17, \"Alcohol\": null, \"percentage expenditure\": 0.0, \"Hepatitis B\": 99.0, \"Measles \": 17, \" BMI \": 58.5, \"under-five deaths \": 20, \"Polio\": 99.0, \"Total expenditure\": null, \"Diphtheria \": 99.0, \" HIV/AIDS\": 0.1, \"GDP\": 2847.285569, \"Population\": 3483322.0, \" thinness  1-19 years\": 6.4, \" thinness 5-9 years\": 6.2, \"Income composition of resources\": 0.645, \"Schooling\": 12.1, \"id\": 504, \"tooltip\": \"Morocco: 74.3 yr\"}, {\"Country\": \"Mozambique\", \"Year\": 2015, \"Status\": \"Developing\", \"Life expectancy \": 57.6, \"Adult Mortality\": 355.0, \"infant deaths\": 60, \"Alcohol\": null, \"percentage expenditure\": 0.0, \"Hepatitis B\": 8.0, \"Measles \": 79, \" BMI \": 22.6, \"under-five deaths \": 81, \"Polio\": 8.0, \"Total expenditure\": null, \"Diphtheria \": 8.0, \" HIV/AIDS\": 3.9, \"GDP\": 528.3125597, \"Population\": 281691.0, \" thinness  1-19 years\": 3.6, \" thinness 5-9 years\": 3.5, \"Income composition of resources\": 0.414, \"Schooling\": 9.1, \"id\": 508, \"tooltip\": \"Mozambique: 57.6 yr\"}, {\"Country\": \"Myanmar\", \"Year\": 2015, \"Status\": \"Developing\", \"Life expectancy \": 66.6, \"Adult Mortality\": 199.0, \"infant deaths\": 39, \"Alcohol\": null, \"percentage expenditure\": 0.0, \"Hepatitis B\": 89.0, \"Measles \": 6, \" BMI \": 23.8, \"under-five deaths \": 50, \"Polio\": 89.0, \"Total expenditure\": null, \"Diphtheria \": 89.0, \" HIV/AIDS\": 0.3, \"GDP\": 1194.5913699999999, \"Population\": 5243669.0, \" thinness  1-19 years\": 12.8, \" thinness 5-9 years\": 13.0, \"Income composition of resources\": 0.552, \"Schooling\": 9.1, \"id\": 104, \"tooltip\": \"Myanmar: 66.6 yr\"}, {\"Country\": \"Namibia\", \"Year\": 2015, \"Status\": \"Developing\", \"Life expectancy \": 65.8, \"Adult Mortality\": 248.0, \"infant deaths\": 2, \"Alcohol\": null, \"percentage expenditure\": 0.0, \"Hepatitis B\": 92.0, \"Measles \": 212, \" BMI \": 35.7, \"under-five deaths \": 3, \"Polio\": 92.0, \"Total expenditure\": null, \"Diphtheria \": 92.0, \" HIV/AIDS\": 2.1, \"GDP\": 4737.66996, \"Population\": 2425561.0, \" thinness  1-19 years\": 8.2, \" thinness 5-9 years\": 8.1, \"Income composition of resources\": 0.637, \"Schooling\": 11.7, \"id\": 516, \"tooltip\": \"Namibia: 65.8 yr\"}, {\"Country\": \"Nepal\", \"Year\": 2015, \"Status\": \"Developing\", \"Life expectancy \": 69.2, \"Adult Mortality\": 165.0, \"infant deaths\": 17, \"Alcohol\": null, \"percentage expenditure\": 0.0, \"Hepatitis B\": 91.0, \"Measles \": 1599, \" BMI \": 19.1, \"under-five deaths \": 21, \"Polio\": 9.0, \"Total expenditure\": null, \"Diphtheria \": 91.0, \" HIV/AIDS\": 0.1, \"GDP\": 743.7653489, \"Population\": 28656282.0, \" thinness  1-19 years\": 15.7, \" thinness 5-9 years\": 16.1, \"Income composition of resources\": 0.555, \"Schooling\": 12.2, \"id\": 524, \"tooltip\": \"Nepal: 69.2 yr\"}, {\"Country\": \"Netherlands\", \"Year\": 2015, \"Status\": \"Developed\", \"Life expectancy \": 81.9, \"Adult Mortality\": 57.0, \"infant deaths\": 1, \"Alcohol\": null, \"percentage expenditure\": 0.0, \"Hepatitis B\": 94.0, \"Measles \": 7, \" BMI \": 62.1, \"under-five deaths \": 1, \"Polio\": 95.0, \"Total expenditure\": null, \"Diphtheria \": 95.0, \" HIV/AIDS\": 0.1, \"GDP\": 44292.88473, \"Population\": 16939923.0, \" thinness  1-19 years\": 1.0, \" thinness 5-9 years\": 0.9, \"Income composition of resources\": 0.9229999999999999, \"Schooling\": 18.1, \"id\": 528, \"tooltip\": \"Netherlands: 81.9 yr\"}, {\"Country\": \"New Zealand\", \"Year\": 2015, \"Status\": \"Developed\", \"Life expectancy \": 81.6, \"Adult Mortality\": 66.0, \"infant deaths\": 0, \"Alcohol\": 8.7, \"percentage expenditure\": 0.0, \"Hepatitis B\": 92.0, \"Measles \": 10, \" BMI \": 67.5, \"under-five deaths \": 0, \"Polio\": 92.0, \"Total expenditure\": null, \"Diphtheria \": 92.0, \" HIV/AIDS\": 0.1, \"GDP\": 3821.8937, \"Population\": null, \" thinness  1-19 years\": 0.4, \" thinness 5-9 years\": 0.3, \"Income composition of resources\": 0.9129999999999999, \"Schooling\": 19.2, \"id\": 554, \"tooltip\": \"New Zealand: 81.6 yr\"}, {\"Country\": \"Nicaragua\", \"Year\": 2015, \"Status\": \"Developing\", \"Life expectancy \": 74.8, \"Adult Mortality\": 145.0, \"infant deaths\": 2, \"Alcohol\": null, \"percentage expenditure\": 0.0, \"Hepatitis B\": 98.0, \"Measles \": 0, \" BMI \": 54.0, \"under-five deaths \": 2, \"Polio\": 99.0, \"Total expenditure\": null, \"Diphtheria \": 98.0, \" HIV/AIDS\": 0.1, \"GDP\": 295.96648799999997, \"Population\": 68235.0, \" thinness  1-19 years\": 1.8, \" thinness 5-9 years\": 1.7, \"Income composition of resources\": 0.642, \"Schooling\": 11.7, \"id\": 558, \"tooltip\": \"Nicaragua: 74.8 yr\"}, {\"Country\": \"Niger\", \"Year\": 2015, \"Status\": \"Developing\", \"Life expectancy \": 61.8, \"Adult Mortality\": 22.0, \"infant deaths\": 49, \"Alcohol\": null, \"percentage expenditure\": 0.0, \"Hepatitis B\": 65.0, \"Measles \": 7693, \" BMI \": 19.3, \"under-five deaths \": 87, \"Polio\": 65.0, \"Total expenditure\": null, \"Diphtheria \": 65.0, \" HIV/AIDS\": 0.4, \"GDP\": 358.99731, \"Population\": 19896965.0, \" thinness  1-19 years\": 9.6, \" thinness 5-9 years\": 9.4, \"Income composition of resources\": 0.35100000000000003, \"Schooling\": 5.4, \"id\": 562, \"tooltip\": \"Niger: 61.8 yr\"}, {\"Country\": \"Nigeria\", \"Year\": 2015, \"Status\": \"Developing\", \"Life expectancy \": 54.5, \"Adult Mortality\": 344.0, \"infant deaths\": 483, \"Alcohol\": null, \"percentage expenditure\": 0.0, \"Hepatitis B\": 49.0, \"Measles \": 12423, \" BMI \": 25.4, \"under-five deaths \": 747, \"Polio\": 49.0, \"Total expenditure\": null, \"Diphtheria \": 49.0, \" HIV/AIDS\": 3.7, \"GDP\": 2655.157977, \"Population\": 181181744.0, \" thinness  1-19 years\": 9.8, \" thinness 5-9 years\": 9.7, \"Income composition of resources\": 0.525, \"Schooling\": 10.0, \"id\": 566, \"tooltip\": \"Nigeria: 54.5 yr\"}, {\"Country\": \"Norway\", \"Year\": 2015, \"Status\": \"Developed\", \"Life expectancy \": 81.8, \"Adult Mortality\": 59.0, \"infant deaths\": 0, \"Alcohol\": 5.97, \"percentage expenditure\": 0.0, \"Hepatitis B\": null, \"Measles \": 14, \" BMI \": 61.2, \"under-five deaths \": 0, \"Polio\": 95.0, \"Total expenditure\": null, \"Diphtheria \": 95.0, \" HIV/AIDS\": 0.1, \"GDP\": 7455.246540000001, \"Population\": 518867.0, \" thinness  1-19 years\": 0.8, \" thinness 5-9 years\": 0.7, \"Income composition of resources\": 0.948, \"Schooling\": 17.7, \"id\": 578, \"tooltip\": \"Norway: 81.8 yr\"}, {\"Country\": \"Oman\", \"Year\": 2015, \"Status\": \"Developing\", \"Life expectancy \": 76.6, \"Adult Mortality\": 99.0, \"infant deaths\": 1, \"Alcohol\": null, \"percentage expenditure\": 0.0, \"Hepatitis B\": 99.0, \"Measles \": 0, \" BMI \": 54.6, \"under-five deaths \": 1, \"Polio\": 99.0, \"Total expenditure\": null, \"Diphtheria \": 99.0, \" HIV/AIDS\": 0.1, \"GDP\": 16627.36433, \"Population\": null, \" thinness  1-19 years\": 7.1, \" thinness 5-9 years\": 6.9, \"Income composition of resources\": 0.795, \"Schooling\": 13.7, \"id\": 512, \"tooltip\": \"Oman: 76.6 yr\"}, {\"Country\": \"Pakistan\", \"Year\": 2015, \"Status\": \"Developing\", \"Life expectancy \": 66.4, \"Adult Mortality\": 161.0, \"infant deaths\": 352, \"Alcohol\": null, \"percentage expenditure\": 0.0, \"Hepatitis B\": 72.0, \"Measles \": 386, \" BMI \": 25.4, \"under-five deaths \": 433, \"Polio\": 72.0, \"Total expenditure\": null, \"Diphtheria \": 72.0, \" HIV/AIDS\": 0.1, \"GDP\": 1431.2448650000001, \"Population\": 18938513.0, \" thinness  1-19 years\": 19.2, \" thinness 5-9 years\": 19.6, \"Income composition of resources\": 0.5479999999999999, \"Schooling\": 8.1, \"id\": 586, \"tooltip\": \"Pakistan: 66.4 yr\"}, {\"Country\": \"Panama\", \"Year\": 2015, \"Status\": \"Developing\", \"Life expectancy \": 77.8, \"Adult Mortality\": 118.0, \"infant deaths\": 1, \"Alcohol\": null, \"percentage expenditure\": 0.0, \"Hepatitis B\": 73.0, \"Measles \": 0, \" BMI \": 57.8, \"under-five deaths \": 1, \"Polio\": 72.0, \"Total expenditure\": null, \"Diphtheria \": 73.0, \" HIV/AIDS\": 0.1, \"GDP\": 13134.4367, \"Population\": 3969249.0, \" thinness  1-19 years\": 1.9, \" thinness 5-9 years\": 1.8, \"Income composition of resources\": 0.785, \"Schooling\": 13.0, \"id\": 591, \"tooltip\": \"Panama: 77.8 yr\"}, {\"Country\": \"Papua New Guinea\", \"Year\": 2015, \"Status\": \"Developing\", \"Life expectancy \": 62.9, \"Adult Mortality\": 275.0, \"infant deaths\": 10, \"Alcohol\": null, \"percentage expenditure\": 0.0, \"Hepatitis B\": 67.0, \"Measles \": 38, \" BMI \": 48.6, \"under-five deaths \": 12, \"Polio\": 74.0, \"Total expenditure\": null, \"Diphtheria \": 73.0, \" HIV/AIDS\": 0.6, \"GDP\": null, \"Population\": 7919825.0, \" thinness  1-19 years\": 1.3, \" thinness 5-9 years\": 1.3, \"Income composition of resources\": 0.515, \"Schooling\": 10.0, \"id\": 598, \"tooltip\": \"Papua New Guinea: 62.9 yr\"}, {\"Country\": \"Paraguay\", \"Year\": 2015, \"Status\": \"Developing\", \"Life expectancy \": 74.0, \"Adult Mortality\": 146.0, \"infant deaths\": 2, \"Alcohol\": null, \"percentage expenditure\": 0.0, \"Hepatitis B\": 93.0, \"Measles \": 0, \" BMI \": 5.2, \"under-five deaths \": 3, \"Polio\": 89.0, \"Total expenditure\": null, \"Diphtheria \": 93.0, \" HIV/AIDS\": 0.2, \"GDP\": 419.367724, \"Population\": 6639119.0, \" thinness  1-19 years\": 2.0, \" thinness 5-9 years\": 1.9, \"Income composition of resources\": 0.6920000000000001, \"Schooling\": 12.3, \"id\": 600, \"tooltip\": \"Paraguay: 74.0 yr\"}, {\"Country\": \"Peru\", \"Year\": 2015, \"Status\": \"Developing\", \"Life expectancy \": 75.5, \"Adult Mortality\": 123.0, \"infant deaths\": 8, \"Alcohol\": null, \"percentage expenditure\": 0.0, \"Hepatitis B\": 9.0, \"Measles \": 4, \" BMI \": 55.6, \"under-five deaths \": 10, \"Polio\": 88.0, \"Total expenditure\": null, \"Diphtheria \": 9.0, \" HIV/AIDS\": 0.1, \"GDP\": 63.343258999999996, \"Population\": 31376671.0, \" thinness  1-19 years\": 1.1, \" thinness 5-9 years\": 1.1, \"Income composition of resources\": 0.737, \"Schooling\": 13.4, \"id\": 604, \"tooltip\": \"Peru: 75.5 yr\"}, {\"Country\": \"Philippines\", \"Year\": 2015, \"Status\": \"Developing\", \"Life expectancy \": 68.5, \"Adult Mortality\": 211.0, \"infant deaths\": 52, \"Alcohol\": null, \"percentage expenditure\": 0.0, \"Hepatitis B\": 6.0, \"Measles \": 619, \" BMI \": 25.4, \"under-five deaths \": 66, \"Polio\": 79.0, \"Total expenditure\": null, \"Diphtheria \": 6.0, \" HIV/AIDS\": 0.1, \"GDP\": 2878.33837, \"Population\": 11716359.0, \" thinness  1-19 years\": 1.0, \" thinness 5-9 years\": 9.7, \"Income composition of resources\": 0.679, \"Schooling\": 11.7, \"id\": 608, \"tooltip\": \"Philippines: 68.5 yr\"}, {\"Country\": \"Poland\", \"Year\": 2015, \"Status\": \"Developed\", \"Life expectancy \": 77.5, \"Adult Mortality\": 117.0, \"infant deaths\": 2, \"Alcohol\": null, \"percentage expenditure\": 0.0, \"Hepatitis B\": 96.0, \"Measles \": 0, \" BMI \": 61.7, \"under-five deaths \": 2, \"Polio\": 92.0, \"Total expenditure\": null, \"Diphtheria \": 98.0, \" HIV/AIDS\": 0.1, \"GDP\": 12565.9876, \"Population\": 37986412.0, \" thinness  1-19 years\": 1.9, \" thinness 5-9 years\": 2.0, \"Income composition of resources\": 0.852, \"Schooling\": 16.4, \"id\": 616, \"tooltip\": \"Poland: 77.5 yr\"}, {\"Country\": \"Portugal\", \"Year\": 2015, \"Status\": \"Developed\", \"Life expectancy \": 81.1, \"Adult Mortality\": 76.0, \"infant deaths\": 0, \"Alcohol\": null, \"percentage expenditure\": 0.0, \"Hepatitis B\": 98.0, \"Measles \": 8, \" BMI \": 61.6, \"under-five deaths \": 0, \"Polio\": 98.0, \"Total expenditure\": null, \"Diphtheria \": 98.0, \" HIV/AIDS\": 0.1, \"GDP\": 1922.681, \"Population\": 135876.0, \" thinness  1-19 years\": 0.7, \" thinness 5-9 years\": 0.5, \"Income composition of resources\": 0.841, \"Schooling\": 16.6, \"id\": 620, \"tooltip\": \"Portugal: 81.1 yr\"}, {\"Country\": \"Qatar\", \"Year\": 2015, \"Status\": \"Developing\", \"Life expectancy \": 78.2, \"Adult Mortality\": 68.0, \"infant deaths\": 0, \"Alcohol\": null, \"percentage expenditure\": 0.0, \"Hepatitis B\": 99.0, \"Measles \": 18, \" BMI \": 69.3, \"under-five deaths \": 0, \"Polio\": 99.0, \"Total expenditure\": null, \"Diphtheria \": 99.0, \" HIV/AIDS\": 0.1, \"GDP\": 66346.52267, \"Population\": null, \" thinness  1-19 years\": 5.2, \" thinness 5-9 years\": 4.9, \"Income composition of resources\": 0.855, \"Schooling\": 13.4, \"id\": 634, \"tooltip\": \"Qatar: 78.2 yr\"}, {\"Country\": \"Republic of Korea\", \"Year\": 2015, \"Status\": \"Developing\", \"Life expectancy \": 82.3, \"Adult Mortality\": 64.0, \"infant deaths\": 1, \"Alcohol\": null, \"percentage expenditure\": 0.0, \"Hepatitis B\": 98.0, \"Measles \": 7, \" BMI \": 31.7, \"under-five deaths \": 2, \"Polio\": 98.0, \"Total expenditure\": null, \"Diphtheria \": 98.0, \" HIV/AIDS\": 0.1, \"GDP\": null, \"Population\": null, \" thinness  1-19 years\": 1.5, \" thinness 5-9 years\": 1.0, \"Income composition of resources\": null, \"Schooling\": null, \"id\": 410, \"tooltip\": \"Republic of Korea: 82.3 yr\"}, {\"Country\": \"Republic of Moldova\", \"Year\": 2015, \"Status\": \"Developing\", \"Life expectancy \": 72.1, \"Adult Mortality\": 157.0, \"infant deaths\": 1, \"Alcohol\": null, \"percentage expenditure\": 0.0, \"Hepatitis B\": 88.0, \"Measles \": 0, \" BMI \": 53.4, \"under-five deaths \": 1, \"Polio\": 88.0, \"Total expenditure\": null, \"Diphtheria \": 87.0, \" HIV/AIDS\": 0.1, \"GDP\": null, \"Population\": null, \" thinness  1-19 years\": 2.7, \" thinness 5-9 years\": 2.8, \"Income composition of resources\": null, \"Schooling\": null, \"id\": 498, \"tooltip\": \"Republic of Moldova: 72.1 yr\"}, {\"Country\": \"Romania\", \"Year\": 2015, \"Status\": \"Developed\", \"Life expectancy \": 75.0, \"Adult Mortality\": 133.0, \"infant deaths\": 2, \"Alcohol\": null, \"percentage expenditure\": 0.0, \"Hepatitis B\": 9.0, \"Measles \": 4, \" BMI \": 6.7, \"under-five deaths \": 2, \"Polio\": 89.0, \"Total expenditure\": null, \"Diphtheria \": 89.0, \" HIV/AIDS\": 0.1, \"GDP\": 8958.788593000001, \"Population\": 19815481.0, \" thinness  1-19 years\": 2.5, \" thinness 5-9 years\": 2.7, \"Income composition of resources\": 0.7979999999999999, \"Schooling\": 14.7, \"id\": 642, \"tooltip\": \"Romania: 75.0 yr\"}, {\"Country\": \"Russian Federation\", \"Year\": 2015, \"Status\": \"Developing\", \"Life expectancy \": 75.0, \"Adult Mortality\": 222.0, \"infant deaths\": 13, \"Alcohol\": null, \"percentage expenditure\": 0.0, \"Hepatitis B\": 97.0, \"Measles \": 843, \" BMI \": 6.5, \"under-five deaths \": 15, \"Polio\": 97.0, \"Total expenditure\": null, \"Diphtheria \": 97.0, \" HIV/AIDS\": 0.1, \"GDP\": 9329.298351000001, \"Population\": 1449687.0, \" thinness  1-19 years\": 2.3, \" thinness 5-9 years\": 2.3, \"Income composition of resources\": 0.805, \"Schooling\": 15.0, \"id\": 643, \"tooltip\": \"Russian Federation: 75.0 yr\"}, {\"Country\": \"Rwanda\", \"Year\": 2015, \"Status\": \"Developing\", \"Life expectancy \": 66.1, \"Adult Mortality\": 227.0, \"infant deaths\": 11, \"Alcohol\": null, \"percentage expenditure\": 0.0, \"Hepatitis B\": 98.0, \"Measles \": 1, \" BMI \": 21.4, \"under-five deaths \": 15, \"Polio\": 99.0, \"Total expenditure\": null, \"Diphtheria \": 98.0, \" HIV/AIDS\": 0.4, \"GDP\": 71.34839699999999, \"Population\": 11629553.0, \" thinness  1-19 years\": 5.7, \" thinness 5-9 years\": 5.7, \"Income composition of resources\": 0.493, \"Schooling\": 10.8, \"id\": 646, \"tooltip\": \"Rwanda: 66.1 yr\"}, {\"Country\": \"Saint Lucia\", \"Year\": 2015, \"Status\": \"Developing\", \"Life expectancy \": 75.2, \"Adult Mortality\": 138.0, \"infant deaths\": 0, \"Alcohol\": null, \"percentage expenditure\": 0.0, \"Hepatitis B\": 99.0, \"Measles \": 0, \" BMI \": 47.5, \"under-five deaths \": 0, \"Polio\": 99.0, \"Total expenditure\": null, \"Diphtheria \": 99.0, \" HIV/AIDS\": 0.1, \"GDP\": null, \"Population\": null, \" thinness  1-19 years\": 4.3, \" thinness 5-9 years\": 4.3, \"Income composition of resources\": 0.735, \"Schooling\": 13.1, \"id\": 662, \"tooltip\": \"Saint Lucia: 75.2 yr\"}, {\"Country\": \"Saint Vincent and the Grenadines\", \"Year\": 2015, \"Status\": \"Developing\", \"Life expectancy \": 73.2, \"Adult Mortality\": 156.0, \"infant deaths\": 0, \"Alcohol\": null, \"percentage expenditure\": 0.0, \"Hepatitis B\": 98.0, \"Measles \": 0, \" BMI \": 54.1, \"under-five deaths \": 0, \"Polio\": 97.0, \"Total expenditure\": null, \"Diphtheria \": 98.0, \" HIV/AIDS\": 0.1, \"GDP\": null, \"Population\": null, \" thinness  1-19 years\": 3.5, \" thinness 5-9 years\": 3.4, \"Income composition of resources\": 0.72, \"Schooling\": 13.3, \"id\": 670, \"tooltip\": \"Saint Vincent and the Grenadines: 73.2 yr\"}, {\"Country\": \"Samoa\", \"Year\": 2015, \"Status\": \"Developing\", \"Life expectancy \": 74.0, \"Adult Mortality\": 125.0, \"infant deaths\": 0, \"Alcohol\": null, \"percentage expenditure\": 0.0, \"Hepatitis B\": 59.0, \"Measles \": 0, \" BMI \": 74.7, \"under-five deaths \": 0, \"Polio\": 61.0, \"Total expenditure\": null, \"Diphtheria \": 66.0, \" HIV/AIDS\": 0.1, \"GDP\": 4149.363444, \"Population\": 193759.0, \" thinness  1-19 years\": 0.2, \" thinness 5-9 years\": 0.1, \"Income composition of resources\": 0.7020000000000001, \"Schooling\": 12.9, \"id\": 882, \"tooltip\": \"Samoa: 74.0 yr\"}, {\"Country\": \"Sao Tome and Principe\", \"Year\": 2015, \"Status\": \"Developing\", \"Life expectancy \": 67.5, \"Adult Mortality\": 19.0, \"infant deaths\": 0, \"Alcohol\": null, \"percentage expenditure\": 0.0, \"Hepatitis B\": 96.0, \"Measles \": 0, \" BMI \": 3.9, \"under-five deaths \": 0, \"Polio\": 96.0, \"Total expenditure\": null, \"Diphtheria \": 96.0, \" HIV/AIDS\": 0.2, \"GDP\": 1624.6396300000001, \"Population\": 195553.0, \" thinness  1-19 years\": 5.5, \" thinness 5-9 years\": 5.3, \"Income composition of resources\": 0.565, \"Schooling\": 11.2, \"id\": 678, \"tooltip\": \"Sao Tome and Principe: 67.5 yr\"}, {\"Country\": \"Saudi Arabia\", \"Year\": 2015, \"Status\": \"Developing\", \"Life expectancy \": 74.5, \"Adult Mortality\": 88.0, \"infant deaths\": 7, \"Alcohol\": null, \"percentage expenditure\": 0.0, \"Hepatitis B\": 98.0, \"Measles \": 219, \" BMI \": 68.2, \"under-five deaths \": 8, \"Polio\": 97.0, \"Total expenditure\": null, \"Diphtheria \": 98.0, \" HIV/AIDS\": 0.1, \"GDP\": 2732.86172, \"Population\": null, \" thinness  1-19 years\": 7.8, \" thinness 5-9 years\": 7.6, \"Income composition of resources\": 0.845, \"Schooling\": 16.1, \"id\": 682, \"tooltip\": \"Saudi Arabia: 74.5 yr\"}, {\"Country\": \"Senegal\", \"Year\": 2015, \"Status\": \"Developing\", \"Life expectancy \": 66.7, \"Adult Mortality\": 188.0, \"infant deaths\": 19, \"Alcohol\": null, \"percentage expenditure\": 0.0, \"Hepatitis B\": 89.0, \"Measles \": 58, \" BMI \": 24.3, \"under-five deaths \": 26, \"Polio\": 85.0, \"Total expenditure\": null, \"Diphtheria \": 89.0, \" HIV/AIDS\": 0.3, \"GDP\": 98.7256145, \"Population\": 14976994.0, \" thinness  1-19 years\": 9.5, \" thinness 5-9 years\": 9.3, \"Income composition of resources\": 0.491, \"Schooling\": 9.5, \"id\": 686, \"tooltip\": \"Senegal: 66.7 yr\"}, {\"Country\": \"Serbia\", \"Year\": 2015, \"Status\": \"Developing\", \"Life expectancy \": 75.6, \"Adult Mortality\": 121.0, \"infant deaths\": 1, \"Alcohol\": null, \"percentage expenditure\": 0.0, \"Hepatitis B\": 94.0, \"Measles \": 383, \" BMI \": 6.0, \"under-five deaths \": 1, \"Polio\": 95.0, \"Total expenditure\": null, \"Diphtheria \": 95.0, \" HIV/AIDS\": 0.1, \"GDP\": 5237.255334, \"Population\": 795383.0, \" thinness  1-19 years\": 2.0, \" thinness 5-9 years\": 2.0, \"Income composition of resources\": 0.775, \"Schooling\": 14.4, \"id\": 688, \"tooltip\": \"Serbia: 75.6 yr\"}, {\"Country\": \"Seychelles\", \"Year\": 2015, \"Status\": \"Developing\", \"Life expectancy \": 73.2, \"Adult Mortality\": 168.0, \"infant deaths\": 0, \"Alcohol\": null, \"percentage expenditure\": 0.0, \"Hepatitis B\": 98.0, \"Measles \": 0, \" BMI \": 37.4, \"under-five deaths \": 0, \"Polio\": 97.0, \"Total expenditure\": null, \"Diphtheria \": 97.0, \" HIV/AIDS\": 0.1, \"GDP\": 1539.464, \"Population\": 93419.0, \" thinness  1-19 years\": 5.7, \" thinness 5-9 years\": 6.0, \"Income composition of resources\": 0.7809999999999999, \"Schooling\": 14.1, \"id\": 690, \"tooltip\": \"Seychelles: 73.2 yr\"}, {\"Country\": \"Sierra Leone\", \"Year\": 2015, \"Status\": \"Developing\", \"Life expectancy \": 51.0, \"Adult Mortality\": 413.0, \"infant deaths\": 22, \"Alcohol\": null, \"percentage expenditure\": 0.0, \"Hepatitis B\": 86.0, \"Measles \": 607, \" BMI \": 24.4, \"under-five deaths \": 30, \"Polio\": 86.0, \"Total expenditure\": null, \"Diphtheria \": 86.0, \" HIV/AIDS\": 0.5, \"GDP\": 587.538233, \"Population\": 723725.0, \" thinness  1-19 years\": 7.4, \" thinness 5-9 years\": 7.3, \"Income composition of resources\": 0.431, \"Schooling\": 9.5, \"id\": 694, \"tooltip\": \"Sierra Leone: 51.0 yr\"}, {\"Country\": \"Singapore\", \"Year\": 2015, \"Status\": \"Developed\", \"Life expectancy \": 83.1, \"Adult Mortality\": 55.0, \"infant deaths\": 0, \"Alcohol\": 1.79, \"percentage expenditure\": 0.0, \"Hepatitis B\": 96.0, \"Measles \": 0, \" BMI \": 33.2, \"under-five deaths \": 0, \"Polio\": 96.0, \"Total expenditure\": null, \"Diphtheria \": 96.0, \" HIV/AIDS\": 0.1, \"GDP\": 53629.737460000004, \"Population\": null, \" thinness  1-19 years\": 2.2, \" thinness 5-9 years\": 2.2, \"Income composition of resources\": 0.924, \"Schooling\": 15.4, \"id\": 702, \"tooltip\": \"Singapore: 83.1 yr\"}, {\"Country\": \"Slovakia\", \"Year\": 2015, \"Status\": \"Developed\", \"Life expectancy \": 76.7, \"Adult Mortality\": 19.0, \"infant deaths\": 0, \"Alcohol\": null, \"percentage expenditure\": 0.0, \"Hepatitis B\": 96.0, \"Measles \": 1, \" BMI \": 59.1, \"under-five deaths \": 0, \"Polio\": 96.0, \"Total expenditure\": null, \"Diphtheria \": 96.0, \" HIV/AIDS\": 0.1, \"GDP\": null, \"Population\": null, \" thinness  1-19 years\": 1.2, \" thinness 5-9 years\": 1.2, \"Income composition of resources\": 0.8420000000000001, \"Schooling\": 15.0, \"id\": 703, \"tooltip\": \"Slovakia: 76.7 yr\"}, {\"Country\": \"Slovenia\", \"Year\": 2015, \"Status\": \"Developed\", \"Life expectancy \": 88.0, \"Adult Mortality\": 74.0, \"infant deaths\": 0, \"Alcohol\": null, \"percentage expenditure\": 0.0, \"Hepatitis B\": null, \"Measles \": 18, \" BMI \": 6.1, \"under-five deaths \": 0, \"Polio\": 95.0, \"Total expenditure\": null, \"Diphtheria \": 95.0, \" HIV/AIDS\": 0.1, \"GDP\": 2729.8638300000002, \"Population\": 263531.0, \" thinness  1-19 years\": 1.4, \" thinness 5-9 years\": 1.3, \"Income composition of resources\": 0.888, \"Schooling\": 17.3, \"id\": 705, \"tooltip\": \"Slovenia: 88.0 yr\"}, {\"Country\": \"Solomon Islands\", \"Year\": 2015, \"Status\": \"Developing\", \"Life expectancy \": 69.2, \"Adult Mortality\": 177.0, \"infant deaths\": 0, \"Alcohol\": null, \"percentage expenditure\": 0.0, \"Hepatitis B\": 98.0, \"Measles \": 0, \" BMI \": 5.5, \"under-five deaths \": 0, \"Polio\": 99.0, \"Total expenditure\": null, \"Diphtheria \": 98.0, \" HIV/AIDS\": 0.1, \"GDP\": 1922.41388, \"Population\": 587482.0, \" thinness  1-19 years\": 1.1, \" thinness 5-9 years\": 1.2, \"Income composition of resources\": 0.514, \"Schooling\": 9.6, \"id\": 90, \"tooltip\": \"Solomon Islands: 69.2 yr\"}, {\"Country\": \"Somalia\", \"Year\": 2015, \"Status\": \"Developing\", \"Life expectancy \": 55.0, \"Adult Mortality\": 312.0, \"infant deaths\": 50, \"Alcohol\": null, \"percentage expenditure\": 0.0, \"Hepatitis B\": 42.0, \"Measles \": 7497, \" BMI \": 24.3, \"under-five deaths \": 80, \"Polio\": 47.0, \"Total expenditure\": null, \"Diphtheria \": 42.0, \" HIV/AIDS\": 0.7, \"GDP\": 426.98537000000005, \"Population\": null, \" thinness  1-19 years\": 6.6, \" thinness 5-9 years\": 6.4, \"Income composition of resources\": null, \"Schooling\": null, \"id\": 706, \"tooltip\": \"Somalia: 55.0 yr\"}, {\"Country\": \"South Africa\", \"Year\": 2015, \"Status\": \"Developing\", \"Life expectancy \": 62.9, \"Adult Mortality\": 328.0, \"infant deaths\": 42, \"Alcohol\": null, \"percentage expenditure\": 0.0, \"Hepatitis B\": 75.0, \"Measles \": 17, \" BMI \": 51.1, \"under-five deaths \": 52, \"Polio\": 75.0, \"Total expenditure\": null, \"Diphtheria \": 75.0, \" HIV/AIDS\": 3.6, \"GDP\": 5769.77258, \"Population\": 5511976.68, \" thinness  1-19 years\": 4.4, \" thinness 5-9 years\": 5.3, \"Income composition of resources\": 0.665, \"Schooling\": 13.0, \"id\": 710, \"tooltip\": \"South Africa: 62.9 yr\"}, {\"Country\": \"South Sudan\", \"Year\": 2015, \"Status\": \"Developing\", \"Life expectancy \": 57.3, \"Adult Mortality\": 332.0, \"infant deaths\": 26, \"Alcohol\": null, \"percentage expenditure\": 0.0, \"Hepatitis B\": 31.0, \"Measles \": 878, \" BMI \": null, \"under-five deaths \": 39, \"Polio\": 41.0, \"Total expenditure\": null, \"Diphtheria \": 31.0, \" HIV/AIDS\": 3.4, \"GDP\": 758.725782, \"Population\": 11882136.0, \" thinness  1-19 years\": null, \" thinness 5-9 years\": null, \"Income composition of resources\": 0.42100000000000004, \"Schooling\": 4.9, \"id\": 728, \"tooltip\": \"South Sudan: 57.3 yr\"}, {\"Country\": \"Spain\", \"Year\": 2015, \"Status\": \"Developed\", \"Life expectancy \": 82.8, \"Adult Mortality\": 56.0, \"infant deaths\": 1, \"Alcohol\": null, \"percentage expenditure\": 0.0, \"Hepatitis B\": 97.0, \"Measles \": 115, \" BMI \": 66.6, \"under-five deaths \": 1, \"Polio\": 97.0, \"Total expenditure\": null, \"Diphtheria \": 97.0, \" HIV/AIDS\": 0.1, \"GDP\": 25683.84565, \"Population\": 46447697.0, \" thinness  1-19 years\": 0.6, \" thinness 5-9 years\": 0.5, \"Income composition of resources\": 0.882, \"Schooling\": 17.7, \"id\": 724, \"tooltip\": \"Spain: 82.8 yr\"}, {\"Country\": \"Sri Lanka\", \"Year\": 2015, \"Status\": \"Developing\", \"Life expectancy \": 74.9, \"Adult Mortality\": 138.0, \"infant deaths\": 3, \"Alcohol\": null, \"percentage expenditure\": 0.0, \"Hepatitis B\": 99.0, \"Measles \": 1568, \" BMI \": 23.4, \"under-five deaths \": 3, \"Polio\": 99.0, \"Total expenditure\": null, \"Diphtheria \": 99.0, \" HIV/AIDS\": 0.1, \"GDP\": 3844.8912299999997, \"Population\": 2966.0, \" thinness  1-19 years\": 15.1, \" thinness 5-9 years\": 15.0, \"Income composition of resources\": 0.764, \"Schooling\": 14.0, \"id\": 144, \"tooltip\": \"Sri Lanka: 74.9 yr\"}, {\"Country\": \"Sudan\", \"Year\": 2015, \"Status\": \"Developing\", \"Life expectancy \": 64.1, \"Adult Mortality\": 225.0, \"infant deaths\": 58, \"Alcohol\": null, \"percentage expenditure\": 0.0, \"Hepatitis B\": 93.0, \"Measles \": 3585, \" BMI \": null, \"under-five deaths \": 85, \"Polio\": 93.0, \"Total expenditure\": null, \"Diphtheria \": 93.0, \" HIV/AIDS\": 0.3, \"GDP\": 2513.884661, \"Population\": 3864783.0, \" thinness  1-19 years\": null, \" thinness 5-9 years\": null, \"Income composition of resources\": 0.488, \"Schooling\": 7.2, \"id\": 729, \"tooltip\": \"Sudan: 64.1 yr\"}, {\"Country\": \"Suriname\", \"Year\": 2015, \"Status\": \"Developing\", \"Life expectancy \": 71.6, \"Adult Mortality\": 176.0, \"infant deaths\": 0, \"Alcohol\": null, \"percentage expenditure\": 0.0, \"Hepatitis B\": 89.0, \"Measles \": 0, \" BMI \": 58.3, \"under-five deaths \": 0, \"Polio\": 89.0, \"Total expenditure\": null, \"Diphtheria \": 89.0, \" HIV/AIDS\": 0.4, \"GDP\": 8818.982565999999, \"Population\": 55328.0, \" thinness  1-19 years\": 3.5, \" thinness 5-9 years\": 3.5, \"Income composition of resources\": 0.723, \"Schooling\": 12.7, \"id\": 740, \"tooltip\": \"Suriname: 71.6 yr\"}, {\"Country\": \"Eswatini\", \"Year\": 2015, \"Status\": \"Developing\", \"Life expectancy \": 58.9, \"Adult Mortality\": 373.0, \"infant deaths\": 2, \"Alcohol\": null, \"percentage expenditure\": 0.0, \"Hepatitis B\": 9.0, \"Measles \": 0, \" BMI \": 32.3, \"under-five deaths \": 3, \"Polio\": 84.0, \"Total expenditure\": null, \"Diphtheria \": 9.0, \" HIV/AIDS\": 7.1, \"GDP\": 3136.92511, \"Population\": 131911.0, \" thinness  1-19 years\": 4.0, \" thinness 5-9 years\": 4.1, \"Income composition of resources\": 0.541, \"Schooling\": 11.4, \"id\": 748, \"tooltip\": \"Eswatini: 58.9 yr\"}, {\"Country\": \"Sweden\", \"Year\": 2015, \"Status\": \"Developed\", \"Life expectancy \": 82.4, \"Adult Mortality\": 53.0, \"infant deaths\": 0, \"Alcohol\": null, \"percentage expenditure\": 0.0, \"Hepatitis B\": 67.0, \"Measles \": 22, \" BMI \": 59.5, \"under-five deaths \": 0, \"Polio\": 98.0, \"Total expenditure\": null, \"Diphtheria \": 98.0, \" HIV/AIDS\": 0.1, \"GDP\": 5585.258470000001, \"Population\": 9799186.0, \" thinness  1-19 years\": 1.5, \" thinness 5-9 years\": 1.4, \"Income composition of resources\": 0.909, \"Schooling\": 15.9, \"id\": 752, \"tooltip\": \"Sweden: 82.4 yr\"}, {\"Country\": \"Switzerland\", \"Year\": 2015, \"Status\": \"Developed\", \"Life expectancy \": 83.4, \"Adult Mortality\": 49.0, \"infant deaths\": 0, \"Alcohol\": null, \"percentage expenditure\": 0.0, \"Hepatitis B\": null, \"Measles \": 35, \" BMI \": 57.4, \"under-five deaths \": 0, \"Polio\": 97.0, \"Total expenditure\": null, \"Diphtheria \": 97.0, \" HIV/AIDS\": 0.1, \"GDP\": 8989.8424, \"Population\": 8282396.0, \" thinness  1-19 years\": 0.4, \" thinness 5-9 years\": 0.3, \"Income composition of resources\": 0.938, \"Schooling\": 16.0, \"id\": 756, \"tooltip\": \"Switzerland: 83.4 yr\"}, {\"Country\": \"Syrian Arab Republic\", \"Year\": 2015, \"Status\": \"Developing\", \"Life expectancy \": 64.5, \"Adult Mortality\": 293.0, \"infant deaths\": 6, \"Alcohol\": null, \"percentage expenditure\": 0.0, \"Hepatitis B\": 41.0, \"Measles \": 45, \" BMI \": 57.1, \"under-five deaths \": 8, \"Polio\": 5.0, \"Total expenditure\": null, \"Diphtheria \": 41.0, \" HIV/AIDS\": 0.1, \"GDP\": null, \"Population\": 18734987.0, \" thinness  1-19 years\": 6.3, \" thinness 5-9 years\": 6.1, \"Income composition of resources\": 0.5529999999999999, \"Schooling\": 9.0, \"id\": 760, \"tooltip\": \"Syrian Arab Republic: 64.5 yr\"}, {\"Country\": \"Tajikistan\", \"Year\": 2015, \"Status\": \"Developing\", \"Life expectancy \": 69.7, \"Adult Mortality\": 161.0, \"infant deaths\": 10, \"Alcohol\": null, \"percentage expenditure\": 0.0, \"Hepatitis B\": 96.0, \"Measles \": 3, \" BMI \": 4.7, \"under-five deaths \": 11, \"Polio\": 96.0, \"Total expenditure\": null, \"Diphtheria \": 96.0, \" HIV/AIDS\": 0.2, \"GDP\": 918.6771543, \"Population\": 8548651.0, \" thinness  1-19 years\": 3.6, \" thinness 5-9 years\": 3.7, \"Income composition of resources\": 0.625, \"Schooling\": 11.3, \"id\": 762, \"tooltip\": \"Tajikistan: 69.7 yr\"}, {\"Country\": \"Thailand\", \"Year\": 2015, \"Status\": \"Developing\", \"Life expectancy \": 74.9, \"Adult Mortality\": 148.0, \"infant deaths\": 8, \"Alcohol\": null, \"percentage expenditure\": 0.0, \"Hepatitis B\": 99.0, \"Measles \": 154, \" BMI \": 33.6, \"under-five deaths \": 9, \"Polio\": 99.0, \"Total expenditure\": null, \"Diphtheria \": 99.0, \" HIV/AIDS\": 0.1, \"GDP\": 5814.863134, \"Population\": 686576.0, \" thinness  1-19 years\": 7.7, \" thinness 5-9 years\": 7.7, \"Income composition of resources\": 0.738, \"Schooling\": 13.6, \"id\": 764, \"tooltip\": \"Thailand: 74.9 yr\"}, {\"Country\": \"North Macedonia\", \"Year\": 2015, \"Status\": \"Developing\", \"Life expectancy \": 75.7, \"Adult Mortality\": 12.0, \"infant deaths\": 0, \"Alcohol\": null, \"percentage expenditure\": 0.0, \"Hepatitis B\": 92.0, \"Measles \": 1, \" BMI \": 6.3, \"under-five deaths \": 0, \"Polio\": 92.0, \"Total expenditure\": null, \"Diphtheria \": 91.0, \" HIV/AIDS\": 0.1, \"GDP\": null, \"Population\": null, \" thinness  1-19 years\": 2.1, \" thinness 5-9 years\": 2.1, \"Income composition of resources\": 0.746, \"Schooling\": 12.9, \"id\": 807, \"tooltip\": \"North Macedonia: 75.7 yr\"}, {\"Country\": \"Timor-Leste\", \"Year\": 2015, \"Status\": \"Developing\", \"Life expectancy \": 68.3, \"Adult Mortality\": 152.0, \"infant deaths\": 2, \"Alcohol\": null, \"percentage expenditure\": 0.0, \"Hepatitis B\": 76.0, \"Measles \": 43, \" BMI \": 17.4, \"under-five deaths \": 2, \"Polio\": 75.0, \"Total expenditure\": null, \"Diphtheria \": 76.0, \" HIV/AIDS\": 0.1, \"GDP\": 1161.76935, \"Population\": 124977.0, \" thinness  1-19 years\": 1.9, \" thinness 5-9 years\": 11.1, \"Income composition of resources\": 0.603, \"Schooling\": 12.5, \"id\": 626, \"tooltip\": \"Timor-Leste: 68.3 yr\"}, {\"Country\": \"Togo\", \"Year\": 2015, \"Status\": \"Developing\", \"Life expectancy \": 59.9, \"Adult Mortality\": 287.0, \"infant deaths\": 13, \"Alcohol\": null, \"percentage expenditure\": 0.0, \"Hepatitis B\": 88.0, \"Measles \": 20, \" BMI \": 24.3, \"under-five deaths \": 20, \"Polio\": 88.0, \"Total expenditure\": null, \"Diphtheria \": 88.0, \" HIV/AIDS\": 1.0, \"GDP\": 551.138346, \"Population\": 741682.0, \" thinness  1-19 years\": 6.5, \" thinness 5-9 years\": 6.2, \"Income composition of resources\": 0.484, \"Schooling\": 12.0, \"id\": 768, \"tooltip\": \"Togo: 59.9 yr\"}, {\"Country\": \"Tonga\", \"Year\": 2015, \"Status\": \"Developing\", \"Life expectancy \": 73.5, \"Adult Mortality\": 133.0, \"infant deaths\": 0, \"Alcohol\": null, \"percentage expenditure\": 0.0, \"Hepatitis B\": 78.0, \"Measles \": 0, \" BMI \": 75.2, \"under-five deaths \": 0, \"Polio\": 8.0, \"Total expenditure\": null, \"Diphtheria \": 78.0, \" HIV/AIDS\": 0.1, \"GDP\": 493.775387, \"Population\": 16364.0, \" thinness  1-19 years\": 0.1, \" thinness 5-9 years\": 0.1, \"Income composition of resources\": 0.718, \"Schooling\": 14.3, \"id\": 776, \"tooltip\": \"Tonga: 73.5 yr\"}, {\"Country\": \"Trinidad and Tobago\", \"Year\": 2015, \"Status\": \"Developing\", \"Life expectancy \": 71.2, \"Adult Mortality\": 17.0, \"infant deaths\": 0, \"Alcohol\": null, \"percentage expenditure\": 0.0, \"Hepatitis B\": 9.0, \"Measles \": 0, \" BMI \": 47.1, \"under-five deaths \": 0, \"Polio\": 88.0, \"Total expenditure\": null, \"Diphtheria \": 96.0, \" HIV/AIDS\": 0.3, \"GDP\": 17321.833730000002, \"Population\": 13692.0, \" thinness  1-19 years\": 5.7, \" thinness 5-9 years\": 5.9, \"Income composition of resources\": 0.779, \"Schooling\": 12.7, \"id\": 780, \"tooltip\": \"Trinidad and Tobago: 71.2 yr\"}, {\"Country\": \"Tunisia\", \"Year\": 2015, \"Status\": \"Developing\", \"Life expectancy \": 75.3, \"Adult Mortality\": 1.0, \"infant deaths\": 3, \"Alcohol\": null, \"percentage expenditure\": 0.0, \"Hepatitis B\": 98.0, \"Measles \": 16, \" BMI \": 61.2, \"under-five deaths \": 3, \"Polio\": 98.0, \"Total expenditure\": null, \"Diphtheria \": 98.0, \" HIV/AIDS\": 0.1, \"GDP\": 3828.9158899999998, \"Population\": 11273661.0, \" thinness  1-19 years\": 6.5, \" thinness 5-9 years\": 6.4, \"Income composition of resources\": 0.723, \"Schooling\": 14.6, \"id\": 788, \"tooltip\": \"Tunisia: 75.3 yr\"}, {\"Country\": \"Turkey\", \"Year\": 2015, \"Status\": \"Developing\", \"Life expectancy \": 75.8, \"Adult Mortality\": 16.0, \"infant deaths\": 15, \"Alcohol\": null, \"percentage expenditure\": 0.0, \"Hepatitis B\": 97.0, \"Measles \": 342, \" BMI \": 66.1, \"under-five deaths \": 18, \"Polio\": 97.0, \"Total expenditure\": null, \"Diphtheria \": 97.0, \" HIV/AIDS\": 0.1, \"GDP\": 1979.52569, \"Population\": 78271472.0, \" thinness  1-19 years\": 4.9, \" thinness 5-9 years\": 4.8, \"Income composition of resources\": 0.764, \"Schooling\": 14.5, \"id\": 792, \"tooltip\": \"Turkey: 75.8 yr\"}, {\"Country\": \"Turkmenistan\", \"Year\": 2015, \"Status\": \"Developing\", \"Life expectancy \": 66.3, \"Adult Mortality\": 215.0, \"infant deaths\": 6, \"Alcohol\": null, \"percentage expenditure\": 0.0, \"Hepatitis B\": 99.0, \"Measles \": 0, \" BMI \": 48.6, \"under-five deaths \": 7, \"Polio\": 99.0, \"Total expenditure\": null, \"Diphtheria \": 99.0, \" HIV/AIDS\": 0.1, \"GDP\": 6432.668768, \"Population\": 5565284.0, \" thinness  1-19 years\": 3.3, \" thinness 5-9 years\": 3.3, \"Income composition of resources\": 0.688, \"Schooling\": 10.8, \"id\": 795, \"tooltip\": \"Turkmenistan: 66.3 yr\"}, {\"Country\": \"Uganda\", \"Year\": 2015, \"Status\": \"Developing\", \"Life expectancy \": 62.3, \"Adult Mortality\": 291.0, \"infant deaths\": 66, \"Alcohol\": null, \"percentage expenditure\": 0.0, \"Hepatitis B\": 78.0, \"Measles \": 478, \" BMI \": 18.5, \"under-five deaths \": 93, \"Polio\": 82.0, \"Total expenditure\": null, \"Diphtheria \": 78.0, \" HIV/AIDS\": 3.1, \"GDP\": 693.8963828999999, \"Population\": 414487.0, \" thinness  1-19 years\": 5.6, \" thinness 5-9 years\": 5.6, \"Income composition of resources\": 0.488, \"Schooling\": 10.0, \"id\": 800, \"tooltip\": \"Uganda: 62.3 yr\"}, {\"Country\": \"Ukraine\", \"Year\": 2015, \"Status\": \"Developing\", \"Life expectancy \": 71.3, \"Adult Mortality\": 195.0, \"infant deaths\": 4, \"Alcohol\": null, \"percentage expenditure\": 0.0, \"Hepatitis B\": 22.0, \"Measles \": 105, \" BMI \": 61.3, \"under-five deaths \": 5, \"Polio\": 51.0, \"Total expenditure\": null, \"Diphtheria \": 23.0, \" HIV/AIDS\": 0.2, \"GDP\": 2124.662666, \"Population\": 4515429.0, \" thinness  1-19 years\": 2.3, \" thinness 5-9 years\": 2.4, \"Income composition of resources\": 0.748, \"Schooling\": 15.3, \"id\": 804, \"tooltip\": \"Ukraine: 71.3 yr\"}, {\"Country\": \"United Arab Emirates\", \"Year\": 2015, \"Status\": \"Developing\", \"Life expectancy \": 77.1, \"Adult Mortality\": 75.0, \"infant deaths\": 1, \"Alcohol\": null, \"percentage expenditure\": 0.0, \"Hepatitis B\": 99.0, \"Measles \": 347, \" BMI \": 64.2, \"under-five deaths \": 1, \"Polio\": 99.0, \"Total expenditure\": null, \"Diphtheria \": 99.0, \" HIV/AIDS\": 0.1, \"GDP\": 3911.74689, \"Population\": null, \" thinness  1-19 years\": 5.3, \" thinness 5-9 years\": 5.1, \"Income composition of resources\": 0.836, \"Schooling\": 13.3, \"id\": 784, \"tooltip\": \"United Arab Emirates: 77.1 yr\"}, {\"Country\": \"United Kingdom of Great Britain and Northern Ireland\", \"Year\": 2015, \"Status\": \"Developed\", \"Life expectancy \": 81.2, \"Adult Mortality\": 69.0, \"infant deaths\": 3, \"Alcohol\": 10.66, \"percentage expenditure\": 0.0, \"Hepatitis B\": null, \"Measles \": 91, \" BMI \": 66.6, \"under-five deaths \": 4, \"Polio\": 96.0, \"Total expenditure\": null, \"Diphtheria \": 96.0, \" HIV/AIDS\": 0.1, \"GDP\": null, \"Population\": null, \" thinness  1-19 years\": 0.8, \" thinness 5-9 years\": 0.6, \"Income composition of resources\": null, \"Schooling\": null, \"id\": 826, \"tooltip\": \"United Kingdom of Great Britain and Northern Ireland: 81.2 yr\"}, {\"Country\": \"United Republic of Tanzania\", \"Year\": 2015, \"Status\": \"Developing\", \"Life expectancy \": 61.8, \"Adult Mortality\": 279.0, \"infant deaths\": 85, \"Alcohol\": null, \"percentage expenditure\": 0.0, \"Hepatitis B\": 98.0, \"Measles \": 30, \" BMI \": 23.8, \"under-five deaths \": 119, \"Polio\": 96.0, \"Total expenditure\": null, \"Diphtheria \": 98.0, \" HIV/AIDS\": 1.4, \"GDP\": null, \"Population\": null, \" thinness  1-19 years\": 6.7, \" thinness 5-9 years\": 6.5, \"Income composition of resources\": null, \"Schooling\": null, \"id\": 834, \"tooltip\": \"United Republic of Tanzania: 61.8 yr\"}, {\"Country\": \"United States of America\", \"Year\": 2015, \"Status\": \"Developed\", \"Life expectancy \": 79.3, \"Adult Mortality\": 13.0, \"infant deaths\": 23, \"Alcohol\": null, \"percentage expenditure\": 0.0, \"Hepatitis B\": 92.0, \"Measles \": 188, \" BMI \": 69.6, \"under-five deaths \": 26, \"Polio\": 93.0, \"Total expenditure\": null, \"Diphtheria \": 95.0, \" HIV/AIDS\": 0.1, \"GDP\": null, \"Population\": null, \" thinness  1-19 years\": 0.8, \" thinness 5-9 years\": 0.6, \"Income composition of resources\": null, \"Schooling\": null, \"id\": 840, \"tooltip\": \"United States of America: 79.3 yr\"}, {\"Country\": \"Uruguay\", \"Year\": 2015, \"Status\": \"Developing\", \"Life expectancy \": 77.0, \"Adult Mortality\": 116.0, \"infant deaths\": 0, \"Alcohol\": null, \"percentage expenditure\": 0.0, \"Hepatitis B\": 95.0, \"Measles \": 0, \" BMI \": 64.0, \"under-five deaths \": 0, \"Polio\": 95.0, \"Total expenditure\": null, \"Diphtheria \": 95.0, \" HIV/AIDS\": 0.1, \"GDP\": 15524.84247, \"Population\": 3431552.0, \" thinness  1-19 years\": 1.5, \" thinness 5-9 years\": 1.4, \"Income composition of resources\": 0.794, \"Schooling\": 15.5, \"id\": 858, \"tooltip\": \"Uruguay: 77.0 yr\"}, {\"Country\": \"Uzbekistan\", \"Year\": 2015, \"Status\": \"Developing\", \"Life expectancy \": 69.4, \"Adult Mortality\": 184.0, \"infant deaths\": 15, \"Alcohol\": null, \"percentage expenditure\": 0.0, \"Hepatitis B\": 99.0, \"Measles \": 22, \" BMI \": 44.7, \"under-five deaths \": 17, \"Polio\": 99.0, \"Total expenditure\": null, \"Diphtheria \": 99.0, \" HIV/AIDS\": 0.1, \"GDP\": 2137.576852, \"Population\": 312989.0, \" thinness  1-19 years\": 3.0, \" thinness 5-9 years\": 3.1, \"Income composition of resources\": 0.6970000000000001, \"Schooling\": 12.1, \"id\": 860, \"tooltip\": \"Uzbekistan: 69.4 yr\"}, {\"Country\": \"Vanuatu\", \"Year\": 2015, \"Status\": \"Developing\", \"Life expectancy \": 72.0, \"Adult Mortality\": 13.0, \"infant deaths\": 0, \"Alcohol\": null, \"percentage expenditure\": 0.0, \"Hepatitis B\": 64.0, \"Measles \": 39, \" BMI \": 53.3, \"under-five deaths \": 0, \"Polio\": 65.0, \"Total expenditure\": null, \"Diphtheria \": 64.0, \" HIV/AIDS\": 0.1, \"GDP\": 285.83414, \"Population\": 26463.0, \" thinness  1-19 years\": 1.5, \" thinness 5-9 years\": 1.4, \"Income composition of resources\": 0.598, \"Schooling\": 10.8, \"id\": 548, \"tooltip\": \"Vanuatu: 72.0 yr\"}, {\"Country\": \"Venezuela (Bolivarian Republic of)\", \"Year\": 2015, \"Status\": \"Developing\", \"Life expectancy \": 74.1, \"Adult Mortality\": 157.0, \"infant deaths\": 9, \"Alcohol\": null, \"percentage expenditure\": 0.0, \"Hepatitis B\": 87.0, \"Measles \": 0, \" BMI \": 62.1, \"under-five deaths \": 10, \"Polio\": 87.0, \"Total expenditure\": null, \"Diphtheria \": 87.0, \" HIV/AIDS\": 0.1, \"GDP\": null, \"Population\": null, \" thinness  1-19 years\": 1.6, \" thinness 5-9 years\": 1.5, \"Income composition of resources\": 0.769, \"Schooling\": 14.3, \"id\": 862, \"tooltip\": \"Venezuela (Bolivarian Republic of): 74.1 yr\"}, {\"Country\": \"Viet Nam\", \"Year\": 2015, \"Status\": \"Developing\", \"Life expectancy \": 76.0, \"Adult Mortality\": 127.0, \"infant deaths\": 28, \"Alcohol\": null, \"percentage expenditure\": 0.0, \"Hepatitis B\": 97.0, \"Measles \": 256, \" BMI \": 17.5, \"under-five deaths \": 35, \"Polio\": 97.0, \"Total expenditure\": null, \"Diphtheria \": 97.0, \" HIV/AIDS\": 0.1, \"GDP\": null, \"Population\": null, \" thinness  1-19 years\": 14.2, \" thinness 5-9 years\": 14.5, \"Income composition of resources\": 0.6779999999999999, \"Schooling\": 12.6, \"id\": 704, \"tooltip\": \"Viet Nam: 76.0 yr\"}, {\"Country\": \"Yemen\", \"Year\": 2015, \"Status\": \"Developing\", \"Life expectancy \": 65.7, \"Adult Mortality\": 224.0, \"infant deaths\": 37, \"Alcohol\": null, \"percentage expenditure\": 0.0, \"Hepatitis B\": 69.0, \"Measles \": 468, \" BMI \": 41.3, \"under-five deaths \": 47, \"Polio\": 63.0, \"Total expenditure\": null, \"Diphtheria \": 69.0, \" HIV/AIDS\": 0.1, \"GDP\": null, \"Population\": null, \" thinness  1-19 years\": 13.6, \" thinness 5-9 years\": 13.4, \"Income composition of resources\": 0.499, \"Schooling\": 9.0, \"id\": 887, \"tooltip\": \"Yemen: 65.7 yr\"}, {\"Country\": \"Zambia\", \"Year\": 2015, \"Status\": \"Developing\", \"Life expectancy \": 61.8, \"Adult Mortality\": 33.0, \"infant deaths\": 27, \"Alcohol\": null, \"percentage expenditure\": 0.0, \"Hepatitis B\": 9.0, \"Measles \": 9, \" BMI \": 23.4, \"under-five deaths \": 40, \"Polio\": 9.0, \"Total expenditure\": null, \"Diphtheria \": 9.0, \" HIV/AIDS\": 4.1, \"GDP\": 1313.889646, \"Population\": 161587.0, \" thinness  1-19 years\": 6.3, \" thinness 5-9 years\": 6.1, \"Income composition of resources\": 0.5760000000000001, \"Schooling\": 12.5, \"id\": 894, \"tooltip\": \"Zambia: 61.8 yr\"}, {\"Country\": \"Zimbabwe\", \"Year\": 2015, \"Status\": \"Developing\", \"Life expectancy \": 67.0, \"Adult Mortality\": 336.0, \"infant deaths\": 22, \"Alcohol\": null, \"percentage expenditure\": 0.0, \"Hepatitis B\": 87.0, \"Measles \": 0, \" BMI \": 31.8, \"under-five deaths \": 32, \"Polio\": 88.0, \"Total expenditure\": null, \"Diphtheria \": 87.0, \" HIV/AIDS\": 6.2, \"GDP\": 118.69383, \"Population\": 15777451.0, \" thinness  1-19 years\": 5.6, \" thinness 5-9 years\": 5.5, \"Income composition of resources\": 0.507, \"Schooling\": 10.3, \"id\": 716, \"tooltip\": \"Zimbabwe: 67.0 yr\"}]}};\n",
       "var opt = {};\n",
       "var type = \"vega-lite\";\n",
       "var id = \"4fa614bc-1a29-44cf-a4c3-de5ba3b70cab\";\n",
       "\n",
       "var output_area = this;\n",
       "\n",
       "require([\"nbextensions/jupyter-vega/index\"], function(vega) {\n",
       "  var target = document.createElement(\"div\");\n",
       "  target.id = id;\n",
       "  target.className = \"vega-embed\";\n",
       "\n",
       "  var style = document.createElement(\"style\");\n",
       "  style.textContent = [\n",
       "    \".vega-embed .error p {\",\n",
       "    \"  color: firebrick;\",\n",
       "    \"  font-size: 14px;\",\n",
       "    \"}\",\n",
       "  ].join(\"\\\\n\");\n",
       "\n",
       "  // element is a jQuery wrapped DOM element inside the output area\n",
       "  // see http://ipython.readthedocs.io/en/stable/api/generated/\\\n",
       "  // IPython.display.html#IPython.display.Javascript.__init__\n",
       "  element[0].appendChild(target);\n",
       "  element[0].appendChild(style);\n",
       "\n",
       "  vega.render(\"#\" + id, spec, type, opt, output_area);\n",
       "}, function (err) {\n",
       "  if (err.requireType !== \"scripterror\") {\n",
       "    throw(err);\n",
       "  }\n",
       "});\n"
      ],
      "text/plain": [
       "<vega.vegalite.VegaLite at 0x1c246d8358>"
      ]
     },
     "metadata": {
      "jupyter-vega": "#4fa614bc-1a29-44cf-a4c3-de5ba3b70cab"
     },
     "output_type": "display_data"
    },
    {
     "data": {
      "text/plain": []
     },
     "execution_count": 16,
     "metadata": {},
     "output_type": "execute_result"
    },
    {
     "data": {
      "image/png": "[encoded data removed]"
     },
     "metadata": {
      "jupyter-vega": "#4fa614bc-1a29-44cf-a4c3-de5ba3b70cab"
     },
     "output_type": "display_data"
    }
   ],
   "source": [
    "map_plot"
   ]
  },
  {
   "cell_type": "markdown",
   "metadata": {},
   "source": [
    "#### Finding: The country with the highest life-expectancy is Slovenia (Europe) at 88 years, and the lowest is Sierra Leonne (Africa) at 52 years. "
   ]
  },
  {
   "cell_type": "code",
   "execution_count": 17,
   "metadata": {},
   "outputs": [
    {
     "data": {
      "text/html": [
       "<div>\n",
       "<style scoped>\n",
       "    .dataframe tbody tr th:only-of-type {\n",
       "        vertical-align: middle;\n",
       "    }\n",
       "\n",
       "    .dataframe tbody tr th {\n",
       "        vertical-align: top;\n",
       "    }\n",
       "\n",
       "    .dataframe thead th {\n",
       "        text-align: right;\n",
       "    }\n",
       "</style>\n",
       "<table border=\"1\" class=\"dataframe\">\n",
       "  <thead>\n",
       "    <tr style=\"text-align: right;\">\n",
       "      <th></th>\n",
       "      <th></th>\n",
       "      <th>Status</th>\n",
       "      <th>Life expectancy</th>\n",
       "      <th>Adult Mortality</th>\n",
       "      <th>infant deaths</th>\n",
       "      <th>Alcohol</th>\n",
       "      <th>percentage expenditure</th>\n",
       "      <th>Hepatitis B</th>\n",
       "      <th>Measles</th>\n",
       "      <th>BMI</th>\n",
       "      <th>under-five deaths</th>\n",
       "      <th>Polio</th>\n",
       "      <th>Total expenditure</th>\n",
       "      <th>Diphtheria</th>\n",
       "      <th>HIV/AIDS</th>\n",
       "      <th>GDP</th>\n",
       "      <th>Population</th>\n",
       "      <th>thinness  1-19 years</th>\n",
       "      <th>thinness 5-9 years</th>\n",
       "      <th>Income composition of resources</th>\n",
       "      <th>Schooling</th>\n",
       "    </tr>\n",
       "    <tr>\n",
       "      <th>Country</th>\n",
       "      <th>Year</th>\n",
       "      <th></th>\n",
       "      <th></th>\n",
       "      <th></th>\n",
       "      <th></th>\n",
       "      <th></th>\n",
       "      <th></th>\n",
       "      <th></th>\n",
       "      <th></th>\n",
       "      <th></th>\n",
       "      <th></th>\n",
       "      <th></th>\n",
       "      <th></th>\n",
       "      <th></th>\n",
       "      <th></th>\n",
       "      <th></th>\n",
       "      <th></th>\n",
       "      <th></th>\n",
       "      <th></th>\n",
       "      <th></th>\n",
       "      <th></th>\n",
       "    </tr>\n",
       "  </thead>\n",
       "  <tbody>\n",
       "    <tr>\n",
       "      <th rowspan=\"5\" valign=\"top\">Afghanistan</th>\n",
       "      <th>2015</th>\n",
       "      <td>Developing</td>\n",
       "      <td>65.0</td>\n",
       "      <td>263.0</td>\n",
       "      <td>62</td>\n",
       "      <td>0.01</td>\n",
       "      <td>71.279624</td>\n",
       "      <td>65.0</td>\n",
       "      <td>1154</td>\n",
       "      <td>19.1</td>\n",
       "      <td>83</td>\n",
       "      <td>6.0</td>\n",
       "      <td>8.16</td>\n",
       "      <td>65.0</td>\n",
       "      <td>0.1</td>\n",
       "      <td>584.259210</td>\n",
       "      <td>33736494.0</td>\n",
       "      <td>17.2</td>\n",
       "      <td>17.3</td>\n",
       "      <td>0.479</td>\n",
       "      <td>10.1</td>\n",
       "    </tr>\n",
       "    <tr>\n",
       "      <th>2014</th>\n",
       "      <td>Developing</td>\n",
       "      <td>59.9</td>\n",
       "      <td>271.0</td>\n",
       "      <td>64</td>\n",
       "      <td>0.01</td>\n",
       "      <td>73.523582</td>\n",
       "      <td>62.0</td>\n",
       "      <td>492</td>\n",
       "      <td>18.6</td>\n",
       "      <td>86</td>\n",
       "      <td>58.0</td>\n",
       "      <td>8.18</td>\n",
       "      <td>62.0</td>\n",
       "      <td>0.1</td>\n",
       "      <td>612.696514</td>\n",
       "      <td>327582.0</td>\n",
       "      <td>17.5</td>\n",
       "      <td>17.5</td>\n",
       "      <td>0.476</td>\n",
       "      <td>10.0</td>\n",
       "    </tr>\n",
       "    <tr>\n",
       "      <th>2013</th>\n",
       "      <td>Developing</td>\n",
       "      <td>59.9</td>\n",
       "      <td>268.0</td>\n",
       "      <td>66</td>\n",
       "      <td>0.01</td>\n",
       "      <td>73.219243</td>\n",
       "      <td>64.0</td>\n",
       "      <td>430</td>\n",
       "      <td>18.1</td>\n",
       "      <td>89</td>\n",
       "      <td>62.0</td>\n",
       "      <td>8.13</td>\n",
       "      <td>64.0</td>\n",
       "      <td>0.1</td>\n",
       "      <td>631.744976</td>\n",
       "      <td>31731688.0</td>\n",
       "      <td>17.7</td>\n",
       "      <td>17.7</td>\n",
       "      <td>0.470</td>\n",
       "      <td>9.9</td>\n",
       "    </tr>\n",
       "    <tr>\n",
       "      <th>2012</th>\n",
       "      <td>Developing</td>\n",
       "      <td>59.5</td>\n",
       "      <td>272.0</td>\n",
       "      <td>69</td>\n",
       "      <td>0.01</td>\n",
       "      <td>78.184215</td>\n",
       "      <td>67.0</td>\n",
       "      <td>2787</td>\n",
       "      <td>17.6</td>\n",
       "      <td>93</td>\n",
       "      <td>67.0</td>\n",
       "      <td>8.52</td>\n",
       "      <td>67.0</td>\n",
       "      <td>0.1</td>\n",
       "      <td>669.959000</td>\n",
       "      <td>3696958.0</td>\n",
       "      <td>17.9</td>\n",
       "      <td>18.0</td>\n",
       "      <td>0.463</td>\n",
       "      <td>9.8</td>\n",
       "    </tr>\n",
       "    <tr>\n",
       "      <th>2011</th>\n",
       "      <td>Developing</td>\n",
       "      <td>59.2</td>\n",
       "      <td>275.0</td>\n",
       "      <td>71</td>\n",
       "      <td>0.01</td>\n",
       "      <td>7.097109</td>\n",
       "      <td>68.0</td>\n",
       "      <td>3013</td>\n",
       "      <td>17.2</td>\n",
       "      <td>97</td>\n",
       "      <td>68.0</td>\n",
       "      <td>7.87</td>\n",
       "      <td>68.0</td>\n",
       "      <td>0.1</td>\n",
       "      <td>63.537231</td>\n",
       "      <td>2978599.0</td>\n",
       "      <td>18.2</td>\n",
       "      <td>18.2</td>\n",
       "      <td>0.454</td>\n",
       "      <td>9.5</td>\n",
       "    </tr>\n",
       "  </tbody>\n",
       "</table>\n",
       "</div>"
      ],
      "text/plain": [
       "                      Status  Life expectancy   Adult Mortality  \\\n",
       "Country     Year                                                  \n",
       "Afghanistan 2015  Developing              65.0            263.0   \n",
       "            2014  Developing              59.9            271.0   \n",
       "            2013  Developing              59.9            268.0   \n",
       "            2012  Developing              59.5            272.0   \n",
       "            2011  Developing              59.2            275.0   \n",
       "\n",
       "                  infant deaths  Alcohol  percentage expenditure  Hepatitis B  \\\n",
       "Country     Year                                                                \n",
       "Afghanistan 2015             62     0.01               71.279624         65.0   \n",
       "            2014             64     0.01               73.523582         62.0   \n",
       "            2013             66     0.01               73.219243         64.0   \n",
       "            2012             69     0.01               78.184215         67.0   \n",
       "            2011             71     0.01                7.097109         68.0   \n",
       "\n",
       "                  Measles    BMI   under-five deaths   Polio  \\\n",
       "Country     Year                                               \n",
       "Afghanistan 2015      1154   19.1                  83    6.0   \n",
       "            2014       492   18.6                  86   58.0   \n",
       "            2013       430   18.1                  89   62.0   \n",
       "            2012      2787   17.6                  93   67.0   \n",
       "            2011      3013   17.2                  97   68.0   \n",
       "\n",
       "                  Total expenditure  Diphtheria    HIV/AIDS         GDP  \\\n",
       "Country     Year                                                          \n",
       "Afghanistan 2015               8.16         65.0        0.1  584.259210   \n",
       "            2014               8.18         62.0        0.1  612.696514   \n",
       "            2013               8.13         64.0        0.1  631.744976   \n",
       "            2012               8.52         67.0        0.1  669.959000   \n",
       "            2011               7.87         68.0        0.1   63.537231   \n",
       "\n",
       "                  Population   thinness  1-19 years   thinness 5-9 years  \\\n",
       "Country     Year                                                           \n",
       "Afghanistan 2015  33736494.0                   17.2                 17.3   \n",
       "            2014    327582.0                   17.5                 17.5   \n",
       "            2013  31731688.0                   17.7                 17.7   \n",
       "            2012   3696958.0                   17.9                 18.0   \n",
       "            2011   2978599.0                   18.2                 18.2   \n",
       "\n",
       "                  Income composition of resources  Schooling  \n",
       "Country     Year                                              \n",
       "Afghanistan 2015                            0.479       10.1  \n",
       "            2014                            0.476       10.0  \n",
       "            2013                            0.470        9.9  \n",
       "            2012                            0.463        9.8  \n",
       "            2011                            0.454        9.5  "
      ]
     },
     "execution_count": 17,
     "metadata": {},
     "output_type": "execute_result"
    }
   ],
   "source": [
    "df_group = df.set_index(['Country','Year'])\n",
    "df_group.head()"
   ]
  },
  {
   "cell_type": "markdown",
   "metadata": {},
   "source": [
    "## Drop all NaN's and check remaining length of dataframe"
   ]
  },
  {
   "cell_type": "code",
   "execution_count": 19,
   "metadata": {},
   "outputs": [],
   "source": [
    "df_nona = df.dropna()"
   ]
  },
  {
   "cell_type": "code",
   "execution_count": 19,
   "metadata": {},
   "outputs": [
    {
     "data": {
      "text/plain": [
       "(1649, 22)"
      ]
     },
     "execution_count": 19,
     "metadata": {},
     "output_type": "execute_result"
    }
   ],
   "source": [
    "df_nona.shape"
   ]
  },
  {
   "cell_type": "markdown",
   "metadata": {},
   "source": [
    "## Rename \"Life expectancy\" column as \"target\""
   ]
  },
  {
   "cell_type": "code",
   "execution_count": 20,
   "metadata": {},
   "outputs": [
    {
     "data": {
      "text/html": [
       "<div>\n",
       "<style scoped>\n",
       "    .dataframe tbody tr th:only-of-type {\n",
       "        vertical-align: middle;\n",
       "    }\n",
       "\n",
       "    .dataframe tbody tr th {\n",
       "        vertical-align: top;\n",
       "    }\n",
       "\n",
       "    .dataframe thead th {\n",
       "        text-align: right;\n",
       "    }\n",
       "</style>\n",
       "<table border=\"1\" class=\"dataframe\">\n",
       "  <thead>\n",
       "    <tr style=\"text-align: right;\">\n",
       "      <th></th>\n",
       "      <th>Country</th>\n",
       "      <th>Year</th>\n",
       "      <th>Status</th>\n",
       "      <th>Life expectancy</th>\n",
       "      <th>Adult Mortality</th>\n",
       "      <th>infant deaths</th>\n",
       "      <th>Alcohol</th>\n",
       "      <th>percentage expenditure</th>\n",
       "      <th>Hepatitis B</th>\n",
       "      <th>Measles</th>\n",
       "      <th>...</th>\n",
       "      <th>Polio</th>\n",
       "      <th>Total expenditure</th>\n",
       "      <th>Diphtheria</th>\n",
       "      <th>HIV/AIDS</th>\n",
       "      <th>GDP</th>\n",
       "      <th>Population</th>\n",
       "      <th>thinness  1-19 years</th>\n",
       "      <th>thinness 5-9 years</th>\n",
       "      <th>Income composition of resources</th>\n",
       "      <th>Schooling</th>\n",
       "    </tr>\n",
       "  </thead>\n",
       "  <tbody>\n",
       "    <tr>\n",
       "      <th>0</th>\n",
       "      <td>Afghanistan</td>\n",
       "      <td>2015</td>\n",
       "      <td>Developing</td>\n",
       "      <td>65.0</td>\n",
       "      <td>263.0</td>\n",
       "      <td>62</td>\n",
       "      <td>0.01</td>\n",
       "      <td>71.279624</td>\n",
       "      <td>65.0</td>\n",
       "      <td>1154</td>\n",
       "      <td>...</td>\n",
       "      <td>6.0</td>\n",
       "      <td>8.16</td>\n",
       "      <td>65.0</td>\n",
       "      <td>0.1</td>\n",
       "      <td>584.259210</td>\n",
       "      <td>33736494.0</td>\n",
       "      <td>17.2</td>\n",
       "      <td>17.3</td>\n",
       "      <td>0.479</td>\n",
       "      <td>10.1</td>\n",
       "    </tr>\n",
       "    <tr>\n",
       "      <th>1</th>\n",
       "      <td>Afghanistan</td>\n",
       "      <td>2014</td>\n",
       "      <td>Developing</td>\n",
       "      <td>59.9</td>\n",
       "      <td>271.0</td>\n",
       "      <td>64</td>\n",
       "      <td>0.01</td>\n",
       "      <td>73.523582</td>\n",
       "      <td>62.0</td>\n",
       "      <td>492</td>\n",
       "      <td>...</td>\n",
       "      <td>58.0</td>\n",
       "      <td>8.18</td>\n",
       "      <td>62.0</td>\n",
       "      <td>0.1</td>\n",
       "      <td>612.696514</td>\n",
       "      <td>327582.0</td>\n",
       "      <td>17.5</td>\n",
       "      <td>17.5</td>\n",
       "      <td>0.476</td>\n",
       "      <td>10.0</td>\n",
       "    </tr>\n",
       "    <tr>\n",
       "      <th>2</th>\n",
       "      <td>Afghanistan</td>\n",
       "      <td>2013</td>\n",
       "      <td>Developing</td>\n",
       "      <td>59.9</td>\n",
       "      <td>268.0</td>\n",
       "      <td>66</td>\n",
       "      <td>0.01</td>\n",
       "      <td>73.219243</td>\n",
       "      <td>64.0</td>\n",
       "      <td>430</td>\n",
       "      <td>...</td>\n",
       "      <td>62.0</td>\n",
       "      <td>8.13</td>\n",
       "      <td>64.0</td>\n",
       "      <td>0.1</td>\n",
       "      <td>631.744976</td>\n",
       "      <td>31731688.0</td>\n",
       "      <td>17.7</td>\n",
       "      <td>17.7</td>\n",
       "      <td>0.470</td>\n",
       "      <td>9.9</td>\n",
       "    </tr>\n",
       "    <tr>\n",
       "      <th>3</th>\n",
       "      <td>Afghanistan</td>\n",
       "      <td>2012</td>\n",
       "      <td>Developing</td>\n",
       "      <td>59.5</td>\n",
       "      <td>272.0</td>\n",
       "      <td>69</td>\n",
       "      <td>0.01</td>\n",
       "      <td>78.184215</td>\n",
       "      <td>67.0</td>\n",
       "      <td>2787</td>\n",
       "      <td>...</td>\n",
       "      <td>67.0</td>\n",
       "      <td>8.52</td>\n",
       "      <td>67.0</td>\n",
       "      <td>0.1</td>\n",
       "      <td>669.959000</td>\n",
       "      <td>3696958.0</td>\n",
       "      <td>17.9</td>\n",
       "      <td>18.0</td>\n",
       "      <td>0.463</td>\n",
       "      <td>9.8</td>\n",
       "    </tr>\n",
       "    <tr>\n",
       "      <th>4</th>\n",
       "      <td>Afghanistan</td>\n",
       "      <td>2011</td>\n",
       "      <td>Developing</td>\n",
       "      <td>59.2</td>\n",
       "      <td>275.0</td>\n",
       "      <td>71</td>\n",
       "      <td>0.01</td>\n",
       "      <td>7.097109</td>\n",
       "      <td>68.0</td>\n",
       "      <td>3013</td>\n",
       "      <td>...</td>\n",
       "      <td>68.0</td>\n",
       "      <td>7.87</td>\n",
       "      <td>68.0</td>\n",
       "      <td>0.1</td>\n",
       "      <td>63.537231</td>\n",
       "      <td>2978599.0</td>\n",
       "      <td>18.2</td>\n",
       "      <td>18.2</td>\n",
       "      <td>0.454</td>\n",
       "      <td>9.5</td>\n",
       "    </tr>\n",
       "  </tbody>\n",
       "</table>\n",
       "<p>5 rows × 22 columns</p>\n",
       "</div>"
      ],
      "text/plain": [
       "       Country  Year      Status  Life expectancy   Adult Mortality  \\\n",
       "0  Afghanistan  2015  Developing              65.0            263.0   \n",
       "1  Afghanistan  2014  Developing              59.9            271.0   \n",
       "2  Afghanistan  2013  Developing              59.9            268.0   \n",
       "3  Afghanistan  2012  Developing              59.5            272.0   \n",
       "4  Afghanistan  2011  Developing              59.2            275.0   \n",
       "\n",
       "   infant deaths  Alcohol  percentage expenditure  Hepatitis B  Measles   ...  \\\n",
       "0             62     0.01               71.279624         65.0      1154  ...   \n",
       "1             64     0.01               73.523582         62.0       492  ...   \n",
       "2             66     0.01               73.219243         64.0       430  ...   \n",
       "3             69     0.01               78.184215         67.0      2787  ...   \n",
       "4             71     0.01                7.097109         68.0      3013  ...   \n",
       "\n",
       "   Polio  Total expenditure  Diphtheria    HIV/AIDS         GDP  Population  \\\n",
       "0    6.0               8.16         65.0        0.1  584.259210  33736494.0   \n",
       "1   58.0               8.18         62.0        0.1  612.696514    327582.0   \n",
       "2   62.0               8.13         64.0        0.1  631.744976  31731688.0   \n",
       "3   67.0               8.52         67.0        0.1  669.959000   3696958.0   \n",
       "4   68.0               7.87         68.0        0.1   63.537231   2978599.0   \n",
       "\n",
       "    thinness  1-19 years   thinness 5-9 years  \\\n",
       "0                   17.2                 17.3   \n",
       "1                   17.5                 17.5   \n",
       "2                   17.7                 17.7   \n",
       "3                   17.9                 18.0   \n",
       "4                   18.2                 18.2   \n",
       "\n",
       "   Income composition of resources  Schooling  \n",
       "0                            0.479       10.1  \n",
       "1                            0.476       10.0  \n",
       "2                            0.470        9.9  \n",
       "3                            0.463        9.8  \n",
       "4                            0.454        9.5  \n",
       "\n",
       "[5 rows x 22 columns]"
      ]
     },
     "execution_count": 20,
     "metadata": {},
     "output_type": "execute_result"
    }
   ],
   "source": [
    "df_nona.head()"
   ]
  },
  {
   "cell_type": "code",
   "execution_count": 26,
   "metadata": {},
   "outputs": [],
   "source": [
    "df_nona.rename(columns={'Life expectancy ':'target'}, inplace=True)"
   ]
  },
  {
   "cell_type": "code",
   "execution_count": 22,
   "metadata": {
    "scrolled": true
   },
   "outputs": [
    {
     "data": {
      "text/html": [
       "<div>\n",
       "<style scoped>\n",
       "    .dataframe tbody tr th:only-of-type {\n",
       "        vertical-align: middle;\n",
       "    }\n",
       "\n",
       "    .dataframe tbody tr th {\n",
       "        vertical-align: top;\n",
       "    }\n",
       "\n",
       "    .dataframe thead th {\n",
       "        text-align: right;\n",
       "    }\n",
       "</style>\n",
       "<table border=\"1\" class=\"dataframe\">\n",
       "  <thead>\n",
       "    <tr style=\"text-align: right;\">\n",
       "      <th></th>\n",
       "      <th>Country</th>\n",
       "      <th>Year</th>\n",
       "      <th>Status</th>\n",
       "      <th>target</th>\n",
       "      <th>Adult Mortality</th>\n",
       "      <th>infant deaths</th>\n",
       "      <th>Alcohol</th>\n",
       "      <th>percentage expenditure</th>\n",
       "      <th>Hepatitis B</th>\n",
       "      <th>Measles</th>\n",
       "      <th>...</th>\n",
       "      <th>Polio</th>\n",
       "      <th>Total expenditure</th>\n",
       "      <th>Diphtheria</th>\n",
       "      <th>HIV/AIDS</th>\n",
       "      <th>GDP</th>\n",
       "      <th>Population</th>\n",
       "      <th>thinness  1-19 years</th>\n",
       "      <th>thinness 5-9 years</th>\n",
       "      <th>Income composition of resources</th>\n",
       "      <th>Schooling</th>\n",
       "    </tr>\n",
       "  </thead>\n",
       "  <tbody>\n",
       "    <tr>\n",
       "      <th>0</th>\n",
       "      <td>Afghanistan</td>\n",
       "      <td>2015</td>\n",
       "      <td>Developing</td>\n",
       "      <td>65.0</td>\n",
       "      <td>263.0</td>\n",
       "      <td>62</td>\n",
       "      <td>0.01</td>\n",
       "      <td>71.279624</td>\n",
       "      <td>65.0</td>\n",
       "      <td>1154</td>\n",
       "      <td>...</td>\n",
       "      <td>6.0</td>\n",
       "      <td>8.16</td>\n",
       "      <td>65.0</td>\n",
       "      <td>0.1</td>\n",
       "      <td>584.259210</td>\n",
       "      <td>33736494.0</td>\n",
       "      <td>17.2</td>\n",
       "      <td>17.3</td>\n",
       "      <td>0.479</td>\n",
       "      <td>10.1</td>\n",
       "    </tr>\n",
       "    <tr>\n",
       "      <th>1</th>\n",
       "      <td>Afghanistan</td>\n",
       "      <td>2014</td>\n",
       "      <td>Developing</td>\n",
       "      <td>59.9</td>\n",
       "      <td>271.0</td>\n",
       "      <td>64</td>\n",
       "      <td>0.01</td>\n",
       "      <td>73.523582</td>\n",
       "      <td>62.0</td>\n",
       "      <td>492</td>\n",
       "      <td>...</td>\n",
       "      <td>58.0</td>\n",
       "      <td>8.18</td>\n",
       "      <td>62.0</td>\n",
       "      <td>0.1</td>\n",
       "      <td>612.696514</td>\n",
       "      <td>327582.0</td>\n",
       "      <td>17.5</td>\n",
       "      <td>17.5</td>\n",
       "      <td>0.476</td>\n",
       "      <td>10.0</td>\n",
       "    </tr>\n",
       "    <tr>\n",
       "      <th>2</th>\n",
       "      <td>Afghanistan</td>\n",
       "      <td>2013</td>\n",
       "      <td>Developing</td>\n",
       "      <td>59.9</td>\n",
       "      <td>268.0</td>\n",
       "      <td>66</td>\n",
       "      <td>0.01</td>\n",
       "      <td>73.219243</td>\n",
       "      <td>64.0</td>\n",
       "      <td>430</td>\n",
       "      <td>...</td>\n",
       "      <td>62.0</td>\n",
       "      <td>8.13</td>\n",
       "      <td>64.0</td>\n",
       "      <td>0.1</td>\n",
       "      <td>631.744976</td>\n",
       "      <td>31731688.0</td>\n",
       "      <td>17.7</td>\n",
       "      <td>17.7</td>\n",
       "      <td>0.470</td>\n",
       "      <td>9.9</td>\n",
       "    </tr>\n",
       "    <tr>\n",
       "      <th>3</th>\n",
       "      <td>Afghanistan</td>\n",
       "      <td>2012</td>\n",
       "      <td>Developing</td>\n",
       "      <td>59.5</td>\n",
       "      <td>272.0</td>\n",
       "      <td>69</td>\n",
       "      <td>0.01</td>\n",
       "      <td>78.184215</td>\n",
       "      <td>67.0</td>\n",
       "      <td>2787</td>\n",
       "      <td>...</td>\n",
       "      <td>67.0</td>\n",
       "      <td>8.52</td>\n",
       "      <td>67.0</td>\n",
       "      <td>0.1</td>\n",
       "      <td>669.959000</td>\n",
       "      <td>3696958.0</td>\n",
       "      <td>17.9</td>\n",
       "      <td>18.0</td>\n",
       "      <td>0.463</td>\n",
       "      <td>9.8</td>\n",
       "    </tr>\n",
       "    <tr>\n",
       "      <th>4</th>\n",
       "      <td>Afghanistan</td>\n",
       "      <td>2011</td>\n",
       "      <td>Developing</td>\n",
       "      <td>59.2</td>\n",
       "      <td>275.0</td>\n",
       "      <td>71</td>\n",
       "      <td>0.01</td>\n",
       "      <td>7.097109</td>\n",
       "      <td>68.0</td>\n",
       "      <td>3013</td>\n",
       "      <td>...</td>\n",
       "      <td>68.0</td>\n",
       "      <td>7.87</td>\n",
       "      <td>68.0</td>\n",
       "      <td>0.1</td>\n",
       "      <td>63.537231</td>\n",
       "      <td>2978599.0</td>\n",
       "      <td>18.2</td>\n",
       "      <td>18.2</td>\n",
       "      <td>0.454</td>\n",
       "      <td>9.5</td>\n",
       "    </tr>\n",
       "  </tbody>\n",
       "</table>\n",
       "<p>5 rows × 22 columns</p>\n",
       "</div>"
      ],
      "text/plain": [
       "       Country  Year      Status  target  Adult Mortality  infant deaths  \\\n",
       "0  Afghanistan  2015  Developing    65.0            263.0             62   \n",
       "1  Afghanistan  2014  Developing    59.9            271.0             64   \n",
       "2  Afghanistan  2013  Developing    59.9            268.0             66   \n",
       "3  Afghanistan  2012  Developing    59.5            272.0             69   \n",
       "4  Afghanistan  2011  Developing    59.2            275.0             71   \n",
       "\n",
       "   Alcohol  percentage expenditure  Hepatitis B  Measles   ...  Polio  \\\n",
       "0     0.01               71.279624         65.0      1154  ...    6.0   \n",
       "1     0.01               73.523582         62.0       492  ...   58.0   \n",
       "2     0.01               73.219243         64.0       430  ...   62.0   \n",
       "3     0.01               78.184215         67.0      2787  ...   67.0   \n",
       "4     0.01                7.097109         68.0      3013  ...   68.0   \n",
       "\n",
       "   Total expenditure  Diphtheria    HIV/AIDS         GDP  Population  \\\n",
       "0               8.16         65.0        0.1  584.259210  33736494.0   \n",
       "1               8.18         62.0        0.1  612.696514    327582.0   \n",
       "2               8.13         64.0        0.1  631.744976  31731688.0   \n",
       "3               8.52         67.0        0.1  669.959000   3696958.0   \n",
       "4               7.87         68.0        0.1   63.537231   2978599.0   \n",
       "\n",
       "    thinness  1-19 years   thinness 5-9 years  \\\n",
       "0                   17.2                 17.3   \n",
       "1                   17.5                 17.5   \n",
       "2                   17.7                 17.7   \n",
       "3                   17.9                 18.0   \n",
       "4                   18.2                 18.2   \n",
       "\n",
       "   Income composition of resources  Schooling  \n",
       "0                            0.479       10.1  \n",
       "1                            0.476       10.0  \n",
       "2                            0.470        9.9  \n",
       "3                            0.463        9.8  \n",
       "4                            0.454        9.5  \n",
       "\n",
       "[5 rows x 22 columns]"
      ]
     },
     "execution_count": 22,
     "metadata": {},
     "output_type": "execute_result"
    }
   ],
   "source": [
    "df_nona.head()"
   ]
  },
  {
   "cell_type": "markdown",
   "metadata": {},
   "source": [
    "## Spliting the data at the median value, and anything a above that age will be 1 for long life expectancy and 0 for low life expectancy. "
   ]
  },
  {
   "cell_type": "code",
   "execution_count": 27,
   "metadata": {},
   "outputs": [
    {
     "data": {
      "text/plain": [
       "count    1649.000000\n",
       "mean       69.302304\n",
       "std         8.796834\n",
       "min        44.000000\n",
       "25%        64.400000\n",
       "50%        71.700000\n",
       "75%        75.000000\n",
       "max        89.000000\n",
       "Name: target, dtype: float64"
      ]
     },
     "execution_count": 27,
     "metadata": {},
     "output_type": "execute_result"
    }
   ],
   "source": [
    "df_nona['target'].describe()"
   ]
  },
  {
   "cell_type": "code",
   "execution_count": 28,
   "metadata": {},
   "outputs": [],
   "source": [
    "median_age = np.median(df_nona['target'])\n",
    "df_nona['target'] = df_nona.target.apply(lambda x: 1 if x >= median_age  else 0)"
   ]
  },
  {
   "cell_type": "code",
   "execution_count": 29,
   "metadata": {},
   "outputs": [
    {
     "data": {
      "text/plain": [
       "1    828\n",
       "0    821\n",
       "Name: target, dtype: int64"
      ]
     },
     "execution_count": 29,
     "metadata": {},
     "output_type": "execute_result"
    }
   ],
   "source": [
    "df_nona.target.value_counts()"
   ]
  },
  {
   "cell_type": "code",
   "execution_count": 30,
   "metadata": {
    "scrolled": true
   },
   "outputs": [
    {
     "data": {
      "text/html": [
       "<div>\n",
       "<style scoped>\n",
       "    .dataframe tbody tr th:only-of-type {\n",
       "        vertical-align: middle;\n",
       "    }\n",
       "\n",
       "    .dataframe tbody tr th {\n",
       "        vertical-align: top;\n",
       "    }\n",
       "\n",
       "    .dataframe thead th {\n",
       "        text-align: right;\n",
       "    }\n",
       "</style>\n",
       "<table border=\"1\" class=\"dataframe\">\n",
       "  <thead>\n",
       "    <tr style=\"text-align: right;\">\n",
       "      <th></th>\n",
       "      <th>Country</th>\n",
       "      <th>Year</th>\n",
       "      <th>Status</th>\n",
       "      <th>target</th>\n",
       "      <th>Adult Mortality</th>\n",
       "      <th>infant deaths</th>\n",
       "      <th>Alcohol</th>\n",
       "      <th>percentage expenditure</th>\n",
       "      <th>Hepatitis B</th>\n",
       "      <th>Measles</th>\n",
       "      <th>...</th>\n",
       "      <th>Polio</th>\n",
       "      <th>Total expenditure</th>\n",
       "      <th>Diphtheria</th>\n",
       "      <th>HIV/AIDS</th>\n",
       "      <th>GDP</th>\n",
       "      <th>Population</th>\n",
       "      <th>thinness  1-19 years</th>\n",
       "      <th>thinness 5-9 years</th>\n",
       "      <th>Income composition of resources</th>\n",
       "      <th>Schooling</th>\n",
       "    </tr>\n",
       "  </thead>\n",
       "  <tbody>\n",
       "    <tr>\n",
       "      <th>0</th>\n",
       "      <td>Afghanistan</td>\n",
       "      <td>2015</td>\n",
       "      <td>Developing</td>\n",
       "      <td>0</td>\n",
       "      <td>263.0</td>\n",
       "      <td>62</td>\n",
       "      <td>0.01</td>\n",
       "      <td>71.279624</td>\n",
       "      <td>65.0</td>\n",
       "      <td>1154</td>\n",
       "      <td>...</td>\n",
       "      <td>6.0</td>\n",
       "      <td>8.16</td>\n",
       "      <td>65.0</td>\n",
       "      <td>0.1</td>\n",
       "      <td>584.259210</td>\n",
       "      <td>33736494.0</td>\n",
       "      <td>17.2</td>\n",
       "      <td>17.3</td>\n",
       "      <td>0.479</td>\n",
       "      <td>10.1</td>\n",
       "    </tr>\n",
       "    <tr>\n",
       "      <th>1</th>\n",
       "      <td>Afghanistan</td>\n",
       "      <td>2014</td>\n",
       "      <td>Developing</td>\n",
       "      <td>0</td>\n",
       "      <td>271.0</td>\n",
       "      <td>64</td>\n",
       "      <td>0.01</td>\n",
       "      <td>73.523582</td>\n",
       "      <td>62.0</td>\n",
       "      <td>492</td>\n",
       "      <td>...</td>\n",
       "      <td>58.0</td>\n",
       "      <td>8.18</td>\n",
       "      <td>62.0</td>\n",
       "      <td>0.1</td>\n",
       "      <td>612.696514</td>\n",
       "      <td>327582.0</td>\n",
       "      <td>17.5</td>\n",
       "      <td>17.5</td>\n",
       "      <td>0.476</td>\n",
       "      <td>10.0</td>\n",
       "    </tr>\n",
       "    <tr>\n",
       "      <th>2</th>\n",
       "      <td>Afghanistan</td>\n",
       "      <td>2013</td>\n",
       "      <td>Developing</td>\n",
       "      <td>0</td>\n",
       "      <td>268.0</td>\n",
       "      <td>66</td>\n",
       "      <td>0.01</td>\n",
       "      <td>73.219243</td>\n",
       "      <td>64.0</td>\n",
       "      <td>430</td>\n",
       "      <td>...</td>\n",
       "      <td>62.0</td>\n",
       "      <td>8.13</td>\n",
       "      <td>64.0</td>\n",
       "      <td>0.1</td>\n",
       "      <td>631.744976</td>\n",
       "      <td>31731688.0</td>\n",
       "      <td>17.7</td>\n",
       "      <td>17.7</td>\n",
       "      <td>0.470</td>\n",
       "      <td>9.9</td>\n",
       "    </tr>\n",
       "    <tr>\n",
       "      <th>3</th>\n",
       "      <td>Afghanistan</td>\n",
       "      <td>2012</td>\n",
       "      <td>Developing</td>\n",
       "      <td>0</td>\n",
       "      <td>272.0</td>\n",
       "      <td>69</td>\n",
       "      <td>0.01</td>\n",
       "      <td>78.184215</td>\n",
       "      <td>67.0</td>\n",
       "      <td>2787</td>\n",
       "      <td>...</td>\n",
       "      <td>67.0</td>\n",
       "      <td>8.52</td>\n",
       "      <td>67.0</td>\n",
       "      <td>0.1</td>\n",
       "      <td>669.959000</td>\n",
       "      <td>3696958.0</td>\n",
       "      <td>17.9</td>\n",
       "      <td>18.0</td>\n",
       "      <td>0.463</td>\n",
       "      <td>9.8</td>\n",
       "    </tr>\n",
       "    <tr>\n",
       "      <th>4</th>\n",
       "      <td>Afghanistan</td>\n",
       "      <td>2011</td>\n",
       "      <td>Developing</td>\n",
       "      <td>0</td>\n",
       "      <td>275.0</td>\n",
       "      <td>71</td>\n",
       "      <td>0.01</td>\n",
       "      <td>7.097109</td>\n",
       "      <td>68.0</td>\n",
       "      <td>3013</td>\n",
       "      <td>...</td>\n",
       "      <td>68.0</td>\n",
       "      <td>7.87</td>\n",
       "      <td>68.0</td>\n",
       "      <td>0.1</td>\n",
       "      <td>63.537231</td>\n",
       "      <td>2978599.0</td>\n",
       "      <td>18.2</td>\n",
       "      <td>18.2</td>\n",
       "      <td>0.454</td>\n",
       "      <td>9.5</td>\n",
       "    </tr>\n",
       "  </tbody>\n",
       "</table>\n",
       "<p>5 rows × 22 columns</p>\n",
       "</div>"
      ],
      "text/plain": [
       "       Country  Year      Status  target  Adult Mortality  infant deaths  \\\n",
       "0  Afghanistan  2015  Developing       0            263.0             62   \n",
       "1  Afghanistan  2014  Developing       0            271.0             64   \n",
       "2  Afghanistan  2013  Developing       0            268.0             66   \n",
       "3  Afghanistan  2012  Developing       0            272.0             69   \n",
       "4  Afghanistan  2011  Developing       0            275.0             71   \n",
       "\n",
       "   Alcohol  percentage expenditure  Hepatitis B  Measles   ...  Polio  \\\n",
       "0     0.01               71.279624         65.0      1154  ...    6.0   \n",
       "1     0.01               73.523582         62.0       492  ...   58.0   \n",
       "2     0.01               73.219243         64.0       430  ...   62.0   \n",
       "3     0.01               78.184215         67.0      2787  ...   67.0   \n",
       "4     0.01                7.097109         68.0      3013  ...   68.0   \n",
       "\n",
       "   Total expenditure  Diphtheria    HIV/AIDS         GDP  Population  \\\n",
       "0               8.16         65.0        0.1  584.259210  33736494.0   \n",
       "1               8.18         62.0        0.1  612.696514    327582.0   \n",
       "2               8.13         64.0        0.1  631.744976  31731688.0   \n",
       "3               8.52         67.0        0.1  669.959000   3696958.0   \n",
       "4               7.87         68.0        0.1   63.537231   2978599.0   \n",
       "\n",
       "    thinness  1-19 years   thinness 5-9 years  \\\n",
       "0                   17.2                 17.3   \n",
       "1                   17.5                 17.5   \n",
       "2                   17.7                 17.7   \n",
       "3                   17.9                 18.0   \n",
       "4                   18.2                 18.2   \n",
       "\n",
       "   Income composition of resources  Schooling  \n",
       "0                            0.479       10.1  \n",
       "1                            0.476       10.0  \n",
       "2                            0.470        9.9  \n",
       "3                            0.463        9.8  \n",
       "4                            0.454        9.5  \n",
       "\n",
       "[5 rows x 22 columns]"
      ]
     },
     "execution_count": 30,
     "metadata": {},
     "output_type": "execute_result"
    }
   ],
   "source": [
    "df_nona.head()"
   ]
  },
  {
   "cell_type": "markdown",
   "metadata": {},
   "source": [
    "## Checking stationarity with respect to the year column "
   ]
  },
  {
   "cell_type": "code",
   "execution_count": 25,
   "metadata": {
    "collapsed": true
   },
   "outputs": [
    {
     "data": {
      "text/plain": [
       "Index(['Country', 'Year', 'Status', 'Life expectancy ', 'Adult Mortality',\n",
       "       'infant deaths', 'Alcohol', 'percentage expenditure', 'Hepatitis B',\n",
       "       'Measles ', ' BMI ', 'under-five deaths ', 'Polio', 'Total expenditure',\n",
       "       'Diphtheria ', ' HIV/AIDS', 'GDP', 'Population',\n",
       "       ' thinness  1-19 years', ' thinness 5-9 years',\n",
       "       'Income composition of resources', 'Schooling'],\n",
       "      dtype='object')"
      ]
     },
     "execution_count": 25,
     "metadata": {},
     "output_type": "execute_result"
    }
   ],
   "source": [
    "df_nona.columns"
   ]
  },
  {
   "cell_type": "code",
   "execution_count": null,
   "metadata": {},
   "outputs": [],
   "source": []
  },
  {
   "cell_type": "code",
   "execution_count": 32,
   "metadata": {},
   "outputs": [],
   "source": [
    "df_target_0=df_nona[df_nona['target']==0]\n",
    "df_target_1=df_nona[df_nona['target']==1]\n",
    "\n"
   ]
  },
  {
   "cell_type": "code",
   "execution_count": 38,
   "metadata": {},
   "outputs": [
    {
     "data": {
      "text/plain": [
       "73"
      ]
     },
     "execution_count": 38,
     "metadata": {},
     "output_type": "execute_result"
    }
   ],
   "source": [
    "df_target_1.Country.nunique()"
   ]
  },
  {
   "cell_type": "code",
   "execution_count": 37,
   "metadata": {},
   "outputs": [
    {
     "data": {
      "text/plain": [
       "89"
      ]
     },
     "execution_count": 37,
     "metadata": {},
     "output_type": "execute_result"
    }
   ],
   "source": [
    "df_target_0.Country.nunique()"
   ]
  },
  {
   "cell_type": "code",
   "execution_count": 34,
   "metadata": {},
   "outputs": [
    {
     "data": {
      "text/plain": [
       "(828, 22)"
      ]
     },
     "execution_count": 34,
     "metadata": {},
     "output_type": "execute_result"
    }
   ],
   "source": [
    "df_target_1.shape"
   ]
  },
  {
   "cell_type": "code",
   "execution_count": 51,
   "metadata": {
    "collapsed": true
   },
   "outputs": [
    {
     "name": "stdout",
     "output_type": "stream",
     "text": [
      "Afghanistan\n",
      "Albania\n",
      "Algeria\n",
      "Angola\n",
      "Argentina\n",
      "Armenia\n",
      "Australia\n",
      "Austria\n",
      "Azerbaijan\n",
      "Bangladesh\n",
      "Belarus\n",
      "Belgium\n",
      "Belize\n",
      "Benin\n",
      "Bhutan\n",
      "Bosnia and Herzegovina\n",
      "Botswana\n",
      "Brazil\n",
      "Bulgaria\n",
      "Burkina Faso\n",
      "Burundi\n",
      "Cabo Verde\n",
      "Cambodia\n",
      "Cameroon\n",
      "Canada\n",
      "Central African Republic\n",
      "Chad\n",
      "Chile\n",
      "China\n",
      "Colombia\n",
      "Comoros\n",
      "Costa Rica\n",
      "Croatia\n",
      "Cyprus\n",
      "Djibouti\n",
      "Dominican Republic\n",
      "Ecuador\n",
      "El Salvador\n",
      "Equatorial Guinea\n",
      "Eritrea\n",
      "Estonia\n",
      "Ethiopia\n",
      "Fiji\n",
      "France\n",
      "Gabon\n",
      "Georgia\n",
      "Germany\n",
      "Ghana\n",
      "Greece\n",
      "Guatemala\n",
      "Guinea\n",
      "Guinea-Bissau\n",
      "Guyana\n",
      "Haiti\n",
      "Honduras\n",
      "India\n",
      "Indonesia\n",
      "Iraq\n",
      "Ireland\n",
      "Israel\n",
      "Italy\n",
      "Jamaica\n",
      "Jordan\n",
      "Kazakhstan\n",
      "Kenya\n",
      "Kiribati\n",
      "Latvia\n",
      "Lebanon\n",
      "Lesotho\n",
      "Liberia\n",
      "Lithuania\n",
      "Luxembourg\n",
      "Madagascar\n",
      "Malawi\n",
      "Malaysia\n",
      "Maldives\n",
      "Mali\n",
      "Malta\n",
      "Mauritania\n",
      "Mauritius\n",
      "Mexico\n",
      "Mongolia\n",
      "Montenegro\n",
      "Morocco\n",
      "Mozambique\n",
      "Myanmar\n",
      "Namibia\n",
      "Nepal\n",
      "Netherlands\n",
      "Nicaragua\n",
      "Niger\n",
      "Nigeria\n",
      "Pakistan\n",
      "Panama\n",
      "Papua New Guinea\n",
      "Paraguay\n",
      "Peru\n",
      "Philippines\n",
      "Poland\n",
      "Portugal\n",
      "Romania\n",
      "Russian Federation\n",
      "Rwanda\n",
      "Samoa\n",
      "Sao Tome and Principe\n",
      "Senegal\n",
      "Serbia\n",
      "Seychelles\n",
      "Sierra Leone\n",
      "Solomon Islands\n",
      "South Africa\n",
      "Spain\n",
      "Sri Lanka\n",
      "Suriname\n",
      "Swaziland\n",
      "Sweden\n",
      "Syrian Arab Republic\n",
      "Tajikistan\n",
      "Thailand\n",
      "Timor-Leste\n",
      "Togo\n",
      "Tonga\n",
      "Trinidad and Tobago\n",
      "Tunisia\n",
      "Turkey\n",
      "Turkmenistan\n",
      "Uganda\n",
      "Ukraine\n",
      "Uruguay\n",
      "Uzbekistan\n",
      "Vanuatu\n",
      "Zambia\n",
      "Zimbabwe\n"
     ]
    }
   ],
   "source": [
    "# Count records the number of countries which are stationary\n",
    "# The countries printed below (20% of all of our countries in total) may not be stationary -- the life expectancy changed\n",
    "count_high = 0 \n",
    "count_low=0\n",
    "for country in df_nona['Country'].unique() : \n",
    "    check = df_nona.loc[df_nona['Country']== country, 'target'].nunique()\n",
    "    if (check == 1):  # if country is in high life expectancy group, check 1, else 0 (print country name); \n",
    "        #so, countries that are 0 over the 15 years are stationary;\n",
    "      \n",
    "        count_high +=1\n",
    "        print(country)\n",
    "    else:\n",
    "        count_low+=1\n",
    "        print(country)"
   ]
  },
  {
   "cell_type": "code",
   "execution_count": 49,
   "metadata": {},
   "outputs": [
    {
     "data": {
      "text/plain": [
       "104"
      ]
     },
     "execution_count": 49,
     "metadata": {},
     "output_type": "execute_result"
    }
   ],
   "source": [
    "count_high\n",
    "\n"
   ]
  },
  {
   "cell_type": "code",
   "execution_count": 50,
   "metadata": {},
   "outputs": [
    {
     "data": {
      "text/plain": [
       "29"
      ]
     },
     "execution_count": 50,
     "metadata": {},
     "output_type": "execute_result"
    }
   ],
   "source": [
    "count_low"
   ]
  },
  {
   "cell_type": "code",
   "execution_count": 28,
   "metadata": {
    "scrolled": true
   },
   "outputs": [
    {
     "data": {
      "text/plain": [
       "0.7819548872180451"
      ]
     },
     "execution_count": 28,
     "metadata": {},
     "output_type": "execute_result"
    }
   ],
   "source": [
    "count / df_nona['Country'].nunique()"
   ]
  },
  {
   "cell_type": "markdown",
   "metadata": {},
   "source": [
    "## Finding #1:\n",
    "### For 80% of the countries, life-expectency remained stationary. 20% may be non-stationary but overall have a small effect. Thus the life-expectancy does not depend on year. \n",
    "<br/>\n"
   ]
  },
  {
   "cell_type": "markdown",
   "metadata": {},
   "source": [
    "## Get dummies for status column (categorical)"
   ]
  },
  {
   "cell_type": "code",
   "execution_count": 45,
   "metadata": {
    "scrolled": true
   },
   "outputs": [
    {
     "data": {
      "text/html": [
       "<div>\n",
       "<style scoped>\n",
       "    .dataframe tbody tr th:only-of-type {\n",
       "        vertical-align: middle;\n",
       "    }\n",
       "\n",
       "    .dataframe tbody tr th {\n",
       "        vertical-align: top;\n",
       "    }\n",
       "\n",
       "    .dataframe thead th {\n",
       "        text-align: right;\n",
       "    }\n",
       "</style>\n",
       "<table border=\"1\" class=\"dataframe\">\n",
       "  <thead>\n",
       "    <tr style=\"text-align: right;\">\n",
       "      <th></th>\n",
       "      <th>Country</th>\n",
       "      <th>Year</th>\n",
       "      <th>Status</th>\n",
       "      <th>target</th>\n",
       "      <th>Adult Mortality</th>\n",
       "      <th>infant deaths</th>\n",
       "      <th>Alcohol</th>\n",
       "      <th>percentage expenditure</th>\n",
       "      <th>Hepatitis B</th>\n",
       "      <th>Measles</th>\n",
       "      <th>...</th>\n",
       "      <th>GDP</th>\n",
       "      <th>Population</th>\n",
       "      <th>thinness  1-19 years</th>\n",
       "      <th>thinness 5-9 years</th>\n",
       "      <th>Income composition of resources</th>\n",
       "      <th>Schooling</th>\n",
       "      <th>Developed</th>\n",
       "      <th>Developing</th>\n",
       "      <th>Developed</th>\n",
       "      <th>Developing</th>\n",
       "    </tr>\n",
       "  </thead>\n",
       "  <tbody>\n",
       "    <tr>\n",
       "      <th>0</th>\n",
       "      <td>Afghanistan</td>\n",
       "      <td>2015</td>\n",
       "      <td>Developing</td>\n",
       "      <td>0</td>\n",
       "      <td>263.0</td>\n",
       "      <td>62</td>\n",
       "      <td>0.01</td>\n",
       "      <td>71.279624</td>\n",
       "      <td>65.0</td>\n",
       "      <td>1154</td>\n",
       "      <td>...</td>\n",
       "      <td>584.259210</td>\n",
       "      <td>33736494.0</td>\n",
       "      <td>17.2</td>\n",
       "      <td>17.3</td>\n",
       "      <td>0.479</td>\n",
       "      <td>10.1</td>\n",
       "      <td>0</td>\n",
       "      <td>1</td>\n",
       "      <td>0</td>\n",
       "      <td>1</td>\n",
       "    </tr>\n",
       "    <tr>\n",
       "      <th>1</th>\n",
       "      <td>Afghanistan</td>\n",
       "      <td>2014</td>\n",
       "      <td>Developing</td>\n",
       "      <td>0</td>\n",
       "      <td>271.0</td>\n",
       "      <td>64</td>\n",
       "      <td>0.01</td>\n",
       "      <td>73.523582</td>\n",
       "      <td>62.0</td>\n",
       "      <td>492</td>\n",
       "      <td>...</td>\n",
       "      <td>612.696514</td>\n",
       "      <td>327582.0</td>\n",
       "      <td>17.5</td>\n",
       "      <td>17.5</td>\n",
       "      <td>0.476</td>\n",
       "      <td>10.0</td>\n",
       "      <td>0</td>\n",
       "      <td>1</td>\n",
       "      <td>0</td>\n",
       "      <td>1</td>\n",
       "    </tr>\n",
       "    <tr>\n",
       "      <th>2</th>\n",
       "      <td>Afghanistan</td>\n",
       "      <td>2013</td>\n",
       "      <td>Developing</td>\n",
       "      <td>0</td>\n",
       "      <td>268.0</td>\n",
       "      <td>66</td>\n",
       "      <td>0.01</td>\n",
       "      <td>73.219243</td>\n",
       "      <td>64.0</td>\n",
       "      <td>430</td>\n",
       "      <td>...</td>\n",
       "      <td>631.744976</td>\n",
       "      <td>31731688.0</td>\n",
       "      <td>17.7</td>\n",
       "      <td>17.7</td>\n",
       "      <td>0.470</td>\n",
       "      <td>9.9</td>\n",
       "      <td>0</td>\n",
       "      <td>1</td>\n",
       "      <td>0</td>\n",
       "      <td>1</td>\n",
       "    </tr>\n",
       "    <tr>\n",
       "      <th>3</th>\n",
       "      <td>Afghanistan</td>\n",
       "      <td>2012</td>\n",
       "      <td>Developing</td>\n",
       "      <td>0</td>\n",
       "      <td>272.0</td>\n",
       "      <td>69</td>\n",
       "      <td>0.01</td>\n",
       "      <td>78.184215</td>\n",
       "      <td>67.0</td>\n",
       "      <td>2787</td>\n",
       "      <td>...</td>\n",
       "      <td>669.959000</td>\n",
       "      <td>3696958.0</td>\n",
       "      <td>17.9</td>\n",
       "      <td>18.0</td>\n",
       "      <td>0.463</td>\n",
       "      <td>9.8</td>\n",
       "      <td>0</td>\n",
       "      <td>1</td>\n",
       "      <td>0</td>\n",
       "      <td>1</td>\n",
       "    </tr>\n",
       "    <tr>\n",
       "      <th>4</th>\n",
       "      <td>Afghanistan</td>\n",
       "      <td>2011</td>\n",
       "      <td>Developing</td>\n",
       "      <td>0</td>\n",
       "      <td>275.0</td>\n",
       "      <td>71</td>\n",
       "      <td>0.01</td>\n",
       "      <td>7.097109</td>\n",
       "      <td>68.0</td>\n",
       "      <td>3013</td>\n",
       "      <td>...</td>\n",
       "      <td>63.537231</td>\n",
       "      <td>2978599.0</td>\n",
       "      <td>18.2</td>\n",
       "      <td>18.2</td>\n",
       "      <td>0.454</td>\n",
       "      <td>9.5</td>\n",
       "      <td>0</td>\n",
       "      <td>1</td>\n",
       "      <td>0</td>\n",
       "      <td>1</td>\n",
       "    </tr>\n",
       "  </tbody>\n",
       "</table>\n",
       "<p>5 rows × 26 columns</p>\n",
       "</div>"
      ],
      "text/plain": [
       "       Country  Year      Status  target  Adult Mortality  infant deaths  \\\n",
       "0  Afghanistan  2015  Developing       0            263.0             62   \n",
       "1  Afghanistan  2014  Developing       0            271.0             64   \n",
       "2  Afghanistan  2013  Developing       0            268.0             66   \n",
       "3  Afghanistan  2012  Developing       0            272.0             69   \n",
       "4  Afghanistan  2011  Developing       0            275.0             71   \n",
       "\n",
       "   Alcohol  percentage expenditure  Hepatitis B  Measles   ...         GDP  \\\n",
       "0     0.01               71.279624         65.0      1154  ...  584.259210   \n",
       "1     0.01               73.523582         62.0       492  ...  612.696514   \n",
       "2     0.01               73.219243         64.0       430  ...  631.744976   \n",
       "3     0.01               78.184215         67.0      2787  ...  669.959000   \n",
       "4     0.01                7.097109         68.0      3013  ...   63.537231   \n",
       "\n",
       "   Population   thinness  1-19 years   thinness 5-9 years  \\\n",
       "0  33736494.0                   17.2                 17.3   \n",
       "1    327582.0                   17.5                 17.5   \n",
       "2  31731688.0                   17.7                 17.7   \n",
       "3   3696958.0                   17.9                 18.0   \n",
       "4   2978599.0                   18.2                 18.2   \n",
       "\n",
       "   Income composition of resources  Schooling  Developed  Developing  \\\n",
       "0                            0.479       10.1          0           1   \n",
       "1                            0.476       10.0          0           1   \n",
       "2                            0.470        9.9          0           1   \n",
       "3                            0.463        9.8          0           1   \n",
       "4                            0.454        9.5          0           1   \n",
       "\n",
       "   Developed  Developing  \n",
       "0          0           1  \n",
       "1          0           1  \n",
       "2          0           1  \n",
       "3          0           1  \n",
       "4          0           1  \n",
       "\n",
       "[5 rows x 26 columns]"
      ]
     },
     "execution_count": 45,
     "metadata": {},
     "output_type": "execute_result"
    }
   ],
   "source": [
    "#developed = 0, developing =1\n",
    "#look into dropping one\n",
    "df_nona = pd.concat([df_nona, pd.get_dummies(df_nona['Status'])], axis=1)\n",
    "df_nona.head()"
   ]
  },
  {
   "cell_type": "markdown",
   "metadata": {},
   "source": [
    "## Dropping old status column "
   ]
  },
  {
   "cell_type": "code",
   "execution_count": 30,
   "metadata": {},
   "outputs": [
    {
     "data": {
      "text/html": [
       "<div>\n",
       "<style scoped>\n",
       "    .dataframe tbody tr th:only-of-type {\n",
       "        vertical-align: middle;\n",
       "    }\n",
       "\n",
       "    .dataframe tbody tr th {\n",
       "        vertical-align: top;\n",
       "    }\n",
       "\n",
       "    .dataframe thead th {\n",
       "        text-align: right;\n",
       "    }\n",
       "</style>\n",
       "<table border=\"1\" class=\"dataframe\">\n",
       "  <thead>\n",
       "    <tr style=\"text-align: right;\">\n",
       "      <th></th>\n",
       "      <th>Country</th>\n",
       "      <th>Year</th>\n",
       "      <th>target</th>\n",
       "      <th>Adult Mortality</th>\n",
       "      <th>infant deaths</th>\n",
       "      <th>Alcohol</th>\n",
       "      <th>percentage expenditure</th>\n",
       "      <th>Hepatitis B</th>\n",
       "      <th>Measles</th>\n",
       "      <th>BMI</th>\n",
       "      <th>...</th>\n",
       "      <th>Diphtheria</th>\n",
       "      <th>HIV/AIDS</th>\n",
       "      <th>GDP</th>\n",
       "      <th>Population</th>\n",
       "      <th>thinness  1-19 years</th>\n",
       "      <th>thinness 5-9 years</th>\n",
       "      <th>Income composition of resources</th>\n",
       "      <th>Schooling</th>\n",
       "      <th>Developed</th>\n",
       "      <th>Developing</th>\n",
       "    </tr>\n",
       "  </thead>\n",
       "  <tbody>\n",
       "    <tr>\n",
       "      <th>0</th>\n",
       "      <td>Afghanistan</td>\n",
       "      <td>2015</td>\n",
       "      <td>0</td>\n",
       "      <td>263.0</td>\n",
       "      <td>62</td>\n",
       "      <td>0.01</td>\n",
       "      <td>71.279624</td>\n",
       "      <td>65.0</td>\n",
       "      <td>1154</td>\n",
       "      <td>19.1</td>\n",
       "      <td>...</td>\n",
       "      <td>65.0</td>\n",
       "      <td>0.1</td>\n",
       "      <td>584.259210</td>\n",
       "      <td>33736494.0</td>\n",
       "      <td>17.2</td>\n",
       "      <td>17.3</td>\n",
       "      <td>0.479</td>\n",
       "      <td>10.1</td>\n",
       "      <td>0</td>\n",
       "      <td>1</td>\n",
       "    </tr>\n",
       "    <tr>\n",
       "      <th>1</th>\n",
       "      <td>Afghanistan</td>\n",
       "      <td>2014</td>\n",
       "      <td>0</td>\n",
       "      <td>271.0</td>\n",
       "      <td>64</td>\n",
       "      <td>0.01</td>\n",
       "      <td>73.523582</td>\n",
       "      <td>62.0</td>\n",
       "      <td>492</td>\n",
       "      <td>18.6</td>\n",
       "      <td>...</td>\n",
       "      <td>62.0</td>\n",
       "      <td>0.1</td>\n",
       "      <td>612.696514</td>\n",
       "      <td>327582.0</td>\n",
       "      <td>17.5</td>\n",
       "      <td>17.5</td>\n",
       "      <td>0.476</td>\n",
       "      <td>10.0</td>\n",
       "      <td>0</td>\n",
       "      <td>1</td>\n",
       "    </tr>\n",
       "    <tr>\n",
       "      <th>2</th>\n",
       "      <td>Afghanistan</td>\n",
       "      <td>2013</td>\n",
       "      <td>0</td>\n",
       "      <td>268.0</td>\n",
       "      <td>66</td>\n",
       "      <td>0.01</td>\n",
       "      <td>73.219243</td>\n",
       "      <td>64.0</td>\n",
       "      <td>430</td>\n",
       "      <td>18.1</td>\n",
       "      <td>...</td>\n",
       "      <td>64.0</td>\n",
       "      <td>0.1</td>\n",
       "      <td>631.744976</td>\n",
       "      <td>31731688.0</td>\n",
       "      <td>17.7</td>\n",
       "      <td>17.7</td>\n",
       "      <td>0.470</td>\n",
       "      <td>9.9</td>\n",
       "      <td>0</td>\n",
       "      <td>1</td>\n",
       "    </tr>\n",
       "    <tr>\n",
       "      <th>3</th>\n",
       "      <td>Afghanistan</td>\n",
       "      <td>2012</td>\n",
       "      <td>0</td>\n",
       "      <td>272.0</td>\n",
       "      <td>69</td>\n",
       "      <td>0.01</td>\n",
       "      <td>78.184215</td>\n",
       "      <td>67.0</td>\n",
       "      <td>2787</td>\n",
       "      <td>17.6</td>\n",
       "      <td>...</td>\n",
       "      <td>67.0</td>\n",
       "      <td>0.1</td>\n",
       "      <td>669.959000</td>\n",
       "      <td>3696958.0</td>\n",
       "      <td>17.9</td>\n",
       "      <td>18.0</td>\n",
       "      <td>0.463</td>\n",
       "      <td>9.8</td>\n",
       "      <td>0</td>\n",
       "      <td>1</td>\n",
       "    </tr>\n",
       "    <tr>\n",
       "      <th>4</th>\n",
       "      <td>Afghanistan</td>\n",
       "      <td>2011</td>\n",
       "      <td>0</td>\n",
       "      <td>275.0</td>\n",
       "      <td>71</td>\n",
       "      <td>0.01</td>\n",
       "      <td>7.097109</td>\n",
       "      <td>68.0</td>\n",
       "      <td>3013</td>\n",
       "      <td>17.2</td>\n",
       "      <td>...</td>\n",
       "      <td>68.0</td>\n",
       "      <td>0.1</td>\n",
       "      <td>63.537231</td>\n",
       "      <td>2978599.0</td>\n",
       "      <td>18.2</td>\n",
       "      <td>18.2</td>\n",
       "      <td>0.454</td>\n",
       "      <td>9.5</td>\n",
       "      <td>0</td>\n",
       "      <td>1</td>\n",
       "    </tr>\n",
       "  </tbody>\n",
       "</table>\n",
       "<p>5 rows × 23 columns</p>\n",
       "</div>"
      ],
      "text/plain": [
       "       Country  Year  target  Adult Mortality  infant deaths  Alcohol  \\\n",
       "0  Afghanistan  2015       0            263.0             62     0.01   \n",
       "1  Afghanistan  2014       0            271.0             64     0.01   \n",
       "2  Afghanistan  2013       0            268.0             66     0.01   \n",
       "3  Afghanistan  2012       0            272.0             69     0.01   \n",
       "4  Afghanistan  2011       0            275.0             71     0.01   \n",
       "\n",
       "   percentage expenditure  Hepatitis B  Measles    BMI   ...  Diphtheria   \\\n",
       "0               71.279624         65.0      1154   19.1  ...         65.0   \n",
       "1               73.523582         62.0       492   18.6  ...         62.0   \n",
       "2               73.219243         64.0       430   18.1  ...         64.0   \n",
       "3               78.184215         67.0      2787   17.6  ...         67.0   \n",
       "4                7.097109         68.0      3013   17.2  ...         68.0   \n",
       "\n",
       "    HIV/AIDS         GDP  Population   thinness  1-19 years  \\\n",
       "0        0.1  584.259210  33736494.0                   17.2   \n",
       "1        0.1  612.696514    327582.0                   17.5   \n",
       "2        0.1  631.744976  31731688.0                   17.7   \n",
       "3        0.1  669.959000   3696958.0                   17.9   \n",
       "4        0.1   63.537231   2978599.0                   18.2   \n",
       "\n",
       "    thinness 5-9 years  Income composition of resources  Schooling  Developed  \\\n",
       "0                 17.3                            0.479       10.1          0   \n",
       "1                 17.5                            0.476       10.0          0   \n",
       "2                 17.7                            0.470        9.9          0   \n",
       "3                 18.0                            0.463        9.8          0   \n",
       "4                 18.2                            0.454        9.5          0   \n",
       "\n",
       "   Developing  \n",
       "0           1  \n",
       "1           1  \n",
       "2           1  \n",
       "3           1  \n",
       "4           1  \n",
       "\n",
       "[5 rows x 23 columns]"
      ]
     },
     "execution_count": 30,
     "metadata": {},
     "output_type": "execute_result"
    }
   ],
   "source": [
    "df_nona.drop(['Status'], axis=1, inplace=True)\n",
    "df_nona.head()"
   ]
  },
  {
   "cell_type": "markdown",
   "metadata": {},
   "source": [
    "# Machine Learning"
   ]
  },
  {
   "cell_type": "code",
   "execution_count": 31,
   "metadata": {},
   "outputs": [
    {
     "data": {
      "text/plain": [
       "0.5181347150259067"
      ]
     },
     "execution_count": 31,
     "metadata": {},
     "output_type": "execute_result"
    }
   ],
   "source": [
    "all_countries = df.Country.unique()\n",
    "# Choose random countries\n",
    "num_countries_to_withhold = 100\n",
    "withhold_countries = set([])\n",
    "while len(withhold_countries) < num_countries_to_withhold:\n",
    "    # Get a random integer so we can choose a random country\n",
    "    withhold_countries.add(all_countries[randint(0, len(all_countries) - 1)])\n",
    "\n",
    "withhold_countries = list(withhold_countries)\n",
    "training_countries = [country for country in all_countries if (country not in withhold_countries)]\n",
    "\n",
    "\n",
    "df_country_split_a = df_nona[df_nona['Country'].isin(training_countries)]\n",
    "df_country_split_b = df_nona[df_nona['Country'].isin(withhold_countries)]\n",
    "\n",
    "num_countries_to_withhold/len(all_countries)"
   ]
  },
  {
   "cell_type": "code",
   "execution_count": 32,
   "metadata": {
    "scrolled": true
   },
   "outputs": [
    {
     "data": {
      "text/plain": [
       "0.5181347150259067"
      ]
     },
     "execution_count": 32,
     "metadata": {},
     "output_type": "execute_result"
    }
   ],
   "source": [
    "num_countries_to_withhold/len(all_countries)"
   ]
  },
  {
   "cell_type": "markdown",
   "metadata": {},
   "source": [
    "#### We only train the model on 50% of our countries to check whether the country has an effect on life-expectency. "
   ]
  },
  {
   "cell_type": "markdown",
   "metadata": {},
   "source": [
    "## Define X and y\n",
    "We train on group a and predict on group b"
   ]
  },
  {
   "cell_type": "code",
   "execution_count": 33,
   "metadata": {},
   "outputs": [],
   "source": [
    "y = df_country_split_a['target']\n",
    "X = df_country_split_a.drop(['target'], axis=1)"
   ]
  },
  {
   "cell_type": "code",
   "execution_count": 34,
   "metadata": {},
   "outputs": [],
   "source": [
    "X.drop(['Country'], axis=1, inplace = True)"
   ]
  },
  {
   "cell_type": "markdown",
   "metadata": {},
   "source": [
    "## Split data "
   ]
  },
  {
   "cell_type": "code",
   "execution_count": 35,
   "metadata": {},
   "outputs": [],
   "source": [
    "X_train, X_test, y_train, y_test = train_test_split(X, y, random_state=1)"
   ]
  },
  {
   "cell_type": "markdown",
   "metadata": {},
   "source": [
    "## Decision Tree"
   ]
  },
  {
   "cell_type": "code",
   "execution_count": 36,
   "metadata": {},
   "outputs": [
    {
     "data": {
      "text/plain": [
       "DecisionTreeClassifier(class_weight=None, criterion='gini', max_depth=None,\n",
       "            max_features=None, max_leaf_nodes=None,\n",
       "            min_impurity_decrease=0.0, min_impurity_split=None,\n",
       "            min_samples_leaf=1, min_samples_split=2,\n",
       "            min_weight_fraction_leaf=0.0, presort=False, random_state=10,\n",
       "            splitter='best')"
      ]
     },
     "execution_count": 36,
     "metadata": {},
     "output_type": "execute_result"
    }
   ],
   "source": [
    "classifier = DecisionTreeClassifier(random_state=10)  \n",
    "classifier.fit(X_train, y_train) "
   ]
  },
  {
   "cell_type": "code",
   "execution_count": 37,
   "metadata": {},
   "outputs": [],
   "source": [
    "y_pred = classifier.predict(X_test)  "
   ]
  },
  {
   "cell_type": "code",
   "execution_count": 38,
   "metadata": {},
   "outputs": [
    {
     "name": "stdout",
     "output_type": "stream",
     "text": [
      "Accuracy is :91.58878504672897\n",
      "\n",
      "AUC is :0.92\n",
      "\n",
      "Confusion Matrix\n",
      "----------------\n"
     ]
    },
    {
     "data": {
      "text/html": [
       "<div>\n",
       "<style scoped>\n",
       "    .dataframe tbody tr th:only-of-type {\n",
       "        vertical-align: middle;\n",
       "    }\n",
       "\n",
       "    .dataframe tbody tr th {\n",
       "        vertical-align: top;\n",
       "    }\n",
       "\n",
       "    .dataframe thead th {\n",
       "        text-align: right;\n",
       "    }\n",
       "</style>\n",
       "<table border=\"1\" class=\"dataframe\">\n",
       "  <thead>\n",
       "    <tr style=\"text-align: right;\">\n",
       "      <th>Predicted</th>\n",
       "      <th>0</th>\n",
       "      <th>1</th>\n",
       "      <th>All</th>\n",
       "    </tr>\n",
       "    <tr>\n",
       "      <th>True</th>\n",
       "      <th></th>\n",
       "      <th></th>\n",
       "      <th></th>\n",
       "    </tr>\n",
       "  </thead>\n",
       "  <tbody>\n",
       "    <tr>\n",
       "      <th>0</th>\n",
       "      <td>80</td>\n",
       "      <td>7</td>\n",
       "      <td>87</td>\n",
       "    </tr>\n",
       "    <tr>\n",
       "      <th>1</th>\n",
       "      <td>11</td>\n",
       "      <td>116</td>\n",
       "      <td>127</td>\n",
       "    </tr>\n",
       "    <tr>\n",
       "      <th>All</th>\n",
       "      <td>91</td>\n",
       "      <td>123</td>\n",
       "      <td>214</td>\n",
       "    </tr>\n",
       "  </tbody>\n",
       "</table>\n",
       "</div>"
      ],
      "text/plain": [
       "Predicted   0    1  All\n",
       "True                   \n",
       "0          80    7   87\n",
       "1          11  116  127\n",
       "All        91  123  214"
      ]
     },
     "execution_count": 38,
     "metadata": {},
     "output_type": "execute_result"
    }
   ],
   "source": [
    "acc = accuracy_score(y_test,y_pred) * 100\n",
    "print(\"Accuracy is :{0}\".format(acc))\n",
    "\n",
    "# Check the AUC for predictions\n",
    "false_positive_rate, true_positive_rate, thresholds = roc_curve(y_test, y_pred)\n",
    "roc_auc = auc(false_positive_rate, true_positive_rate)\n",
    "print(\"\\nAUC is :{0}\".format(round(roc_auc,2)))\n",
    "\n",
    "# Create and print a confusion matrix \n",
    "print('\\nConfusion Matrix')\n",
    "print('----------------')\n",
    "pd.crosstab(y_test, y_pred, rownames=['True'], colnames=['Predicted'], margins=True)"
   ]
  },
  {
   "cell_type": "code",
   "execution_count": 39,
   "metadata": {},
   "outputs": [],
   "source": [
    "# The model misclassified 33 rows"
   ]
  },
  {
   "cell_type": "code",
   "execution_count": 40,
   "metadata": {},
   "outputs": [
    {
     "data": {
      "text/plain": [
       "array([0.01249006, 0.55207962, 0.02332484, 0.02791288, 0.02810623,\n",
       "       0.01071951, 0.0041687 , 0.        , 0.        , 0.00568459,\n",
       "       0.02785731, 0.        , 0.02921379, 0.01854008, 0.01425174,\n",
       "       0.00586223, 0.02582653, 0.17762839, 0.03427809, 0.0020554 ,\n",
       "       0.        ])"
      ]
     },
     "execution_count": 40,
     "metadata": {},
     "output_type": "execute_result"
    }
   ],
   "source": [
    "classifier.feature_importances_"
   ]
  },
  {
   "cell_type": "code",
   "execution_count": 41,
   "metadata": {},
   "outputs": [
    {
     "data": {
      "image/png": "[encoded data removed]",
      "text/plain": [
       "<Figure size 576x576 with 1 Axes>"
      ]
     },
     "metadata": {
      "needs_background": "light"
     },
     "output_type": "display_data"
    }
   ],
   "source": [
    "classifier.feature_importances_\n",
    "def plot_feature_importances(model):\n",
    "    n_features = X_train.shape[1]\n",
    "    plt.figure(figsize=(8,8))\n",
    "    plt.barh(range(n_features), model.feature_importances_, align='center') \n",
    "    plt.yticks(np.arange(n_features), X_train.columns.values) \n",
    "    plt.xlabel(\"Feature importance\")\n",
    "    plt.ylabel(\"Feature\")\n",
    "\n",
    "plot_feature_importances(classifier)"
   ]
  },
  {
   "cell_type": "markdown",
   "metadata": {},
   "source": [
    "The Income composition of resources which is the Human Development Index combines education, life expectency, and GNI index (economic factor). "
   ]
  },
  {
   "cell_type": "markdown",
   "metadata": {},
   "source": [
    "## Random Forrest  \n",
    "without Income composition of resources and Adult Mortality"
   ]
  },
  {
   "cell_type": "code",
   "execution_count": 42,
   "metadata": {},
   "outputs": [],
   "source": [
    "y\n",
    "X.drop(['Adult Mortality','Income composition of resources','Year'], axis=1, inplace=True)\n"
   ]
  },
  {
   "cell_type": "code",
   "execution_count": 43,
   "metadata": {},
   "outputs": [],
   "source": [
    "X_train, X_test, y_train, y_test = train_test_split(X, y, random_state=1)"
   ]
  },
  {
   "cell_type": "code",
   "execution_count": 44,
   "metadata": {},
   "outputs": [
    {
     "data": {
      "text/plain": [
       "RandomForestClassifier(bootstrap=True, class_weight=None, criterion='gini',\n",
       "            max_depth=5, max_features='auto', max_leaf_nodes=None,\n",
       "            min_impurity_decrease=0.0, min_impurity_split=None,\n",
       "            min_samples_leaf=1, min_samples_split=2,\n",
       "            min_weight_fraction_leaf=0.0, n_estimators=100, n_jobs=None,\n",
       "            oob_score=False, random_state=None, verbose=0,\n",
       "            warm_start=False)"
      ]
     },
     "execution_count": 44,
     "metadata": {},
     "output_type": "execute_result"
    }
   ],
   "source": [
    "forest = RandomForestClassifier(n_estimators=100, max_depth= 5)\n",
    "forest.fit(X_train, y_train)"
   ]
  },
  {
   "cell_type": "code",
   "execution_count": 45,
   "metadata": {},
   "outputs": [
    {
     "data": {
      "text/plain": [
       "0.9516380655226209"
      ]
     },
     "execution_count": 45,
     "metadata": {},
     "output_type": "execute_result"
    }
   ],
   "source": [
    "forest.score(X_train, y_train)"
   ]
  },
  {
   "cell_type": "code",
   "execution_count": 46,
   "metadata": {
    "scrolled": false
   },
   "outputs": [
    {
     "data": {
      "text/plain": [
       "0.9345794392523364"
      ]
     },
     "execution_count": 46,
     "metadata": {},
     "output_type": "execute_result"
    }
   ],
   "source": [
    "forest.score(X_test, y_test)"
   ]
  },
  {
   "cell_type": "markdown",
   "metadata": {},
   "source": [
    "### Finding: \n",
    "#### Our model performed very good, no sign of overfitting (which would have given us a lower test score/accuracy). "
   ]
  },
  {
   "cell_type": "markdown",
   "metadata": {},
   "source": [
    "### Feature Importance for Random Forest"
   ]
  },
  {
   "cell_type": "code",
   "execution_count": 47,
   "metadata": {},
   "outputs": [
    {
     "data": {
      "image/png": "[encoded data removed]",
      "text/plain": [
       "<Figure size 576x576 with 1 Axes>"
      ]
     },
     "metadata": {
      "needs_background": "light"
     },
     "output_type": "display_data"
    }
   ],
   "source": [
    "plot_feature_importances(forest)"
   ]
  },
  {
   "cell_type": "markdown",
   "metadata": {},
   "source": [
    "## Grid search to optimize the random forest model"
   ]
  },
  {
   "cell_type": "code",
   "execution_count": 76,
   "metadata": {},
   "outputs": [],
   "source": [
    "param_grid = {\n",
    "    'n_estimators': [30, 100, 300],\n",
    "    'min_samples_split': [2, 4, 6],\n",
    "    'min_samples_leaf': [2, 4, 6]\n",
    "}"
   ]
  },
  {
   "cell_type": "code",
   "execution_count": 49,
   "metadata": {},
   "outputs": [
    {
     "data": {
      "text/plain": [
       "{'min_samples_leaf': 2, 'min_samples_split': 4, 'n_estimators': 30}"
      ]
     },
     "execution_count": 49,
     "metadata": {},
     "output_type": "execute_result"
    }
   ],
   "source": [
    "gs = GridSearchCV(forest, param_grid, cv=5)\n",
    "gs.fit(X_train, y_train)\n",
    "gs.score(X_test, y_test)\n",
    "gs.best_params_"
   ]
  },
  {
   "cell_type": "code",
   "execution_count": 50,
   "metadata": {},
   "outputs": [
    {
     "data": {
      "text/plain": [
       "0.9485981308411215"
      ]
     },
     "execution_count": 50,
     "metadata": {},
     "output_type": "execute_result"
    }
   ],
   "source": [
    "gs.score(X_test, y_test)\n"
   ]
  },
  {
   "cell_type": "code",
   "execution_count": 51,
   "metadata": {},
   "outputs": [
    {
     "data": {
      "text/plain": [
       "0.9110764430577223"
      ]
     },
     "execution_count": 51,
     "metadata": {},
     "output_type": "execute_result"
    }
   ],
   "source": [
    "gs.best_score_"
   ]
  },
  {
   "cell_type": "code",
   "execution_count": 77,
   "metadata": {},
   "outputs": [
    {
     "data": {
      "text/plain": [
       "RandomForestClassifier(bootstrap=True, class_weight=None, criterion='gini',\n",
       "            max_depth=5, max_features='auto', max_leaf_nodes=None,\n",
       "            min_impurity_decrease=0.0, min_impurity_split=None,\n",
       "            min_samples_leaf=2, min_samples_split=4,\n",
       "            min_weight_fraction_leaf=0.0, n_estimators=30, n_jobs=None,\n",
       "            oob_score=False, random_state=None, verbose=0,\n",
       "            warm_start=False)"
      ]
     },
     "execution_count": 77,
     "metadata": {},
     "output_type": "execute_result"
    }
   ],
   "source": [
    "forest2 = RandomForestClassifier(min_samples_split=4, min_samples_leaf=2, n_estimators=30, max_depth= 5)\n",
    "forest2.fit(X_train, y_train)"
   ]
  },
  {
   "cell_type": "code",
   "execution_count": 78,
   "metadata": {},
   "outputs": [
    {
     "data": {
      "text/plain": [
       "0.9516380655226209"
      ]
     },
     "execution_count": 78,
     "metadata": {},
     "output_type": "execute_result"
    }
   ],
   "source": [
    "forest2.score(X_train, y_train)"
   ]
  },
  {
   "cell_type": "code",
   "execution_count": 79,
   "metadata": {},
   "outputs": [
    {
     "data": {
      "text/plain": [
       "0.9345794392523364"
      ]
     },
     "execution_count": 79,
     "metadata": {},
     "output_type": "execute_result"
    }
   ],
   "source": [
    "forest2.score(X_test, y_test)"
   ]
  },
  {
   "cell_type": "code",
   "execution_count": 80,
   "metadata": {},
   "outputs": [
    {
     "data": {
      "image/png": "[encoded data removed]",
      "text/plain": [
       "<Figure size 576x576 with 1 Axes>"
      ]
     },
     "metadata": {
      "needs_background": "light"
     },
     "output_type": "display_data"
    }
   ],
   "source": [
    "plot_feature_importances(forest2)"
   ]
  },
  {
   "cell_type": "markdown",
   "metadata": {},
   "source": [
    "## Predict life expectancy for group B\n",
    "\n",
    "We want to see how the model performs when presented with data from countries it has never seen. If the performance doesn't drop much, the country has little effect on the life expectancy."
   ]
  },
  {
   "cell_type": "code",
   "execution_count": 53,
   "metadata": {},
   "outputs": [
    {
     "ename": "NameError",
     "evalue": "name 'df_country_split_b' is not defined",
     "output_type": "error",
     "traceback": [
      "\u001b[0;31m---------------------------------------------------------------------------\u001b[0m",
      "\u001b[0;31mNameError\u001b[0m                                 Traceback (most recent call last)",
      "\u001b[0;32m<ipython-input-53-763e0052c944>\u001b[0m in \u001b[0;36m<module>\u001b[0;34m\u001b[0m\n\u001b[0;32m----> 1\u001b[0;31m \u001b[0mdf_country_split_b\u001b[0m\u001b[0;34m.\u001b[0m\u001b[0mhead\u001b[0m\u001b[0;34m(\u001b[0m\u001b[0;36m90\u001b[0m\u001b[0;34m)\u001b[0m\u001b[0;34m\u001b[0m\u001b[0;34m\u001b[0m\u001b[0m\n\u001b[0m",
      "\u001b[0;31mNameError\u001b[0m: name 'df_country_split_b' is not defined"
     ]
    }
   ],
   "source": [
    "df_country_split_b.head(90)"
   ]
  },
  {
   "cell_type": "code",
   "execution_count": 57,
   "metadata": {
    "scrolled": true
   },
   "outputs": [
    {
     "name": "stdout",
     "output_type": "stream",
     "text": [
      "Accuracy is :94.50292397660819\n",
      "\n",
      "AUC is :0.94\n",
      "\n",
      "Confusion Matrix\n",
      "----------------\n"
     ]
    },
    {
     "data": {
      "text/html": [
       "<div>\n",
       "<style scoped>\n",
       "    .dataframe tbody tr th:only-of-type {\n",
       "        vertical-align: middle;\n",
       "    }\n",
       "\n",
       "    .dataframe tbody tr th {\n",
       "        vertical-align: top;\n",
       "    }\n",
       "\n",
       "    .dataframe thead th {\n",
       "        text-align: right;\n",
       "    }\n",
       "</style>\n",
       "<table border=\"1\" class=\"dataframe\">\n",
       "  <thead>\n",
       "    <tr style=\"text-align: right;\">\n",
       "      <th>Predicted</th>\n",
       "      <th>0</th>\n",
       "      <th>1</th>\n",
       "      <th>All</th>\n",
       "    </tr>\n",
       "    <tr>\n",
       "      <th>True</th>\n",
       "      <th></th>\n",
       "      <th></th>\n",
       "      <th></th>\n",
       "    </tr>\n",
       "  </thead>\n",
       "  <tbody>\n",
       "    <tr>\n",
       "      <th>0</th>\n",
       "      <td>357</td>\n",
       "      <td>36</td>\n",
       "      <td>393</td>\n",
       "    </tr>\n",
       "    <tr>\n",
       "      <th>1</th>\n",
       "      <td>11</td>\n",
       "      <td>451</td>\n",
       "      <td>462</td>\n",
       "    </tr>\n",
       "    <tr>\n",
       "      <th>All</th>\n",
       "      <td>368</td>\n",
       "      <td>487</td>\n",
       "      <td>855</td>\n",
       "    </tr>\n",
       "  </tbody>\n",
       "</table>\n",
       "</div>"
      ],
      "text/plain": [
       "Predicted    0    1  All\n",
       "True                    \n",
       "0          357   36  393\n",
       "1           11  451  462\n",
       "All        368  487  855"
      ]
     },
     "execution_count": 57,
     "metadata": {},
     "output_type": "execute_result"
    }
   ],
   "source": [
    "y_test_2 = df_country_split_a['target']\n",
    "X_test_2 = df_country_split_a.drop(['Country', 'target','Adult Mortality','Income composition of resources', 'Year'], axis=1)\n",
    "y_pred_2 = forest2.predict(X_test_2)\n",
    "\n",
    "acc = accuracy_score(y_test_2,y_pred_2) * 100\n",
    "print(\"Accuracy is :{0}\".format(acc))\n",
    "\n",
    "# Check the AUC for predictions\n",
    "false_positive_rate, true_positive_rate, thresholds = roc_curve(y_test_2, y_pred_2)\n",
    "roc_auc = auc(false_positive_rate, true_positive_rate)\n",
    "print(\"\\nAUC is :{0}\".format(round(roc_auc,2)))\n",
    "\n",
    "# Create and print a confusion matrix \n",
    "print('\\nConfusion Matrix')\n",
    "print('----------------')\n",
    "pd.crosstab(y_test_2, y_pred_2, rownames=['True'], colnames=['Predicted'], margins=True)"
   ]
  },
  {
   "cell_type": "markdown",
   "metadata": {},
   "source": [
    "\n",
    "It's 88% accurate on countries it is never seen before when 70 countries (36%) were completely withheld from training. \n",
    "\n",
    "When we increased the number to 100 countries (trained on the remaining), the accuracy dropped to 85%\n",
    "\n"
   ]
  },
  {
   "cell_type": "markdown",
   "metadata": {},
   "source": [
    "## Using cross-validation pipeline"
   ]
  },
  {
   "cell_type": "code",
   "execution_count": 58,
   "metadata": {},
   "outputs": [],
   "source": [
    "classifier_pipeline = make_pipeline(preprocessing.StandardScaler(), svm.SVC(C=1))"
   ]
  },
  {
   "cell_type": "code",
   "execution_count": 59,
   "metadata": {},
   "outputs": [],
   "source": [
    "# KFold/StratifiedKFold cross validation with 3 folds (the default)\n",
    "# applying the classifier pipeline to the feature and target data\n",
    "scores =cross_val_score(classifier_pipeline, X, y, cv=3)\n"
   ]
  },
  {
   "cell_type": "code",
   "execution_count": 60,
   "metadata": {},
   "outputs": [
    {
     "data": {
      "text/plain": [
       "array([0.70175439, 0.87368421, 0.77894737])"
      ]
     },
     "execution_count": 60,
     "metadata": {},
     "output_type": "execute_result"
    }
   ],
   "source": [
    "#These are the different accuracy scores for given k-values\n",
    "scores"
   ]
  },
  {
   "cell_type": "code",
   "execution_count": 61,
   "metadata": {},
   "outputs": [
    {
     "data": {
      "text/plain": [
       "0.7847953216374268"
      ]
     },
     "execution_count": 61,
     "metadata": {},
     "output_type": "execute_result"
    }
   ],
   "source": [
    "scores.mean()"
   ]
  },
  {
   "cell_type": "markdown",
   "metadata": {},
   "source": [
    "### Conclusion:\n",
    "### From our correlations, we see that AIDS negatively impacts life-expectancy, and schooling positively impacts life-expectancy. So if you are suffering from low life-expectancy in your country, then tweaking them (perhaps logistic regression coefficient weights would tell us how much to tweak these) would help improve your country's life expectancy and overall population trend. "
   ]
  },
  {
   "cell_type": "code",
   "execution_count": null,
   "metadata": {},
   "outputs": [],
   "source": []
  },
  {
   "cell_type": "code",
   "execution_count": null,
   "metadata": {},
   "outputs": [],
   "source": []
  }
 ],
 "metadata": {
  "kernelspec": {
   "display_name": "Python 3",
   "language": "python",
   "name": "python3"
  },
  "language_info": {
   "codemirror_mode": {
    "name": "ipython",
    "version": 3
   },
   "file_extension": ".py",
   "mimetype": "text/x-python",
   "name": "python",
   "nbconvert_exporter": "python",
   "pygments_lexer": "ipython3",
   "version": "3.7.3"
  }
 },
 "nbformat": 4,
 "nbformat_minor": 2
}
